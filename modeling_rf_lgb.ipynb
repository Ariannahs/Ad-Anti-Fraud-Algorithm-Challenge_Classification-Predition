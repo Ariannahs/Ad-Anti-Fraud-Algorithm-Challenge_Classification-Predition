{
 "cells": [
  {
   "cell_type": "markdown",
   "metadata": {},
   "source": [
    "# Mobile Ad Anti-Fraud Algorithm Challenge Modeling (rf, lightgbm)\n",
    "\n",
    "## 移动广告反欺诈算法挑战赛 数据建模 - 2019 科大讯飞 A.I.开发者挑战赛"
   ]
  },
  {
   "cell_type": "markdown",
   "metadata": {},
   "source": [
    "-- Date:   25 Aug 2019  \n",
    "-- Author:   Arianna.H"
   ]
  },
  {
   "cell_type": "markdown",
   "metadata": {},
   "source": [
    "___"
   ]
  },
  {
   "cell_type": "markdown",
   "metadata": {},
   "source": [
    "## 5.Modeling"
   ]
  },
  {
   "cell_type": "code",
   "execution_count": 1,
   "metadata": {},
   "outputs": [],
   "source": [
    "from IPython.core.interactiveshell import InteractiveShell\n",
    "InteractiveShell.ast_node_interactivity = \"all\"  #display multiple outputs in one cell"
   ]
  },
  {
   "cell_type": "code",
   "execution_count": 2,
   "metadata": {},
   "outputs": [],
   "source": [
    "import pandas as pd\n",
    "import numpy as np\n",
    "import matplotlib.pyplot as plt  #plot\n",
    "\n",
    "from sklearn.model_selection import train_test_split  #split\n",
    "from sklearn.model_selection import GridSearchCV\n",
    "from sklearn.metrics import roc_curve\n",
    "from sklearn.metrics import roc_auc_score\n",
    "from sklearn.metrics import classification_report\n",
    "from sklearn.metrics import auc\n",
    "from sklearn.metrics import precision_score\n",
    "from sklearn.metrics import recall_score\n",
    "from sklearn.metrics import f1_score\n",
    "\n",
    "from sklearn.ensemble import RandomForestClassifier\n",
    "#from sklearn import svm  #svm\n",
    "from catboost import CatBoostClassifier  #catboost\n",
    "import lightgbm as lgb  #lightgbm\n",
    "\n",
    "pd.set_option('display.max_columns', 1000)  #display all columns in dataframe\n",
    "pd.set_option('display.max_rows', 1000)  #display all rows in dataframe"
   ]
  },
  {
   "cell_type": "code",
   "execution_count": 3,
   "metadata": {},
   "outputs": [],
   "source": [
    "df = pd.read_csv('round1_iflyad_anticheat_train_clean.csv')"
   ]
  },
  {
   "cell_type": "code",
   "execution_count": 4,
   "metadata": {},
   "outputs": [
    {
     "data": {
      "text/plain": [
       "(1000000, 41)"
      ]
     },
     "execution_count": 4,
     "metadata": {},
     "output_type": "execute_result"
    },
    {
     "data": {
      "text/html": [
       "<div>\n",
       "<style scoped>\n",
       "    .dataframe tbody tr th:only-of-type {\n",
       "        vertical-align: middle;\n",
       "    }\n",
       "\n",
       "    .dataframe tbody tr th {\n",
       "        vertical-align: top;\n",
       "    }\n",
       "\n",
       "    .dataframe thead th {\n",
       "        text-align: right;\n",
       "    }\n",
       "</style>\n",
       "<table border=\"1\" class=\"dataframe\">\n",
       "  <thead>\n",
       "    <tr style=\"text-align: right;\">\n",
       "      <th></th>\n",
       "      <th>label</th>\n",
       "      <th>pkgname</th>\n",
       "      <th>adunitshowid</th>\n",
       "      <th>mediashowid</th>\n",
       "      <th>apptype</th>\n",
       "      <th>city</th>\n",
       "      <th>province</th>\n",
       "      <th>adidmd5</th>\n",
       "      <th>imeimd5</th>\n",
       "      <th>idfamd5</th>\n",
       "      <th>openudidmd5</th>\n",
       "      <th>macmd5</th>\n",
       "      <th>dvctype</th>\n",
       "      <th>model</th>\n",
       "      <th>make</th>\n",
       "      <th>ntt</th>\n",
       "      <th>carrier</th>\n",
       "      <th>os</th>\n",
       "      <th>orientation</th>\n",
       "      <th>lan</th>\n",
       "      <th>h</th>\n",
       "      <th>w</th>\n",
       "      <th>ppi</th>\n",
       "      <th>date</th>\n",
       "      <th>dayofweek</th>\n",
       "      <th>hour</th>\n",
       "      <th>minute</th>\n",
       "      <th>hourtosecond</th>\n",
       "      <th>ip_top</th>\n",
       "      <th>reqrealip_top</th>\n",
       "      <th>apptype_top1</th>\n",
       "      <th>apptype_top2</th>\n",
       "      <th>h_w</th>\n",
       "      <th>hw_ratio</th>\n",
       "      <th>inch</th>\n",
       "      <th>osv_top1</th>\n",
       "      <th>osv_top2</th>\n",
       "      <th>osv_top3</th>\n",
       "      <th>ver_top1</th>\n",
       "      <th>ver_top2</th>\n",
       "      <th>ver_top3</th>\n",
       "    </tr>\n",
       "  </thead>\n",
       "  <tbody>\n",
       "    <tr>\n",
       "      <th>0</th>\n",
       "      <td>1</td>\n",
       "      <td>226</td>\n",
       "      <td>907</td>\n",
       "      <td>645</td>\n",
       "      <td>280.0</td>\n",
       "      <td>229</td>\n",
       "      <td>17</td>\n",
       "      <td>407</td>\n",
       "      <td>930</td>\n",
       "      <td>0</td>\n",
       "      <td>0</td>\n",
       "      <td>962</td>\n",
       "      <td>2.0</td>\n",
       "      <td>6202</td>\n",
       "      <td>816</td>\n",
       "      <td>2.0</td>\n",
       "      <td>46000.0</td>\n",
       "      <td>0</td>\n",
       "      <td>0.0</td>\n",
       "      <td>9</td>\n",
       "      <td>2340.0</td>\n",
       "      <td>1080.0</td>\n",
       "      <td>3.0</td>\n",
       "      <td>9</td>\n",
       "      <td>7</td>\n",
       "      <td>14</td>\n",
       "      <td>31</td>\n",
       "      <td>143141</td>\n",
       "      <td>183</td>\n",
       "      <td>180</td>\n",
       "      <td>2</td>\n",
       "      <td>28</td>\n",
       "      <td>2527200.0</td>\n",
       "      <td>2.2</td>\n",
       "      <td>859.1</td>\n",
       "      <td>8</td>\n",
       "      <td>81</td>\n",
       "      <td>810</td>\n",
       "      <td>1</td>\n",
       "      <td>11</td>\n",
       "      <td>111</td>\n",
       "    </tr>\n",
       "    <tr>\n",
       "      <th>1</th>\n",
       "      <td>1</td>\n",
       "      <td>0</td>\n",
       "      <td>101</td>\n",
       "      <td>325</td>\n",
       "      <td>319.0</td>\n",
       "      <td>119</td>\n",
       "      <td>18</td>\n",
       "      <td>466</td>\n",
       "      <td>638</td>\n",
       "      <td>0</td>\n",
       "      <td>466</td>\n",
       "      <td>60</td>\n",
       "      <td>2.0</td>\n",
       "      <td>602</td>\n",
       "      <td>332</td>\n",
       "      <td>5.0</td>\n",
       "      <td>0.0</td>\n",
       "      <td>1</td>\n",
       "      <td>0.0</td>\n",
       "      <td>6</td>\n",
       "      <td>1080.0</td>\n",
       "      <td>2040.0</td>\n",
       "      <td>0.0</td>\n",
       "      <td>9</td>\n",
       "      <td>7</td>\n",
       "      <td>3</td>\n",
       "      <td>25</td>\n",
       "      <td>32540</td>\n",
       "      <td>106</td>\n",
       "      <td>47</td>\n",
       "      <td>3</td>\n",
       "      <td>31</td>\n",
       "      <td>2203200.0</td>\n",
       "      <td>0.5</td>\n",
       "      <td>0.0</td>\n",
       "      <td>9</td>\n",
       "      <td>9</td>\n",
       "      <td>9</td>\n",
       "      <td>0</td>\n",
       "      <td>0</td>\n",
       "      <td>0</td>\n",
       "    </tr>\n",
       "    <tr>\n",
       "      <th>2</th>\n",
       "      <td>0</td>\n",
       "      <td>168</td>\n",
       "      <td>832</td>\n",
       "      <td>728</td>\n",
       "      <td>273.0</td>\n",
       "      <td>296</td>\n",
       "      <td>5</td>\n",
       "      <td>340</td>\n",
       "      <td>342</td>\n",
       "      <td>0</td>\n",
       "      <td>0</td>\n",
       "      <td>511</td>\n",
       "      <td>2.0</td>\n",
       "      <td>4816</td>\n",
       "      <td>572</td>\n",
       "      <td>2.0</td>\n",
       "      <td>46000.0</td>\n",
       "      <td>0</td>\n",
       "      <td>1.0</td>\n",
       "      <td>9</td>\n",
       "      <td>2196.0</td>\n",
       "      <td>1080.0</td>\n",
       "      <td>0.0</td>\n",
       "      <td>9</td>\n",
       "      <td>7</td>\n",
       "      <td>14</td>\n",
       "      <td>5</td>\n",
       "      <td>140545</td>\n",
       "      <td>223</td>\n",
       "      <td>39</td>\n",
       "      <td>2</td>\n",
       "      <td>27</td>\n",
       "      <td>2371680.0</td>\n",
       "      <td>2.0</td>\n",
       "      <td>0.0</td>\n",
       "      <td>8</td>\n",
       "      <td>81</td>\n",
       "      <td>810</td>\n",
       "      <td>3</td>\n",
       "      <td>32</td>\n",
       "      <td>321</td>\n",
       "    </tr>\n",
       "  </tbody>\n",
       "</table>\n",
       "</div>"
      ],
      "text/plain": [
       "   label  pkgname  adunitshowid  mediashowid  apptype  city  province  \\\n",
       "0      1      226           907          645    280.0   229        17   \n",
       "1      1        0           101          325    319.0   119        18   \n",
       "2      0      168           832          728    273.0   296         5   \n",
       "\n",
       "   adidmd5  imeimd5  idfamd5  openudidmd5  macmd5  dvctype  model  make  ntt  \\\n",
       "0      407      930        0            0     962      2.0   6202   816  2.0   \n",
       "1      466      638        0          466      60      2.0    602   332  5.0   \n",
       "2      340      342        0            0     511      2.0   4816   572  2.0   \n",
       "\n",
       "   carrier  os  orientation  lan       h       w  ppi  date  dayofweek  hour  \\\n",
       "0  46000.0   0          0.0    9  2340.0  1080.0  3.0     9          7    14   \n",
       "1      0.0   1          0.0    6  1080.0  2040.0  0.0     9          7     3   \n",
       "2  46000.0   0          1.0    9  2196.0  1080.0  0.0     9          7    14   \n",
       "\n",
       "   minute  hourtosecond  ip_top  reqrealip_top  apptype_top1  apptype_top2  \\\n",
       "0      31        143141     183            180             2            28   \n",
       "1      25         32540     106             47             3            31   \n",
       "2       5        140545     223             39             2            27   \n",
       "\n",
       "         h_w  hw_ratio   inch  osv_top1  osv_top2  osv_top3  ver_top1  \\\n",
       "0  2527200.0       2.2  859.1         8        81       810         1   \n",
       "1  2203200.0       0.5    0.0         9         9         9         0   \n",
       "2  2371680.0       2.0    0.0         8        81       810         3   \n",
       "\n",
       "   ver_top2  ver_top3  \n",
       "0        11       111  \n",
       "1         0         0  \n",
       "2        32       321  "
      ]
     },
     "execution_count": 4,
     "metadata": {},
     "output_type": "execute_result"
    }
   ],
   "source": [
    "df.shape\n",
    "df.head(3)"
   ]
  },
  {
   "cell_type": "markdown",
   "metadata": {},
   "source": [
    "___"
   ]
  },
  {
   "cell_type": "markdown",
   "metadata": {},
   "source": [
    "### Split train and validation set"
   ]
  },
  {
   "cell_type": "code",
   "execution_count": 7,
   "metadata": {},
   "outputs": [],
   "source": [
    "traindata_x = df.drop(['label'],axis=1)\n",
    "traindata_y = df['label']\n",
    "x_train,x_test,y_train,y_test = train_test_split(traindata_x,traindata_y,train_size=.9,random_state=20,shuffle=True)"
   ]
  },
  {
   "cell_type": "code",
   "execution_count": 8,
   "metadata": {},
   "outputs": [
    {
     "name": "stdout",
     "output_type": "stream",
     "text": [
      "(900000, 40) (900000,) (100000, 40) (100000,)\n"
     ]
    }
   ],
   "source": [
    "print(x_train.shape,y_train.shape,x_test.shape,y_test.shape)"
   ]
  },
  {
   "cell_type": "markdown",
   "metadata": {},
   "source": [
    "### Tune RandomForest Model"
   ]
  },
  {
   "cell_type": "markdown",
   "metadata": {},
   "source": [
    "Best parameters by rf: {'min_samples_leaf': 2, 'n_estimators': 500, cv=3}  \n",
    "Best f1 score is : 0.932953"
   ]
  },
  {
   "cell_type": "code",
   "execution_count": 36,
   "metadata": {
    "scrolled": true
   },
   "outputs": [
    {
     "name": "stdout",
     "output_type": "stream",
     "text": [
      "# Tuning hyper-parameters for ['f1_macro']\n",
      "\n",
      "Fitting 3 folds for each of 6 candidates, totalling 18 fits\n"
     ]
    },
    {
     "name": "stderr",
     "output_type": "stream",
     "text": [
      "[Parallel(n_jobs=1)]: Using backend SequentialBackend with 1 concurrent workers.\n",
      "[Parallel(n_jobs=1)]: Using backend SequentialBackend with 1 concurrent workers.\n",
      "[Parallel(n_jobs=1)]: Done  50 out of  50 | elapsed:  1.8min finished\n",
      "[Parallel(n_jobs=1)]: Using backend SequentialBackend with 1 concurrent workers.\n",
      "[Parallel(n_jobs=1)]: Done  50 out of  50 | elapsed:    4.5s finished\n",
      "[Parallel(n_jobs=1)]: Using backend SequentialBackend with 1 concurrent workers.\n",
      "[Parallel(n_jobs=1)]: Done  50 out of  50 | elapsed:  1.8min finished\n",
      "[Parallel(n_jobs=1)]: Using backend SequentialBackend with 1 concurrent workers.\n",
      "[Parallel(n_jobs=1)]: Done  50 out of  50 | elapsed:    4.8s finished\n",
      "[Parallel(n_jobs=1)]: Using backend SequentialBackend with 1 concurrent workers.\n",
      "[Parallel(n_jobs=1)]: Done  50 out of  50 | elapsed:  1.9min finished\n",
      "[Parallel(n_jobs=1)]: Using backend SequentialBackend with 1 concurrent workers.\n",
      "[Parallel(n_jobs=1)]: Done  50 out of  50 | elapsed:    4.6s finished\n",
      "[Parallel(n_jobs=1)]: Using backend SequentialBackend with 1 concurrent workers.\n",
      "[Parallel(n_jobs=1)]: Done 100 out of 100 | elapsed:  3.6min finished\n",
      "[Parallel(n_jobs=1)]: Using backend SequentialBackend with 1 concurrent workers.\n",
      "[Parallel(n_jobs=1)]: Done 100 out of 100 | elapsed:    9.1s finished\n",
      "[Parallel(n_jobs=1)]: Using backend SequentialBackend with 1 concurrent workers.\n",
      "[Parallel(n_jobs=1)]: Done 100 out of 100 | elapsed:  3.5min finished\n",
      "[Parallel(n_jobs=1)]: Using backend SequentialBackend with 1 concurrent workers.\n",
      "[Parallel(n_jobs=1)]: Done 100 out of 100 | elapsed:    8.9s finished\n",
      "[Parallel(n_jobs=1)]: Using backend SequentialBackend with 1 concurrent workers.\n",
      "[Parallel(n_jobs=1)]: Done 100 out of 100 | elapsed:  3.5min finished\n",
      "[Parallel(n_jobs=1)]: Using backend SequentialBackend with 1 concurrent workers.\n",
      "[Parallel(n_jobs=1)]: Done 100 out of 100 | elapsed:    8.9s finished\n",
      "[Parallel(n_jobs=1)]: Using backend SequentialBackend with 1 concurrent workers.\n",
      "[Parallel(n_jobs=1)]: Done  50 out of  50 | elapsed:  1.7min finished\n",
      "[Parallel(n_jobs=1)]: Using backend SequentialBackend with 1 concurrent workers.\n",
      "[Parallel(n_jobs=1)]: Done  50 out of  50 | elapsed:    4.1s finished\n",
      "[Parallel(n_jobs=1)]: Using backend SequentialBackend with 1 concurrent workers.\n",
      "[Parallel(n_jobs=1)]: Done  50 out of  50 | elapsed:  1.7min finished\n",
      "[Parallel(n_jobs=1)]: Using backend SequentialBackend with 1 concurrent workers.\n",
      "[Parallel(n_jobs=1)]: Done  50 out of  50 | elapsed:    4.2s finished\n",
      "[Parallel(n_jobs=1)]: Using backend SequentialBackend with 1 concurrent workers.\n",
      "[Parallel(n_jobs=1)]: Done  50 out of  50 | elapsed:  1.7min finished\n",
      "[Parallel(n_jobs=1)]: Using backend SequentialBackend with 1 concurrent workers.\n",
      "[Parallel(n_jobs=1)]: Done  50 out of  50 | elapsed:    4.1s finished\n",
      "[Parallel(n_jobs=1)]: Using backend SequentialBackend with 1 concurrent workers.\n",
      "[Parallel(n_jobs=1)]: Done 100 out of 100 | elapsed:  3.4min finished\n",
      "[Parallel(n_jobs=1)]: Using backend SequentialBackend with 1 concurrent workers.\n",
      "[Parallel(n_jobs=1)]: Done 100 out of 100 | elapsed:    8.4s finished\n",
      "[Parallel(n_jobs=1)]: Using backend SequentialBackend with 1 concurrent workers.\n",
      "[Parallel(n_jobs=1)]: Done 100 out of 100 | elapsed:  3.4min finished\n",
      "[Parallel(n_jobs=1)]: Using backend SequentialBackend with 1 concurrent workers.\n",
      "[Parallel(n_jobs=1)]: Done 100 out of 100 | elapsed:    8.4s finished\n",
      "[Parallel(n_jobs=1)]: Using backend SequentialBackend with 1 concurrent workers.\n",
      "[Parallel(n_jobs=1)]: Done 100 out of 100 | elapsed:  3.4min finished\n",
      "[Parallel(n_jobs=1)]: Using backend SequentialBackend with 1 concurrent workers.\n",
      "[Parallel(n_jobs=1)]: Done 100 out of 100 | elapsed:    8.4s finished\n",
      "[Parallel(n_jobs=1)]: Using backend SequentialBackend with 1 concurrent workers.\n",
      "[Parallel(n_jobs=1)]: Done  50 out of  50 | elapsed:  1.7min finished\n",
      "[Parallel(n_jobs=1)]: Using backend SequentialBackend with 1 concurrent workers.\n",
      "[Parallel(n_jobs=1)]: Done  50 out of  50 | elapsed:    4.0s finished\n",
      "[Parallel(n_jobs=1)]: Using backend SequentialBackend with 1 concurrent workers.\n",
      "[Parallel(n_jobs=1)]: Done  50 out of  50 | elapsed:  1.7min finished\n",
      "[Parallel(n_jobs=1)]: Using backend SequentialBackend with 1 concurrent workers.\n",
      "[Parallel(n_jobs=1)]: Done  50 out of  50 | elapsed:    4.0s finished\n",
      "[Parallel(n_jobs=1)]: Using backend SequentialBackend with 1 concurrent workers.\n",
      "[Parallel(n_jobs=1)]: Done  50 out of  50 | elapsed:  1.7min finished\n",
      "[Parallel(n_jobs=1)]: Using backend SequentialBackend with 1 concurrent workers.\n",
      "[Parallel(n_jobs=1)]: Done  50 out of  50 | elapsed:    4.1s finished\n",
      "[Parallel(n_jobs=1)]: Using backend SequentialBackend with 1 concurrent workers.\n",
      "[Parallel(n_jobs=1)]: Done 100 out of 100 | elapsed:  3.5min finished\n",
      "[Parallel(n_jobs=1)]: Using backend SequentialBackend with 1 concurrent workers.\n",
      "[Parallel(n_jobs=1)]: Done 100 out of 100 | elapsed:    8.2s finished\n",
      "[Parallel(n_jobs=1)]: Using backend SequentialBackend with 1 concurrent workers.\n",
      "[Parallel(n_jobs=1)]: Done 100 out of 100 | elapsed:  3.4min finished\n",
      "[Parallel(n_jobs=1)]: Using backend SequentialBackend with 1 concurrent workers.\n",
      "[Parallel(n_jobs=1)]: Done 100 out of 100 | elapsed:    8.6s finished\n",
      "[Parallel(n_jobs=1)]: Using backend SequentialBackend with 1 concurrent workers.\n",
      "[Parallel(n_jobs=1)]: Done 100 out of 100 | elapsed:  3.5min finished\n",
      "[Parallel(n_jobs=1)]: Using backend SequentialBackend with 1 concurrent workers.\n",
      "[Parallel(n_jobs=1)]: Done 100 out of 100 | elapsed:    8.6s finished\n",
      "[Parallel(n_jobs=1)]: Done  18 out of  18 | elapsed: 49.1min finished\n",
      "[Parallel(n_jobs=1)]: Using backend SequentialBackend with 1 concurrent workers.\n",
      "[Parallel(n_jobs=1)]: Done 100 out of 100 | elapsed:  6.9min finished\n"
     ]
    },
    {
     "data": {
      "text/plain": [
       "GridSearchCV(cv=3, error_score='raise-deprecating',\n",
       "             estimator=RandomForestClassifier(bootstrap=True, class_weight=None,\n",
       "                                              criterion='gini', max_depth=None,\n",
       "                                              max_features='auto',\n",
       "                                              max_leaf_nodes=None,\n",
       "                                              min_impurity_decrease=0.0,\n",
       "                                              min_impurity_split=None,\n",
       "                                              min_samples_leaf=1,\n",
       "                                              min_samples_split=2,\n",
       "                                              min_weight_fraction_leaf=0.0,\n",
       "                                              n_estimators='warn', n_jobs=None,\n",
       "                                              oob_score=False, random_state=20,\n",
       "                                              verbose=1, warm_start=False),\n",
       "             iid='warn', n_jobs=None,\n",
       "             param_grid={'min_samples_leaf': [2, 4, 6],\n",
       "                         'n_estimators': [50, 100]},\n",
       "             pre_dispatch='2*n_jobs', refit=True, return_train_score=False,\n",
       "             scoring='recall', verbose=1)"
      ]
     },
     "execution_count": 36,
     "metadata": {},
     "output_type": "execute_result"
    },
    {
     "name": "stdout",
     "output_type": "stream",
     "text": [
      "Grid scores on development set:\n",
      "\n",
      "0.923 (+/-0.001) for {'min_samples_leaf': 2, 'n_estimators': 50}\n",
      "0.924 (+/-0.002) for {'min_samples_leaf': 2, 'n_estimators': 100}\n",
      "0.922 (+/-0.002) for {'min_samples_leaf': 4, 'n_estimators': 50}\n",
      "0.923 (+/-0.002) for {'min_samples_leaf': 4, 'n_estimators': 100}\n",
      "0.921 (+/-0.002) for {'min_samples_leaf': 6, 'n_estimators': 50}\n",
      "0.921 (+/-0.002) for {'min_samples_leaf': 6, 'n_estimators': 100}\n",
      "\n",
      "Best parameters set found on development set:\n",
      "\n",
      "{'min_samples_leaf': 2, 'n_estimators': 100}\n"
     ]
    }
   ],
   "source": [
    "# Set the parameters by cross-validation\n",
    "parameter_space = {\n",
    "    \"n_estimators\": [50,100],  \n",
    "    \"min_samples_leaf\": [2,4,6]\n",
    "}\n",
    " \n",
    "scores = ['f1_macro']\n",
    "\n",
    "# training    \n",
    "print(\"# Tuning hyper-parameters for %s\" % scores)\n",
    "print()\n",
    "\n",
    "clf = RandomForestClassifier(random_state=20, verbose=1)\n",
    "grid = GridSearchCV(clf, parameter_space, cv=3, scoring='%s' % score, n_jobs=4, verbose=1) \n",
    "grid.fit(x_train, y_train)\n",
    "\n",
    "# print results\n",
    "print(\"Grid scores on development set:\")\n",
    "print()\n",
    "\n",
    "means = grid.cv_results_['mean_test_score']\n",
    "stds = grid.cv_results_['std_test_score']\n",
    "for mean, std, params in zip(means, stds, grid.cv_results_['params']):\n",
    "    print(\"%0.3f (+/-%0.03f) for %r\" % (mean, std * 2, params))\n",
    "\n",
    "print()\n",
    "print(\"Best parameters set found on development set:\")\n",
    "print()\n",
    "print(grid.best_params_)"
   ]
  },
  {
   "cell_type": "markdown",
   "metadata": {},
   "source": [
    "### Fit GridSearch model with best parameters"
   ]
  },
  {
   "cell_type": "code",
   "execution_count": 37,
   "metadata": {},
   "outputs": [
    {
     "name": "stderr",
     "output_type": "stream",
     "text": [
      "[Parallel(n_jobs=1)]: Using backend SequentialBackend with 1 concurrent workers.\n",
      "[Parallel(n_jobs=1)]: Done 100 out of 100 | elapsed:  7.0min finished\n"
     ]
    },
    {
     "data": {
      "text/plain": [
       "RandomForestClassifier(bootstrap=True, class_weight=None, criterion='gini',\n",
       "                       max_depth=None, max_features='auto', max_leaf_nodes=None,\n",
       "                       min_impurity_decrease=0.0, min_impurity_split=None,\n",
       "                       min_samples_leaf=2, min_samples_split=2,\n",
       "                       min_weight_fraction_leaf=0.0, n_estimators=100,\n",
       "                       n_jobs=None, oob_score=False, random_state=20, verbose=1,\n",
       "                       warm_start=False)"
      ]
     },
     "execution_count": 37,
     "metadata": {},
     "output_type": "execute_result"
    },
    {
     "name": "stderr",
     "output_type": "stream",
     "text": [
      "[Parallel(n_jobs=1)]: Using backend SequentialBackend with 1 concurrent workers.\n",
      "[Parallel(n_jobs=1)]: Done 100 out of 100 | elapsed:    3.3s finished\n",
      "[Parallel(n_jobs=1)]: Using backend SequentialBackend with 1 concurrent workers.\n",
      "[Parallel(n_jobs=1)]: Done 100 out of 100 | elapsed:    3.2s finished\n"
     ]
    }
   ],
   "source": [
    "# fit best estimator {'min_samples_leaf': 2, 'n_estimators': 100}\n",
    "bclf = grid.best_estimator_\n",
    "bclf.fit(x_train, y_train)\n",
    "y_true = y_test\n",
    "y_pred = bclf.predict(x_test)\n",
    "y_pred_pro = bclf.predict_proba(x_test)\n",
    "y_scores = pd.DataFrame(y_pred_pro, columns=bclf.classes_.tolist())[1].values"
   ]
  },
  {
   "cell_type": "markdown",
   "metadata": {},
   "source": [
    "### or... fit a RandomForestClassifier"
   ]
  },
  {
   "cell_type": "code",
   "execution_count": 105,
   "metadata": {},
   "outputs": [],
   "source": [
    "# train RandomForestClassifier\n",
    "tclf = RandomForestClassifier(n_estimators=500, min_samples_leaf=2, random_state=20, n_jobs=4, verbose=1)\n",
    "md = tclf.fit(x_train, y_train)\n",
    "y_pred_t = md.predict(x_test)"
   ]
  },
  {
   "cell_type": "markdown",
   "metadata": {},
   "source": [
    "### Evaluation Metrics"
   ]
  },
  {
   "cell_type": "code",
   "execution_count": 38,
   "metadata": {},
   "outputs": [
    {
     "name": "stdout",
     "output_type": "stream",
     "text": [
      "precision_score: 0.9416607015032212\n",
      "recall_score: 0.9236917103795795\n",
      "f1_score: 0.9325896580483737\n",
      "\n",
      "              precision    recall  f1-score   support\n",
      "\n",
      "           0       0.93      0.95      0.94     51578\n",
      "           1       0.94      0.92      0.93     48422\n",
      "\n",
      "    accuracy                           0.94    100000\n",
      "   macro avg       0.94      0.93      0.94    100000\n",
      "weighted avg       0.94      0.94      0.94    100000\n",
      "\n"
     ]
    }
   ],
   "source": [
    "# precision, recall, f1 score\n",
    "p = precision_score(y_true, y_pred, average='binary')\n",
    "r = recall_score(y_true, y_pred, average='binary')\n",
    "f1score = f1_score(y_true, y_pred, average='binary')\n",
    " \n",
    "print('precision_score: %s'% p)\n",
    "print('recall_score: %s'% r)\n",
    "print('f1_score: %s'% f1score)\n",
    "print()\n",
    "print(classification_report(y_true, y_pred))"
   ]
  },
  {
   "cell_type": "code",
   "execution_count": 39,
   "metadata": {},
   "outputs": [
    {
     "data": {
      "image/png": "[encoded data removed]",
      "text/plain": [
       "<Figure size 432x288 with 1 Axes>"
      ]
     },
     "metadata": {
      "needs_background": "light"
     },
     "output_type": "display_data"
    }
   ],
   "source": [
    "# plot ROC curve\n",
    "auc_value = roc_auc_score(y_true, y_scores)\n",
    "fpr, tpr, thresholds = roc_curve(y_true, y_scores, pos_label=1.0)\n",
    "\n",
    "_ = plt.figure()\n",
    "lw = 2\n",
    "_ = plt.plot(fpr, tpr, color='darkorange', linewidth=lw, label='ROC curve (AUC = %0.4f)' % auc_value)\n",
    "_ = plt.plot([0, 1], [0, 1], color='navy', linewidth=lw, linestyle='--')\n",
    "_ = plt.xlim([0.0, 1.0])\n",
    "_ = plt.ylim([0.0, 1.0])\n",
    "_ = plt.xlabel('False Positive Rate')\n",
    "_ = plt.ylabel('True Positive Rate')\n",
    "_ = plt.title('Receiver Operating Characteristic')\n",
    "_ = plt.legend(loc=\"lower right\")\n",
    "_ = plt.show()"
   ]
  },
  {
   "cell_type": "code",
   "execution_count": 40,
   "metadata": {},
   "outputs": [
    {
     "data": {
      "text/html": [
       "<div>\n",
       "<style scoped>\n",
       "    .dataframe tbody tr th:only-of-type {\n",
       "        vertical-align: middle;\n",
       "    }\n",
       "\n",
       "    .dataframe tbody tr th {\n",
       "        vertical-align: top;\n",
       "    }\n",
       "\n",
       "    .dataframe thead th {\n",
       "        text-align: right;\n",
       "    }\n",
       "</style>\n",
       "<table border=\"1\" class=\"dataframe\">\n",
       "  <thead>\n",
       "    <tr style=\"text-align: right;\">\n",
       "      <th></th>\n",
       "      <th>features</th>\n",
       "      <th>importances</th>\n",
       "    </tr>\n",
       "  </thead>\n",
       "  <tbody>\n",
       "    <tr>\n",
       "      <th>32</th>\n",
       "      <td>hw_ratio</td>\n",
       "      <td>0.103679</td>\n",
       "    </tr>\n",
       "    <tr>\n",
       "      <th>13</th>\n",
       "      <td>make</td>\n",
       "      <td>0.070076</td>\n",
       "    </tr>\n",
       "    <tr>\n",
       "      <th>34</th>\n",
       "      <td>osv_top1</td>\n",
       "      <td>0.061514</td>\n",
       "    </tr>\n",
       "    <tr>\n",
       "      <th>11</th>\n",
       "      <td>dvctype</td>\n",
       "      <td>0.055653</td>\n",
       "    </tr>\n",
       "    <tr>\n",
       "      <th>12</th>\n",
       "      <td>model</td>\n",
       "      <td>0.053382</td>\n",
       "    </tr>\n",
       "    <tr>\n",
       "      <th>35</th>\n",
       "      <td>osv_top2</td>\n",
       "      <td>0.041739</td>\n",
       "    </tr>\n",
       "    <tr>\n",
       "      <th>2</th>\n",
       "      <td>mediashowid</td>\n",
       "      <td>0.038484</td>\n",
       "    </tr>\n",
       "    <tr>\n",
       "      <th>3</th>\n",
       "      <td>apptype</td>\n",
       "      <td>0.038272</td>\n",
       "    </tr>\n",
       "    <tr>\n",
       "      <th>36</th>\n",
       "      <td>osv_top3</td>\n",
       "      <td>0.035865</td>\n",
       "    </tr>\n",
       "    <tr>\n",
       "      <th>30</th>\n",
       "      <td>apptype_top2</td>\n",
       "      <td>0.035042</td>\n",
       "    </tr>\n",
       "  </tbody>\n",
       "</table>\n",
       "</div>"
      ],
      "text/plain": [
       "        features  importances\n",
       "32      hw_ratio     0.103679\n",
       "13          make     0.070076\n",
       "34      osv_top1     0.061514\n",
       "11       dvctype     0.055653\n",
       "12         model     0.053382\n",
       "35      osv_top2     0.041739\n",
       "2    mediashowid     0.038484\n",
       "3        apptype     0.038272\n",
       "36      osv_top3     0.035865\n",
       "30  apptype_top2     0.035042"
      ]
     },
     "execution_count": 40,
     "metadata": {},
     "output_type": "execute_result"
    }
   ],
   "source": [
    "# feature importance\n",
    "features = df.columns[1:]\n",
    "importances = bclf.feature_importances_\n",
    "indices = np.argsort(importances)\n",
    "\n",
    "feature_importance = pd.DataFrame()\n",
    "feature_importance['features'] = features\n",
    "feature_importance['importances'] = importances\n",
    "feature_importance.sort_values(by='importances',ascending=False).head(10)\n",
    "#feature_importance.sort_values(by='importances',ascending=False).features.head(10)\n",
    "\n",
    "# for name, importance in zip(features, importances):\n",
    "#     print(name, \"=\", importance)"
   ]
  },
  {
   "cell_type": "code",
   "execution_count": 75,
   "metadata": {},
   "outputs": [
    {
     "data": {
      "image/png": "[encoded data removed]",
      "text/plain": [
       "<Figure size 576x468 with 1 Axes>"
      ]
     },
     "metadata": {
      "needs_background": "light"
     },
     "output_type": "display_data"
    }
   ],
   "source": [
    "# plot feature importance\n",
    "fig = plt.figure()\n",
    "fig.set_size_inches(8,6.5)\n",
    "_ = plt.title('Feature Importances', fontsize='x-large')\n",
    "_ = plt.barh(range(len(indices)), importances[indices], color='xkcd:lightblue', align='center')\n",
    "_ = plt.yticks(range(len(indices)), [features[i] for i in indices], fontsize='medium')\n",
    "_ = plt.xlabel('Relative Importance')\n",
    "fig.tight_layout()\n",
    "plt.show()"
   ]
  },
  {
   "cell_type": "markdown",
   "metadata": {},
   "source": [
    "____"
   ]
  },
  {
   "cell_type": "markdown",
   "metadata": {},
   "source": [
    "## Tune Lightgbm Model"
   ]
  },
  {
   "cell_type": "markdown",
   "metadata": {},
   "source": [
    "Grid scores by lightgbm:\n",
    "  \n",
    "Best parameters found by grid search are: {boosting_type='gbdt', 'learning_rate': 0.05, 'n_estimators': 3000, cv=3} ('dart' overfit)  \n",
    "Best f1_macro score is: 0.9367622501566735  \n",
    "elapsed: 87.6min finished  "
   ]
  },
  {
   "cell_type": "code",
   "execution_count": 101,
   "metadata": {},
   "outputs": [
    {
     "name": "stdout",
     "output_type": "stream",
     "text": [
      "Starting tuning hyper-parameters...\n",
      "Fitting 3 folds for each of 1 candidates, totalling 3 fits\n"
     ]
    },
    {
     "name": "stderr",
     "output_type": "stream",
     "text": [
      "[Parallel(n_jobs=4)]: Using backend LokyBackend with 4 concurrent workers.\n",
      "[Parallel(n_jobs=4)]: Done   3 out of   3 | elapsed: 87.6min finished\n"
     ]
    },
    {
     "data": {
      "text/plain": [
       "GridSearchCV(cv=3, error_score='raise-deprecating',\n",
       "             estimator=LGBMClassifier(bagging_fraction=0.8, bagging_freq=15,\n",
       "                                      boosting_type='dart', class_weight=None,\n",
       "                                      colsample_bytree=1.0,\n",
       "                                      feature_fraction=0.5,\n",
       "                                      importance_type='split', lambda_l1=0.2,\n",
       "                                      learning_rate=0.1, max_depth=-1,\n",
       "                                      metric='binary_logloss',\n",
       "                                      min_child_samples=20,\n",
       "                                      min_child_weight=0.001,\n",
       "                                      min_data_in_leaf=30,...gain=0.0,\n",
       "                                      n_estimators=100, n_jobs=-1,\n",
       "                                      num_leaves=31, objective='binary',\n",
       "                                      random_state=20, reg_alpha=0.0,\n",
       "                                      reg_lambda=0.0, silent=True,\n",
       "                                      subsample=1.0, subsample_for_bin=200000,\n",
       "                                      subsample_freq=0),\n",
       "             iid='warn', n_jobs=4,\n",
       "             param_grid={'learning_rate': [0.05], 'n_estimators': [3000]},\n",
       "             pre_dispatch='2*n_jobs', refit=True, return_train_score=False,\n",
       "             scoring='f1_macro', verbose=1)"
      ]
     },
     "execution_count": 101,
     "metadata": {},
     "output_type": "execute_result"
    },
    {
     "name": "stdout",
     "output_type": "stream",
     "text": [
      "Grid scores on development set:\n",
      "\n",
      "0.937 (+/-0.000) for {'learning_rate': 0.05, 'n_estimators': 3000}\n",
      "\n",
      "Best parameters found by grid search are: {'learning_rate': 0.05, 'n_estimators': 3000}\n",
      "Best f1_macro score is: 0.9367622501566735\n"
     ]
    }
   ],
   "source": [
    "# Set the parameters by cross-validation\n",
    "params_opt = {\n",
    "    'n_estimators': [1000,3000], \n",
    "    'learning_rate': [0.05,0.07]\n",
    "}\n",
    "\n",
    "model = lgb.LGBMClassifier( \n",
    "    boosting_type=\"gbdt\",\n",
    "    objective='binary',\n",
    "    metric='binary_logloss',\n",
    "    lambda_l1=0.2,\n",
    "    num_leaves=31, \n",
    "    min_data_in_leaf=30,\n",
    "    feature_fraction=0.5,  \n",
    "    bagging_fraction=0.8, \n",
    "    bagging_freq=15,\n",
    "    random_state=20,\n",
    ")\n",
    "\n",
    "# training\n",
    "print('Starting tuning hyper-parameters...')\n",
    "gbm = GridSearchCV(estimator = model, \n",
    "    param_grid = params_opt, \n",
    "    scoring='f1_macro',\n",
    "    n_jobs=4, \n",
    "    verbose=1,\n",
    "    cv=3)\n",
    "gbm.fit(x_train, y_train)\n",
    "\n",
    "# print out parameters\n",
    "print(\"Grid scores on development set:\")\n",
    "print()\n",
    "means = gbm.cv_results_['mean_test_score']\n",
    "stds = gbm.cv_results_['std_test_score']\n",
    "for mean, std, params in zip(means, stds, gbm.cv_results_['params']):\n",
    "    print(\"%0.3f (+/-%0.03f) for %r\" % (mean, std * 2, params))     \n",
    "print()\n",
    "print('Best parameters found by grid search are: %s' % gbm.best_params_)\n",
    "print('Best f1_macro score is: %s' % gbm.best_score_)"
   ]
  },
  {
   "cell_type": "markdown",
   "metadata": {},
   "source": [
    "### or.. fit a LGBMClassifier"
   ]
  },
  {
   "cell_type": "code",
   "execution_count": null,
   "metadata": {},
   "outputs": [],
   "source": [
    "# create dataset for lightgbm\n",
    "lgb_train = lgb.Dataset(x_train, y_train)\n",
    "lgb_eval = lgb.Dataset(x_test, y_test, reference=lgb_train)\n",
    "\n",
    "\n",
    "params_opt = {\n",
    "    'n_estimators': [3000], \n",
    "    'learning_rate': [0.05]\n",
    "}\n",
    "\n",
    "model = lgb.LGBMClassifier( \n",
    "    boosting_type=\"dart\",\n",
    "    objective='binary',\n",
    "    metric='binary_logloss',\n",
    "    lambda_l1=0.2,\n",
    "    num_leaves=31, \n",
    "    min_data_in_leaf=30,\n",
    "    feature_fraction=0.5,  \n",
    "    bagging_fraction=0.8, \n",
    "    bagging_freq=15,\n",
    "    random_state=20\n",
    ")\n",
    "\n",
    "\n",
    "# train\n",
    "gbm = lgb.LGBMClassifier(boosting_type=\"dart\",\n",
    "                         objective='binary',\n",
    "                         metric='binary_logloss',\n",
    "                         learning_rate=0.05,\n",
    "                         n_estimators=3000,\n",
    "                         lambda_l1=0.2,\n",
    "                         num_leaves=31,\n",
    "                         min_data_in_leaf=30,\n",
    "                         feature_fraction=0.5,  \n",
    "                         bagging_fraction=0.8, \n",
    "                         bagging_freq=15,\n",
    "                         random_state=20)\n",
    "gbm.fit(lgb_train, valid_sets=lgb_eval, \n",
    "        eval_metric='l1',\n",
    "        early_stopping_rounds=5)\n",
    "\n",
    "print('Starting predicting...')\n",
    "# predict\n",
    "y_pred = gbm.predict(X_test, num_iteration=gbm.best_iteration_)\n",
    "# eval\n",
    "print('The rmse of prediction is:', mean_squared_error(y_test, y_pred) ** 0.5)\n",
    "\n",
    "# feature importances\n",
    "print('Feature importances:', list(gbm.feature_importances_))\n"
   ]
  },
  {
   "cell_type": "markdown",
   "metadata": {},
   "source": [
    "### Another version for training lightgbm with more details"
   ]
  },
  {
   "cell_type": "code",
   "execution_count": 104,
   "metadata": {
    "scrolled": true
   },
   "outputs": [],
   "source": [
    "# create dataset for lightgbm\n",
    "lgb_train = lgb.Dataset(x_train, y_train)\n",
    "lgb_eval = lgb.Dataset(x_test, y_test, reference=lgb_train)\n",
    "\n",
    "#print('Best parameters found by grid search are:', gbm.best_params_)\n",
    "# specify your configurations as a dict\n",
    "params = {\n",
    "'task': 'train',\n",
    "'objective': 'binary',\n",
    "'metric': 'binary_logloss',\n",
    "'boosting': 'gbdt', \n",
    "'num_threads': 5,\n",
    "'num_iterations': 3000,\n",
    "'learning_rate': 0.07, \n",
    "'feature_fraction': 0.9,\n",
    "'bagging_fraction': 0.8,\n",
    "'bagging_freq': 50,\n",
    "'min_data_in_leaf': 30, \n",
    "'random_seed':20,\n",
    "'verbose':1\n",
    "}\n",
    "\n",
    "\n",
    "print('Start training...')\n",
    "\n",
    "# train\n",
    "gbm = lgb.train(params=gbm.best_params_, lgb_train, valid_sets=lgb_eval, early_stopping_rounds=100)\n",
    "print('Save model...')\n",
    "\n",
    "# save model to file\n",
    "gbm.save_model('lightgbm/model.txt')\n",
    "print('Start predicting...')\n",
    "\n",
    "# predict\n",
    "y_pred = gbm.predict(x_test, num_iteration=gbm.best_iteration)\n",
    "\n",
    "# eval\n",
    "print(y_pred)\n",
    "print('The roc of prediction is:', roc_auc_score(y_test, y_pred) )\n",
    "print('Dump model to JSON...')\n",
    "\n",
    "# dump model to json (and save to file)\n",
    "model_json = gbm.dump_model()\n",
    "with open('lightgbm/model.json', 'w+') as f:\n",
    "    json.dump(model_json, f, indent=4)\n",
    "    \n",
    "\n",
    "# feature importances\n",
    "gbm.feature_name()\n",
    "gbm.feature_importance()"
   ]
  },
  {
   "cell_type": "markdown",
   "metadata": {},
   "source": [
    "___"
   ]
  }
 ],
 "metadata": {
  "kernelspec": {
   "display_name": "Python 3",
   "language": "python",
   "name": "python3"
  },
  "language_info": {
   "codemirror_mode": {
    "name": "ipython",
    "version": 3
   },
   "file_extension": ".py",
   "mimetype": "text/x-python",
   "name": "python",
   "nbconvert_exporter": "python",
   "pygments_lexer": "ipython3",
   "version": "3.7.2"
  },
  "varInspector": {
   "cols": {
    "lenName": 16,
    "lenType": 16,
    "lenVar": 40
   },
   "kernels_config": {
    "python": {
     "delete_cmd_postfix": "",
     "delete_cmd_prefix": "del ",
     "library": "var_list.py",
     "varRefreshCmd": "print(var_dic_list())"
    },
    "r": {
     "delete_cmd_postfix": ") ",
     "delete_cmd_prefix": "rm(",
     "library": "var_list.r",
     "varRefreshCmd": "cat(var_dic_list()) "
    }
   },
   "types_to_exclude": [
    "module",
    "function",
    "builtin_function_or_method",
    "instance",
    "_Feature"
   ],
   "window_display": false
  }
 },
 "nbformat": 4,
 "nbformat_minor": 2
}
