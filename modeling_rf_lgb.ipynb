{
 "cells": [
  {
   "cell_type": "markdown",
   "metadata": {},
   "source": [
    "# Mobile Ad Anti-Fraud Algorithm Challenge - Modeling Part Ⅰ\n",
    "\n",
    "## 移动广告反欺诈算法挑战赛 数据建模 Ⅰ\n",
    "2019 科大讯飞 A.I.开发者挑战赛"
   ]
  },
  {
   "cell_type": "markdown",
   "metadata": {},
   "source": [
    "-- Date:   25 Aug 2019  \n",
    "-- Author:   Arianna.H"
   ]
  },
  {
   "cell_type": "markdown",
   "metadata": {},
   "source": [
    "___"
   ]
  },
  {
   "cell_type": "markdown",
   "metadata": {},
   "source": [
    "## 5.Modeling - randomforest, lightgbm"
   ]
  },
  {
   "cell_type": "code",
   "execution_count": 1,
   "metadata": {},
   "outputs": [],
   "source": [
    "from IPython.core.interactiveshell import InteractiveShell\n",
    "InteractiveShell.ast_node_interactivity = \"all\"  #display multiple outputs in one cell\n",
    "\n",
    "import pandas as pd\n",
    "import numpy as np\n",
    "import matplotlib.pyplot as plt  #plot\n",
    "import time\n",
    "\n",
    "from sklearn.model_selection import train_test_split  #split\n",
    "from sklearn.model_selection import GridSearchCV\n",
    "from sklearn.metrics import roc_curve\n",
    "from sklearn.metrics import roc_auc_score\n",
    "from sklearn.metrics import classification_report\n",
    "from sklearn.metrics import auc\n",
    "from sklearn.metrics import precision_score\n",
    "from sklearn.metrics import recall_score\n",
    "from sklearn.metrics import f1_score\n",
    "\n",
    "from sklearn.ensemble import RandomForestClassifier\n",
    "import lightgbm as lgb  #lightgbm"
   ]
  },
  {
   "cell_type": "code",
   "execution_count": 2,
   "metadata": {},
   "outputs": [],
   "source": [
    "df = pd.read_csv('round1_iflyad_anticheat_train_clean.csv')"
   ]
  },
  {
   "cell_type": "code",
   "execution_count": 3,
   "metadata": {},
   "outputs": [
    {
     "data": {
      "text/plain": [
       "(1000000, 46)"
      ]
     },
     "execution_count": 3,
     "metadata": {},
     "output_type": "execute_result"
    },
    {
     "data": {
      "text/html": [
       "<div>\n",
       "<style scoped>\n",
       "    .dataframe tbody tr th:only-of-type {\n",
       "        vertical-align: middle;\n",
       "    }\n",
       "\n",
       "    .dataframe tbody tr th {\n",
       "        vertical-align: top;\n",
       "    }\n",
       "\n",
       "    .dataframe thead th {\n",
       "        text-align: right;\n",
       "    }\n",
       "</style>\n",
       "<table border=\"1\" class=\"dataframe\">\n",
       "  <thead>\n",
       "    <tr style=\"text-align: right;\">\n",
       "      <th></th>\n",
       "      <th>label</th>\n",
       "      <th>pkgname</th>\n",
       "      <th>ver</th>\n",
       "      <th>adunitshowid</th>\n",
       "      <th>mediashowid</th>\n",
       "      <th>apptype</th>\n",
       "      <th>ip</th>\n",
       "      <th>city</th>\n",
       "      <th>province</th>\n",
       "      <th>reqrealip</th>\n",
       "      <th>...</th>\n",
       "      <th>hw_ratio</th>\n",
       "      <th>inch</th>\n",
       "      <th>osv_clean</th>\n",
       "      <th>osv_top1</th>\n",
       "      <th>osv_top2</th>\n",
       "      <th>osv_top3</th>\n",
       "      <th>ver_clean</th>\n",
       "      <th>ver_top1</th>\n",
       "      <th>ver_top2</th>\n",
       "      <th>ver_top3</th>\n",
       "    </tr>\n",
       "  </thead>\n",
       "  <tbody>\n",
       "    <tr>\n",
       "      <th>0</th>\n",
       "      <td>1</td>\n",
       "      <td>402</td>\n",
       "      <td>174</td>\n",
       "      <td>452</td>\n",
       "      <td>239</td>\n",
       "      <td>280.0</td>\n",
       "      <td>475455</td>\n",
       "      <td>229</td>\n",
       "      <td>17</td>\n",
       "      <td>5102</td>\n",
       "      <td>...</td>\n",
       "      <td>2.2</td>\n",
       "      <td>859.1</td>\n",
       "      <td>138</td>\n",
       "      <td>8</td>\n",
       "      <td>81</td>\n",
       "      <td>810</td>\n",
       "      <td>74</td>\n",
       "      <td>1</td>\n",
       "      <td>11</td>\n",
       "      <td>111</td>\n",
       "    </tr>\n",
       "    <tr>\n",
       "      <th>1</th>\n",
       "      <td>1</td>\n",
       "      <td>2174</td>\n",
       "      <td>3180</td>\n",
       "      <td>45</td>\n",
       "      <td>61</td>\n",
       "      <td>319.0</td>\n",
       "      <td>41248</td>\n",
       "      <td>119</td>\n",
       "      <td>18</td>\n",
       "      <td>8127</td>\n",
       "      <td>...</td>\n",
       "      <td>0.5</td>\n",
       "      <td>0.0</td>\n",
       "      <td>140</td>\n",
       "      <td>9</td>\n",
       "      <td>9</td>\n",
       "      <td>9</td>\n",
       "      <td>0</td>\n",
       "      <td>0</td>\n",
       "      <td>0</td>\n",
       "      <td>0</td>\n",
       "    </tr>\n",
       "    <tr>\n",
       "      <th>2</th>\n",
       "      <td>0</td>\n",
       "      <td>230</td>\n",
       "      <td>626</td>\n",
       "      <td>422</td>\n",
       "      <td>282</td>\n",
       "      <td>273.0</td>\n",
       "      <td>563455</td>\n",
       "      <td>296</td>\n",
       "      <td>5</td>\n",
       "      <td>7875</td>\n",
       "      <td>...</td>\n",
       "      <td>2.0</td>\n",
       "      <td>0.0</td>\n",
       "      <td>138</td>\n",
       "      <td>8</td>\n",
       "      <td>81</td>\n",
       "      <td>810</td>\n",
       "      <td>1188</td>\n",
       "      <td>3</td>\n",
       "      <td>32</td>\n",
       "      <td>321</td>\n",
       "    </tr>\n",
       "  </tbody>\n",
       "</table>\n",
       "<p>3 rows × 46 columns</p>\n",
       "</div>"
      ],
      "text/plain": [
       "   label  pkgname   ver  adunitshowid  mediashowid  apptype      ip  city  \\\n",
       "0      1      402   174           452          239    280.0  475455   229   \n",
       "1      1     2174  3180            45           61    319.0   41248   119   \n",
       "2      0      230   626           422          282    273.0  563455   296   \n",
       "\n",
       "   province  reqrealip  ...  hw_ratio   inch  osv_clean  osv_top1  osv_top2  \\\n",
       "0        17       5102  ...       2.2  859.1        138         8        81   \n",
       "1        18       8127  ...       0.5    0.0        140         9         9   \n",
       "2         5       7875  ...       2.0    0.0        138         8        81   \n",
       "\n",
       "   osv_top3  ver_clean  ver_top1  ver_top2  ver_top3  \n",
       "0       810         74         1        11       111  \n",
       "1         9          0         0         0         0  \n",
       "2       810       1188         3        32       321  \n",
       "\n",
       "[3 rows x 46 columns]"
      ]
     },
     "execution_count": 3,
     "metadata": {},
     "output_type": "execute_result"
    }
   ],
   "source": [
    "df.shape\n",
    "df.head(3)"
   ]
  },
  {
   "cell_type": "markdown",
   "metadata": {},
   "source": [
    "___"
   ]
  },
  {
   "cell_type": "markdown",
   "metadata": {},
   "source": [
    "### Split train and validation set"
   ]
  },
  {
   "cell_type": "code",
   "execution_count": 4,
   "metadata": {},
   "outputs": [],
   "source": [
    "traindata_x = df.drop(['label'],axis=1)\n",
    "traindata_y = df['label']\n",
    "x_train,x_test,y_train,y_test = train_test_split(traindata_x,traindata_y,train_size=.9,random_state=20,shuffle=True)"
   ]
  },
  {
   "cell_type": "code",
   "execution_count": 5,
   "metadata": {},
   "outputs": [
    {
     "name": "stdout",
     "output_type": "stream",
     "text": [
      "(900000, 45) (900000,) (100000, 45) (100000,)\n"
     ]
    }
   ],
   "source": [
    "print(x_train.shape,y_train.shape,x_test.shape,y_test.shape)"
   ]
  },
  {
   "cell_type": "markdown",
   "metadata": {},
   "source": [
    "## 6.Tune RandomForest Model"
   ]
  },
  {
   "cell_type": "markdown",
   "metadata": {},
   "source": [
    "Grid scores by RandomForest cv model:  \n",
    "\n",
    "Best parameters set:  \n",
    "{'max_features': 'sqrt', 'min_samples_leaf': 2, 'n_estimators': 50} with F1 score 0.9336814441944133"
   ]
  },
  {
   "cell_type": "code",
   "execution_count": 22,
   "metadata": {
    "scrolled": true
   },
   "outputs": [],
   "source": [
    "# Set the parameters by cross-validation\n",
    "\n",
    "n_features = x_train.shape[1]\n",
    "\n",
    "parameter_space = {\n",
    "    \"n_estimators\": [20,50],  \n",
    "    \"min_samples_leaf\": [2,4,6],\n",
    "    'max_features':['sqrt','log2']  # try different numbers of features\n",
    "}\n",
    " \n",
    "scores = 'f1_macro'\n",
    "\n",
    "# training    \n",
    "print(\"# Tuning hyper-parameters for %s\" % scores)\n",
    "print()\n",
    "\n",
    "clf = RandomForestClassifier(random_state=20, verbose=False)\n",
    "grid = GridSearchCV(clf, parameter_space, cv=2, scoring='%s' % scores, n_jobs=4, verbose=False) \n",
    "grid.fit(x_train, y_train)\n",
    "\n",
    "# print results\n",
    "print(\"F1 scores on validation set:\")\n",
    "print()\n",
    "\n",
    "means = grid.cv_results_['mean_test_score']\n",
    "stds = grid.cv_results_['std_test_score']\n",
    "for mean, std, params in zip(means, stds, grid.cv_results_['params']):\n",
    "    print(\"%0.6f (+/-%0.03f) for %r\" % (mean, std * 2, params))"
   ]
  },
  {
   "cell_type": "code",
   "execution_count": 14,
   "metadata": {},
   "outputs": [
    {
     "name": "stdout",
     "output_type": "stream",
     "text": [
      "Best parameters set:\n",
      "{'max_features': 'sqrt', 'min_samples_leaf': 2, 'n_estimators': 50} with F1 score 0.9336814441944133\n"
     ]
    }
   ],
   "source": [
    "print(\"Best parameters set:\")\n",
    "print('{} with F1 score {}'.format(grid.best_params_,grid.best_score_))"
   ]
  },
  {
   "cell_type": "markdown",
   "metadata": {},
   "source": [
    "### Fit GridSearch model with best parameters"
   ]
  },
  {
   "cell_type": "code",
   "execution_count": 21,
   "metadata": {},
   "outputs": [],
   "source": [
    "# fit best estimator {'max_features': 'sqrt', 'min_samples_leaf': 2, 'n_estimators': 50} with F1 score 0.9336814441944133\n",
    "bclf = grid.best_estimator_\n",
    "bclf.fit(x_train, y_train)\n",
    "y_true = y_test\n",
    "y_pred = bclf.predict(x_test)\n",
    "y_pred_pro = bclf.predict_proba(x_test)\n",
    "y_scores = pd.DataFrame(y_pred_pro, columns=bclf.classes_.tolist())[1].values"
   ]
  },
  {
   "cell_type": "markdown",
   "metadata": {},
   "source": [
    "### or... fit a RandomForestClassifier"
   ]
  },
  {
   "cell_type": "code",
   "execution_count": 105,
   "metadata": {},
   "outputs": [],
   "source": [
    "# train RandomForestClassifier\n",
    "tclf = RandomForestClassifier(n_estimators=500, min_samples_leaf=2, random_state=20, n_jobs=4, verbose=1)\n",
    "md = tclf.fit(x_train, y_train)\n",
    "y_pred_t = md.predict(x_test)"
   ]
  },
  {
   "cell_type": "markdown",
   "metadata": {},
   "source": [
    "### Evaluation Metrics and performance on validation set"
   ]
  },
  {
   "cell_type": "code",
   "execution_count": 17,
   "metadata": {},
   "outputs": [
    {
     "name": "stdout",
     "output_type": "stream",
     "text": [
      "precision_score: 0.9412916675440628\n",
      "recall_score: 0.9231547643633059\n",
      "f1_score: 0.932135000156395\n",
      "\n",
      "              precision    recall  f1-score   support\n",
      "\n",
      "           0       0.93      0.95      0.94     51578\n",
      "           1       0.94      0.92      0.93     48422\n",
      "\n",
      "    accuracy                           0.93    100000\n",
      "   macro avg       0.94      0.93      0.93    100000\n",
      "weighted avg       0.94      0.93      0.93    100000\n",
      "\n"
     ]
    }
   ],
   "source": [
    "# precision, recall, f1 score\n",
    "p = precision_score(y_true, y_pred, average='binary')\n",
    "r = recall_score(y_true, y_pred, average='binary')\n",
    "f1score = f1_score(y_true, y_pred, average='binary')\n",
    " \n",
    "print('precision_score: %s'% p)\n",
    "print('recall_score: %s'% r)\n",
    "print('f1_score: %s'% f1score)\n",
    "print()\n",
    "print(classification_report(y_true, y_pred))"
   ]
  },
  {
   "cell_type": "code",
   "execution_count": 18,
   "metadata": {},
   "outputs": [
    {
     "data": {
      "image/png": "[encoded data removed]",
      "text/plain": [
       "<Figure size 432x288 with 1 Axes>"
      ]
     },
     "metadata": {
      "needs_background": "light"
     },
     "output_type": "display_data"
    }
   ],
   "source": [
    "# plot ROC curve\n",
    "auc_value = roc_auc_score(y_true, y_scores)\n",
    "fpr, tpr, thresholds = roc_curve(y_true, y_scores, pos_label=1.0)\n",
    "\n",
    "_ = plt.figure()\n",
    "lw = 2\n",
    "_ = plt.plot(fpr, tpr, color='darkorange', linewidth=lw, label='ROC curve (AUC = %0.4f)' % auc_value)\n",
    "_ = plt.plot([0, 1], [0, 1], color='navy', linewidth=lw, linestyle='--')\n",
    "_ = plt.xlim([0.0, 1.0])\n",
    "_ = plt.ylim([0.0, 1.0])\n",
    "_ = plt.xlabel('False Positive Rate')\n",
    "_ = plt.ylabel('True Positive Rate')\n",
    "_ = plt.title('Receiver Operating Characteristic')\n",
    "_ = plt.legend(loc=\"lower right\")\n",
    "_ = plt.show()"
   ]
  },
  {
   "cell_type": "code",
   "execution_count": 19,
   "metadata": {},
   "outputs": [
    {
     "data": {
      "text/html": [
       "<div>\n",
       "<style scoped>\n",
       "    .dataframe tbody tr th:only-of-type {\n",
       "        vertical-align: middle;\n",
       "    }\n",
       "\n",
       "    .dataframe tbody tr th {\n",
       "        vertical-align: top;\n",
       "    }\n",
       "\n",
       "    .dataframe thead th {\n",
       "        text-align: right;\n",
       "    }\n",
       "</style>\n",
       "<table border=\"1\" class=\"dataframe\">\n",
       "  <thead>\n",
       "    <tr style=\"text-align: right;\">\n",
       "      <th></th>\n",
       "      <th>features</th>\n",
       "      <th>importances</th>\n",
       "    </tr>\n",
       "  </thead>\n",
       "  <tbody>\n",
       "    <tr>\n",
       "      <th>35</th>\n",
       "      <td>hw_ratio</td>\n",
       "      <td>0.106628</td>\n",
       "    </tr>\n",
       "    <tr>\n",
       "      <th>15</th>\n",
       "      <td>make</td>\n",
       "      <td>0.064825</td>\n",
       "    </tr>\n",
       "    <tr>\n",
       "      <th>19</th>\n",
       "      <td>osv</td>\n",
       "      <td>0.060980</td>\n",
       "    </tr>\n",
       "    <tr>\n",
       "      <th>37</th>\n",
       "      <td>osv_clean</td>\n",
       "      <td>0.059115</td>\n",
       "    </tr>\n",
       "    <tr>\n",
       "      <th>38</th>\n",
       "      <td>osv_top1</td>\n",
       "      <td>0.046679</td>\n",
       "    </tr>\n",
       "    <tr>\n",
       "      <th>14</th>\n",
       "      <td>model</td>\n",
       "      <td>0.043960</td>\n",
       "    </tr>\n",
       "    <tr>\n",
       "      <th>13</th>\n",
       "      <td>dvctype</td>\n",
       "      <td>0.039135</td>\n",
       "    </tr>\n",
       "    <tr>\n",
       "      <th>3</th>\n",
       "      <td>mediashowid</td>\n",
       "      <td>0.036947</td>\n",
       "    </tr>\n",
       "    <tr>\n",
       "      <th>4</th>\n",
       "      <td>apptype</td>\n",
       "      <td>0.033940</td>\n",
       "    </tr>\n",
       "    <tr>\n",
       "      <th>41</th>\n",
       "      <td>ver_clean</td>\n",
       "      <td>0.027017</td>\n",
       "    </tr>\n",
       "  </tbody>\n",
       "</table>\n",
       "</div>"
      ],
      "text/plain": [
       "       features  importances\n",
       "35     hw_ratio     0.106628\n",
       "15         make     0.064825\n",
       "19          osv     0.060980\n",
       "37    osv_clean     0.059115\n",
       "38     osv_top1     0.046679\n",
       "14        model     0.043960\n",
       "13      dvctype     0.039135\n",
       "3   mediashowid     0.036947\n",
       "4       apptype     0.033940\n",
       "41    ver_clean     0.027017"
      ]
     },
     "execution_count": 19,
     "metadata": {},
     "output_type": "execute_result"
    }
   ],
   "source": [
    "# feature importance\n",
    "features = df.columns[1:]\n",
    "importances = bclf.feature_importances_\n",
    "indices = np.argsort(importances)\n",
    "\n",
    "feature_importance = pd.DataFrame()\n",
    "feature_importance['features'] = features\n",
    "feature_importance['importances'] = importances\n",
    "feature_importance.sort_values(by='importances',ascending=False).head(10)\n",
    "#feature_importance.sort_values(by='importances',ascending=False).features.head(10)\n",
    "\n",
    "# for name, importance in zip(features, importances):\n",
    "#     print(name, \"=\", importance)"
   ]
  },
  {
   "cell_type": "code",
   "execution_count": 20,
   "metadata": {},
   "outputs": [
    {
     "data": {
      "image/png": "[encoded data removed]",
      "text/plain": [
       "<Figure size 576x468 with 1 Axes>"
      ]
     },
     "metadata": {
      "needs_background": "light"
     },
     "output_type": "display_data"
    }
   ],
   "source": [
    "# plot feature importance\n",
    "fig = plt.figure()\n",
    "fig.set_size_inches(8,6.5)\n",
    "_ = plt.title('Feature Importances', fontsize='x-large')\n",
    "_ = plt.barh(range(len(indices)), importances[indices], color='xkcd:lightblue', align='center')\n",
    "_ = plt.yticks(range(len(indices)), [features[i] for i in indices], fontsize='medium')\n",
    "_ = plt.xlabel('Relative Importance')\n",
    "fig.tight_layout()\n",
    "plt.show()"
   ]
  },
  {
   "cell_type": "markdown",
   "metadata": {},
   "source": [
    "____"
   ]
  },
  {
   "cell_type": "markdown",
   "metadata": {},
   "source": [
    "## 7.Tune Lightgbm Model"
   ]
  },
  {
   "cell_type": "markdown",
   "metadata": {},
   "source": [
    "Grid scores by lightgbm:\n",
    " \n",
    "1)   \n",
    "Best parameters found by grid search are: {boosting_type='dart', 'learning_rate': 0.05, 'n_estimators': 3000, cv=3} => *('gbdt' is better in training speed and accuracy on test)*  \n",
    "Best f1_macro score is: 0.9367622501566735  \n",
    "elapsed: 87.6min finished  \n",
    "\n",
    "2)  \n",
    "Best parameters found by grid search are: {boosting_type='goss', 'learning_rate': 0.05, 'n_estimators': 3000, cv=2}  \n",
    "Best f1_macro score is: 0.9367323275116014  \n",
    "Time consuming: 11.88min  \n",
    "\n",
    "3)\n",
    "**=> BEST  \n",
    "Best parameters found by grid search are: {'boosting_type': 'goss', 'learning_rate': 0.03, 'n_estimators': 5000, cv=2}  \n",
    "Best f1_macro score is: 0.9369725573283804  \n",
    "Time consuming: 29.25min  \n",
    "f1_score on validation set: 0.934860**  "
   ]
  },
  {
   "cell_type": "code",
   "execution_count": 36,
   "metadata": {},
   "outputs": [
    {
     "name": "stdout",
     "output_type": "stream",
     "text": [
      "Starting tuning hyper-parameters...\n",
      "Fitting 2 folds for each of 4 candidates, totalling 8 fits\n"
     ]
    },
    {
     "name": "stderr",
     "output_type": "stream",
     "text": [
      "[Parallel(n_jobs=5)]: Using backend LokyBackend with 5 concurrent workers.\n",
      "[Parallel(n_jobs=5)]: Done   8 out of   8 | elapsed: 26.7min remaining:    0.0s\n",
      "[Parallel(n_jobs=5)]: Done   8 out of   8 | elapsed: 26.7min finished\n"
     ]
    },
    {
     "data": {
      "text/plain": [
       "GridSearchCV(cv=2, error_score='raise-deprecating',\n",
       "             estimator=LGBMClassifier(boosting_type='gbdt', class_weight=None,\n",
       "                                      colsample_bytree=1.0,\n",
       "                                      feature_fraction=0.5,\n",
       "                                      importance_type='split', lambda_l2=0.2,\n",
       "                                      learning_rate=0.1, max_depth=-1,\n",
       "                                      metric='binary_logloss',\n",
       "                                      min_child_samples=20,\n",
       "                                      min_child_weight=0.001,\n",
       "                                      min_data_in_leaf=30, min_split_gain=0.0,\n",
       "                                      n_estimators=100, n...,\n",
       "                                      num_leaves=31, objective='binary',\n",
       "                                      random_state=20, reg_alpha=0.0,\n",
       "                                      reg_lambda=0.0, silent=True,\n",
       "                                      subsample=1.0, subsample_for_bin=200000,\n",
       "                                      subsample_freq=0),\n",
       "             iid='warn', n_jobs=5,\n",
       "             param_grid={'boosting_type': ['goss'],\n",
       "                         'learning_rate': [0.03, 0.05],\n",
       "                         'n_estimators': [3000, 5000]},\n",
       "             pre_dispatch='2*n_jobs', refit=True, return_train_score=False,\n",
       "             scoring='f1_macro', verbose=1)"
      ]
     },
     "execution_count": 36,
     "metadata": {},
     "output_type": "execute_result"
    },
    {
     "name": "stdout",
     "output_type": "stream",
     "text": [
      "\n",
      "Time consuming: 29.25min\n",
      "\n"
     ]
    }
   ],
   "source": [
    "# Set the parameters by cross-validation\n",
    "\n",
    "start=time.perf_counter()\n",
    "params_opt = {\n",
    "    'boosting_type':[\"goss\"],\n",
    "    'n_estimators': [3000,5000], \n",
    "    'learning_rate': [0.03,0.05]\n",
    "}\n",
    "\n",
    "model = lgb.LGBMClassifier(\n",
    "    objective='binary',\n",
    "    metric='binary_logloss',\n",
    "    lambda_l2=0.2,\n",
    "    num_leaves=31, \n",
    "    min_data_in_leaf=30,\n",
    "    feature_fraction=0.5,  \n",
    "#     bagging_fraction=0.8, \n",
    "#     bagging_freq=15,\n",
    "    random_state=20\n",
    ")\n",
    "\n",
    "# training\n",
    "print('Starting tuning hyper-parameters...')\n",
    "gbm = GridSearchCV(estimator = model, \n",
    "    param_grid = params_opt, \n",
    "    scoring='f1_macro',\n",
    "    n_jobs=5, \n",
    "    verbose=1,\n",
    "    cv=2)\n",
    "gbm.fit(x_train, y_train)\n",
    "end=time.perf_counter()\n",
    "print()\n",
    "print('Time consuming: {:.2f}min'.format((end-start)/60))"
   ]
  },
  {
   "cell_type": "code",
   "execution_count": 37,
   "metadata": {},
   "outputs": [
    {
     "name": "stdout",
     "output_type": "stream",
     "text": [
      "Grid scores on development set:\n",
      "\n",
      "0.936435 (+/-0.000) for {'boosting_type': 'goss', 'learning_rate': 0.03, 'n_estimators': 3000}\n",
      "0.936973 (+/-0.000) for {'boosting_type': 'goss', 'learning_rate': 0.03, 'n_estimators': 5000}\n",
      "0.936732 (+/-0.000) for {'boosting_type': 'goss', 'learning_rate': 0.05, 'n_estimators': 3000}\n",
      "0.936706 (+/-0.000) for {'boosting_type': 'goss', 'learning_rate': 0.05, 'n_estimators': 5000}\n",
      "\n",
      "Best parameters found by grid search are: {'boosting_type': 'goss', 'learning_rate': 0.03, 'n_estimators': 5000}\n",
      "Best f1_macro score is: 0.9369725573283804\n"
     ]
    }
   ],
   "source": [
    "# print out parameters\n",
    "print(\"Grid scores on development set:\")\n",
    "print()\n",
    "means = gbm.cv_results_['mean_test_score']\n",
    "stds = gbm.cv_results_['std_test_score']\n",
    "for mean, std, params in zip(means, stds, gbm.cv_results_['params']):\n",
    "    print(\"%0.6f (+/-%0.03f) for %r\" % (mean, std * 2, params))     \n",
    "print()\n",
    "print('Best parameters found by grid search are: %s' % gbm.best_params_)\n",
    "print('Best f1_macro score is: %s' % gbm.best_score_)"
   ]
  },
  {
   "cell_type": "markdown",
   "metadata": {},
   "source": [
    "### Fit model with best estimator"
   ]
  },
  {
   "cell_type": "code",
   "execution_count": 49,
   "metadata": {},
   "outputs": [],
   "source": [
    "bgbm = gbm.best_estimator_\n",
    "bgbm.fit(x_train, y_train)\n",
    "y_pred = bgbm.predict(x_test)\n",
    "y_pred_pro = bgbm.predict_proba(x_test)"
   ]
  },
  {
   "cell_type": "markdown",
   "metadata": {},
   "source": [
    "### or.. fit a new LGBMClassifier"
   ]
  },
  {
   "cell_type": "code",
   "execution_count": 48,
   "metadata": {},
   "outputs": [],
   "source": [
    "# create dataset for lightgbm\n",
    "lgb_train = lgb.Dataset(x_train, y_train)\n",
    "lgb_eval = lgb.Dataset(x_test, y_test, reference=lgb_train)\n",
    "\n",
    "print('Starting training...')\n",
    "# train\n",
    "gbm = lgb.LGBMClassifier(boosting_type=\"gbdt\",\n",
    "                         objective='binary',\n",
    "                         metric='binary_logloss',\n",
    "                         learning_rate=0.05,\n",
    "                         n_estimators=20,\n",
    "                         reg_lambda=0.2,\n",
    "                         num_leaves=31,\n",
    "                         min_data_in_leaf=30,\n",
    "                         feature_fraction=0.5,  \n",
    "                         bagging_fraction=0.8, \n",
    "                         bagging_freq=15,\n",
    "                         random_state=20,\n",
    "                         silent=True)\n",
    "gbm.fit(lgb_train, \n",
    "        eval_set=lgb_eval, \n",
    "        early_stopping_rounds=20)\n",
    "\n",
    "print('Starting predicting...')\n",
    "# predict\n",
    "y_pred = gbm.predict_proba(x_test, num_iteration=gbm.best_iteration_)\n",
    "\n",
    "# eval\n",
    "print('The best Logloss on validation set is: ', gbm.evals_result_)\n",
    "\n",
    "# feature importances\n",
    "print('Feature importances:', list(gbm.feature_importances_))"
   ]
  },
  {
   "cell_type": "markdown",
   "metadata": {},
   "source": [
    "### Evaluation metric"
   ]
  },
  {
   "cell_type": "code",
   "execution_count": 43,
   "metadata": {},
   "outputs": [
    {
     "name": "stdout",
     "output_type": "stream",
     "text": [
      "precision_score: 0.9430714916151809\n",
      "recall_score: 0.926789475858081\n",
      "f1_score: 0.9348595950337472\n",
      "\n",
      "              precision    recall  f1-score   support\n",
      "\n",
      "           0       0.93      0.95      0.94     51578\n",
      "           1       0.94      0.93      0.93     48422\n",
      "\n",
      "    accuracy                           0.94    100000\n",
      "   macro avg       0.94      0.94      0.94    100000\n",
      "weighted avg       0.94      0.94      0.94    100000\n",
      "\n"
     ]
    }
   ],
   "source": [
    "# precision, recall, f1 score\n",
    "y_pred = bgbm.predict(x_test)\n",
    "y_pred_pro = bgbm.predict_proba(x_test)\n",
    "y_scores = pd.DataFrame(y_pred_pro, columns=bgbm.classes_.tolist())[1].values\n",
    "p = precision_score(y_true, y_pred, average='binary')\n",
    "r = recall_score(y_true, y_pred, average='binary')\n",
    "f1score = f1_score(y_true, y_pred, average='binary')\n",
    " \n",
    "print('precision_score: %s'% p)\n",
    "print('recall_score: %s'% r)\n",
    "print('f1_score: %s'% f1score)\n",
    "print()\n",
    "print(classification_report(y_true, y_pred))"
   ]
  },
  {
   "cell_type": "code",
   "execution_count": 44,
   "metadata": {},
   "outputs": [
    {
     "data": {
      "image/png": "[encoded data removed]",
      "text/plain": [
       "<Figure size 432x288 with 1 Axes>"
      ]
     },
     "metadata": {
      "needs_background": "light"
     },
     "output_type": "display_data"
    }
   ],
   "source": [
    "# plot ROC curve\n",
    "auc_value = roc_auc_score(y_true, y_scores)\n",
    "fpr, tpr, thresholds = roc_curve(y_true, y_scores, pos_label=1.0)\n",
    "\n",
    "_ = plt.figure()\n",
    "lw = 2\n",
    "_ = plt.plot(fpr, tpr, color='darkorange', linewidth=lw, label='ROC curve (AUC = %0.4f)' % auc_value)\n",
    "_ = plt.plot([0, 1], [0, 1], color='navy', linewidth=lw, linestyle='--')\n",
    "_ = plt.xlim([0.0, 1.0])\n",
    "_ = plt.ylim([0.0, 1.0])\n",
    "_ = plt.xlabel('False Positive Rate')\n",
    "_ = plt.ylabel('True Positive Rate')\n",
    "_ = plt.title('Receiver Operating Characteristic')\n",
    "_ = plt.legend(loc=\"lower right\")\n",
    "_ = plt.show()"
   ]
  },
  {
   "cell_type": "code",
   "execution_count": 46,
   "metadata": {},
   "outputs": [
    {
     "data": {
      "text/html": [
       "<div>\n",
       "<style scoped>\n",
       "    .dataframe tbody tr th:only-of-type {\n",
       "        vertical-align: middle;\n",
       "    }\n",
       "\n",
       "    .dataframe tbody tr th {\n",
       "        vertical-align: top;\n",
       "    }\n",
       "\n",
       "    .dataframe thead th {\n",
       "        text-align: right;\n",
       "    }\n",
       "</style>\n",
       "<table border=\"1\" class=\"dataframe\">\n",
       "  <thead>\n",
       "    <tr style=\"text-align: right;\">\n",
       "      <th></th>\n",
       "      <th>features</th>\n",
       "      <th>importances</th>\n",
       "    </tr>\n",
       "  </thead>\n",
       "  <tbody>\n",
       "    <tr>\n",
       "      <th>14</th>\n",
       "      <td>model</td>\n",
       "      <td>11216</td>\n",
       "    </tr>\n",
       "    <tr>\n",
       "      <th>5</th>\n",
       "      <td>ip</td>\n",
       "      <td>7101</td>\n",
       "    </tr>\n",
       "    <tr>\n",
       "      <th>2</th>\n",
       "      <td>adunitshowid</td>\n",
       "      <td>6784</td>\n",
       "    </tr>\n",
       "    <tr>\n",
       "      <th>10</th>\n",
       "      <td>imeimd5</td>\n",
       "      <td>6678</td>\n",
       "    </tr>\n",
       "    <tr>\n",
       "      <th>6</th>\n",
       "      <td>city</td>\n",
       "      <td>6520</td>\n",
       "    </tr>\n",
       "    <tr>\n",
       "      <th>29</th>\n",
       "      <td>hourtosecond</td>\n",
       "      <td>6353</td>\n",
       "    </tr>\n",
       "    <tr>\n",
       "      <th>9</th>\n",
       "      <td>adidmd5</td>\n",
       "      <td>6176</td>\n",
       "    </tr>\n",
       "    <tr>\n",
       "      <th>34</th>\n",
       "      <td>h_w</td>\n",
       "      <td>5461</td>\n",
       "    </tr>\n",
       "    <tr>\n",
       "      <th>8</th>\n",
       "      <td>reqrealip</td>\n",
       "      <td>5073</td>\n",
       "    </tr>\n",
       "    <tr>\n",
       "      <th>22</th>\n",
       "      <td>h</td>\n",
       "      <td>4885</td>\n",
       "    </tr>\n",
       "  </tbody>\n",
       "</table>\n",
       "</div>"
      ],
      "text/plain": [
       "        features  importances\n",
       "14         model        11216\n",
       "5             ip         7101\n",
       "2   adunitshowid         6784\n",
       "10       imeimd5         6678\n",
       "6           city         6520\n",
       "29  hourtosecond         6353\n",
       "9        adidmd5         6176\n",
       "34           h_w         5461\n",
       "8      reqrealip         5073\n",
       "22             h         4885"
      ]
     },
     "execution_count": 46,
     "metadata": {},
     "output_type": "execute_result"
    }
   ],
   "source": [
    "# feature importance\n",
    "features = df.columns[1:]\n",
    "importances = bgbm.feature_importances_\n",
    "indices = np.argsort(importances)\n",
    "\n",
    "feature_importance = pd.DataFrame()\n",
    "feature_importance['features'] = features\n",
    "feature_importance['importances'] = importances\n",
    "feature_importance.sort_values(by='importances',ascending=False).head(10)"
   ]
  },
  {
   "cell_type": "code",
   "execution_count": 47,
   "metadata": {},
   "outputs": [
    {
     "data": {
      "image/png": "[encoded data removed]",
      "text/plain": [
       "<Figure size 576x468 with 1 Axes>"
      ]
     },
     "metadata": {
      "needs_background": "light"
     },
     "output_type": "display_data"
    }
   ],
   "source": [
    "# plot feature importance\n",
    "fig = plt.figure()\n",
    "fig.set_size_inches(8,6.5)\n",
    "_ = plt.title('Feature Importances', fontsize='x-large')\n",
    "_ = plt.barh(range(len(indices)), importances[indices], color='xkcd:lightblue', align='center')\n",
    "_ = plt.yticks(range(len(indices)), [features[i] for i in indices], fontsize='medium')\n",
    "_ = plt.xlabel('Relative Importance')\n",
    "fig.tight_layout()\n",
    "plt.show()"
   ]
  },
  {
   "cell_type": "markdown",
   "metadata": {},
   "source": [
    "### Another version for training lightgbm with more details"
   ]
  },
  {
   "cell_type": "code",
   "execution_count": 104,
   "metadata": {
    "scrolled": true
   },
   "outputs": [],
   "source": [
    "# create dataset for lightgbm\n",
    "lgb_train = lgb.Dataset(x_train, y_train)\n",
    "lgb_eval = lgb.Dataset(x_test, y_test, reference=lgb_train)\n",
    "\n",
    "#print('Best parameters found by grid search are:', gbm.best_params_)\n",
    "# specify your configurations as a dict\n",
    "params = {\n",
    "'task': 'train',\n",
    "'objective': 'binary',\n",
    "'metric': 'binary_logloss',\n",
    "'boosting': 'gbdt', \n",
    "'num_threads': 5,\n",
    "'num_iterations': 3000,\n",
    "'learning_rate': 0.07, \n",
    "'feature_fraction': 0.9,\n",
    "'bagging_fraction': 0.8,\n",
    "'bagging_freq': 50,\n",
    "'min_data_in_leaf': 30, \n",
    "'random_seed':20,\n",
    "'verbose':1\n",
    "}\n",
    "\n",
    "\n",
    "print('Start training...')\n",
    "\n",
    "# train\n",
    "gbm = lgb.train(params=gbm.best_params_, lgb_train, valid_sets=lgb_eval, early_stopping_rounds=100)\n",
    "print('Save model...')\n",
    "\n",
    "# save model to file\n",
    "gbm.save_model('lightgbm/model.txt')\n",
    "print('Start predicting...')\n",
    "\n",
    "# predict\n",
    "y_pred = gbm.predict(x_test, num_iteration=gbm.best_iteration)\n",
    "\n",
    "# eval\n",
    "print(y_pred)\n",
    "print('The roc of prediction is:', roc_auc_score(y_test, y_pred) )\n",
    "print('Dump model to JSON...')\n",
    "\n",
    "# dump model to json (and save to file)\n",
    "model_json = gbm.dump_model()\n",
    "with open('lightgbm/model.json', 'w+') as f:\n",
    "    json.dump(model_json, f, indent=4)\n",
    "    \n",
    "\n",
    "# feature importances\n",
    "gbm.feature_name()\n",
    "gbm.feature_importance()"
   ]
  },
  {
   "cell_type": "markdown",
   "metadata": {},
   "source": [
    "___"
   ]
  },
  {
   "cell_type": "markdown",
   "metadata": {},
   "source": [
    "## 8.Compare best performance between models\n",
    "\n",
    "RF: Best f1 score is : 0.933681  \n",
    "LGB: Best f1_macro score is: 0.936973  \n",
    "\n",
    "lgb > rf "
   ]
  }
 ],
 "metadata": {
  "kernelspec": {
   "display_name": "Python 3",
   "language": "python",
   "name": "python3"
  },
  "language_info": {
   "codemirror_mode": {
    "name": "ipython",
    "version": 3
   },
   "file_extension": ".py",
   "mimetype": "text/x-python",
   "name": "python",
   "nbconvert_exporter": "python",
   "pygments_lexer": "ipython3",
   "version": "3.7.2"
  },
  "varInspector": {
   "cols": {
    "lenName": 16,
    "lenType": 16,
    "lenVar": 40
   },
   "kernels_config": {
    "python": {
     "delete_cmd_postfix": "",
     "delete_cmd_prefix": "del ",
     "library": "var_list.py",
     "varRefreshCmd": "print(var_dic_list())"
    },
    "r": {
     "delete_cmd_postfix": ") ",
     "delete_cmd_prefix": "rm(",
     "library": "var_list.r",
     "varRefreshCmd": "cat(var_dic_list()) "
    }
   },
   "types_to_exclude": [
    "module",
    "function",
    "builtin_function_or_method",
    "instance",
    "_Feature"
   ],
   "window_display": false
  }
 },
 "nbformat": 4,
 "nbformat_minor": 2
}
