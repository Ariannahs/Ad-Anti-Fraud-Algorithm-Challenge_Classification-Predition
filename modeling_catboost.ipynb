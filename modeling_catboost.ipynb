{
 "cells": [
  {
   "cell_type": "markdown",
   "metadata": {},
   "source": [
    "# Mobile Ad Anti-Fraud Algorithm Challenge - Modeling Part Ⅱ\n",
    "\n",
    "## 移动广告反欺诈算法挑战赛 数据建模 Ⅱ\n",
    "2019 科大讯飞 A.I.开发者挑战赛"
   ]
  },
  {
   "cell_type": "markdown",
   "metadata": {},
   "source": [
    "-- Date:   02 Sept 2019  \n",
    "-- Author:   Arianna.H"
   ]
  },
  {
   "cell_type": "markdown",
   "metadata": {},
   "source": [
    "___"
   ]
  },
  {
   "cell_type": "markdown",
   "metadata": {},
   "source": [
    "## 5.Modeling - catboost"
   ]
  },
  {
   "cell_type": "code",
   "execution_count": 1,
   "metadata": {},
   "outputs": [],
   "source": [
    "from IPython.core.interactiveshell import InteractiveShell\n",
    "InteractiveShell.ast_node_interactivity = \"all\"  #display multiple outputs in one cell\n",
    "import pandas as pd\n",
    "import numpy as np\n",
    "import matplotlib.pyplot as plt\n",
    "import time \n",
    "from sklearn.model_selection import train_test_split \n",
    "from sklearn.metrics import auc\n",
    "#!pip install catboost\n",
    "#!pip install --user --upgrade catboost\n",
    "from catboost import CatBoostClassifier, Pool, cv  #catboost\n",
    "from catboost.utils import get_roc_curve\n",
    "from catboost import MetricVisualizer  #plot metric"
   ]
  },
  {
   "cell_type": "code",
   "execution_count": 19,
   "metadata": {},
   "outputs": [
    {
     "data": {
      "text/plain": [
       "'0.16.4'"
      ]
     },
     "execution_count": 19,
     "metadata": {},
     "output_type": "execute_result"
    }
   ],
   "source": [
    "import catboost\n",
    "catboost.__version__"
   ]
  },
  {
   "cell_type": "code",
   "execution_count": 2,
   "metadata": {},
   "outputs": [],
   "source": [
    "df = pd.read_csv('round1_iflyad_anticheat_train_clean_cat.csv')"
   ]
  },
  {
   "cell_type": "code",
   "execution_count": 3,
   "metadata": {},
   "outputs": [
    {
     "data": {
      "text/plain": [
       "(1000000, 46)"
      ]
     },
     "execution_count": 3,
     "metadata": {},
     "output_type": "execute_result"
    },
    {
     "data": {
      "text/html": [
       "<div>\n",
       "<style scoped>\n",
       "    .dataframe tbody tr th:only-of-type {\n",
       "        vertical-align: middle;\n",
       "    }\n",
       "\n",
       "    .dataframe tbody tr th {\n",
       "        vertical-align: top;\n",
       "    }\n",
       "\n",
       "    .dataframe thead th {\n",
       "        text-align: right;\n",
       "    }\n",
       "</style>\n",
       "<table border=\"1\" class=\"dataframe\">\n",
       "  <thead>\n",
       "    <tr style=\"text-align: right;\">\n",
       "      <th></th>\n",
       "      <th>label</th>\n",
       "      <th>pkgname</th>\n",
       "      <th>ver</th>\n",
       "      <th>adunitshowid</th>\n",
       "      <th>mediashowid</th>\n",
       "      <th>apptype</th>\n",
       "      <th>ip</th>\n",
       "      <th>city</th>\n",
       "      <th>province</th>\n",
       "      <th>reqrealip</th>\n",
       "      <th>...</th>\n",
       "      <th>hw_ratio</th>\n",
       "      <th>inch</th>\n",
       "      <th>osv_clean</th>\n",
       "      <th>osv_top1</th>\n",
       "      <th>osv_top2</th>\n",
       "      <th>osv_top3</th>\n",
       "      <th>ver_clean</th>\n",
       "      <th>ver_top1</th>\n",
       "      <th>ver_top2</th>\n",
       "      <th>ver_top3</th>\n",
       "    </tr>\n",
       "  </thead>\n",
       "  <tbody>\n",
       "    <tr>\n",
       "      <th>0</th>\n",
       "      <td>1</td>\n",
       "      <td>2d2664e827bcbb8b07100c7fbe072e9b</td>\n",
       "      <td>11.11.0</td>\n",
       "      <td>907d0f8c29663840491577a21c7b612a</td>\n",
       "      <td>ca64a500000d84c8fcb8a0587d0e1e0c</td>\n",
       "      <td>280.0</td>\n",
       "      <td>183.197.47.83</td>\n",
       "      <td>石家庄市</td>\n",
       "      <td>河北省</td>\n",
       "      <td>180.76.181.7</td>\n",
       "      <td>...</td>\n",
       "      <td>2.2</td>\n",
       "      <td>859.1</td>\n",
       "      <td>810</td>\n",
       "      <td>8</td>\n",
       "      <td>81</td>\n",
       "      <td>810</td>\n",
       "      <td>11110</td>\n",
       "      <td>1</td>\n",
       "      <td>11</td>\n",
       "      <td>111</td>\n",
       "    </tr>\n",
       "    <tr>\n",
       "      <th>1</th>\n",
       "      <td>1</td>\n",
       "      <td>empty</td>\n",
       "      <td>NaN</td>\n",
       "      <td>10199dc8fea2e173525bc3151bd84312</td>\n",
       "      <td>3f2fc57a6e1f9c6fa4464c25cc1e88a3</td>\n",
       "      <td>319.0</td>\n",
       "      <td>106.34.14.149</td>\n",
       "      <td>开封市</td>\n",
       "      <td>河南省</td>\n",
       "      <td>47.95.111.138</td>\n",
       "      <td>...</td>\n",
       "      <td>0.5</td>\n",
       "      <td>0.0</td>\n",
       "      <td>9</td>\n",
       "      <td>9</td>\n",
       "      <td>9</td>\n",
       "      <td>9</td>\n",
       "      <td>0</td>\n",
       "      <td>0</td>\n",
       "      <td>0</td>\n",
       "      <td>0</td>\n",
       "    </tr>\n",
       "    <tr>\n",
       "      <th>2</th>\n",
       "      <td>0</td>\n",
       "      <td>16b81f93f4b1a35cebbf15f07683f171</td>\n",
       "      <td>3.2.1.0524.1958</td>\n",
       "      <td>83f2ecfe65f936f5f2ed59f8e8ff1d01</td>\n",
       "      <td>eea7280e1a2313e4c2e89290b01d196c</td>\n",
       "      <td>273.0</td>\n",
       "      <td>223.104.16.151</td>\n",
       "      <td>长春市</td>\n",
       "      <td>吉林省</td>\n",
       "      <td>39.96.159.155</td>\n",
       "      <td>...</td>\n",
       "      <td>2.0</td>\n",
       "      <td>0.0</td>\n",
       "      <td>810</td>\n",
       "      <td>8</td>\n",
       "      <td>81</td>\n",
       "      <td>810</td>\n",
       "      <td>32105241958</td>\n",
       "      <td>3</td>\n",
       "      <td>32</td>\n",
       "      <td>321</td>\n",
       "    </tr>\n",
       "  </tbody>\n",
       "</table>\n",
       "<p>3 rows × 46 columns</p>\n",
       "</div>"
      ],
      "text/plain": [
       "   label                           pkgname              ver  \\\n",
       "0      1  2d2664e827bcbb8b07100c7fbe072e9b          11.11.0   \n",
       "1      1                             empty              NaN   \n",
       "2      0  16b81f93f4b1a35cebbf15f07683f171  3.2.1.0524.1958   \n",
       "\n",
       "                       adunitshowid                       mediashowid  \\\n",
       "0  907d0f8c29663840491577a21c7b612a  ca64a500000d84c8fcb8a0587d0e1e0c   \n",
       "1  10199dc8fea2e173525bc3151bd84312  3f2fc57a6e1f9c6fa4464c25cc1e88a3   \n",
       "2  83f2ecfe65f936f5f2ed59f8e8ff1d01  eea7280e1a2313e4c2e89290b01d196c   \n",
       "\n",
       "   apptype              ip  city province      reqrealip  ... hw_ratio   inch  \\\n",
       "0    280.0   183.197.47.83  石家庄市      河北省   180.76.181.7  ...      2.2  859.1   \n",
       "1    319.0   106.34.14.149   开封市      河南省  47.95.111.138  ...      0.5    0.0   \n",
       "2    273.0  223.104.16.151   长春市      吉林省  39.96.159.155  ...      2.0    0.0   \n",
       "\n",
       "  osv_clean osv_top1  osv_top2 osv_top3    ver_clean  ver_top1  ver_top2  \\\n",
       "0       810        8        81      810        11110         1        11   \n",
       "1         9        9         9        9            0         0         0   \n",
       "2       810        8        81      810  32105241958         3        32   \n",
       "\n",
       "  ver_top3  \n",
       "0      111  \n",
       "1        0  \n",
       "2      321  \n",
       "\n",
       "[3 rows x 46 columns]"
      ]
     },
     "execution_count": 3,
     "metadata": {},
     "output_type": "execute_result"
    }
   ],
   "source": [
    "df.shape\n",
    "df.head(3)"
   ]
  },
  {
   "cell_type": "markdown",
   "metadata": {},
   "source": [
    "___"
   ]
  },
  {
   "cell_type": "markdown",
   "metadata": {},
   "source": [
    "Fix null value"
   ]
  },
  {
   "cell_type": "code",
   "execution_count": 4,
   "metadata": {},
   "outputs": [
    {
     "data": {
      "text/plain": [
       "ver         321824\n",
       "city         15193\n",
       "province     55973\n",
       "osv          12997\n",
       "lan         367527\n",
       "dtype: int64"
      ]
     },
     "execution_count": 4,
     "metadata": {},
     "output_type": "execute_result"
    }
   ],
   "source": [
    "null_value_stats = df.isnull().sum(axis=0)\n",
    "null_value_stats[null_value_stats != 0]"
   ]
  },
  {
   "cell_type": "code",
   "execution_count": 5,
   "metadata": {},
   "outputs": [],
   "source": [
    "def cols_to_fix():\n",
    "    for c in df.columns:\n",
    "        if df[c].dtype == \"object\":\n",
    "            df[c] = df[c].fillna(\"nan\")\n",
    "        else:\n",
    "            df[c] = df[c].fillna(0.0)\n",
    "\n",
    "cols_to_fix()"
   ]
  },
  {
   "cell_type": "code",
   "execution_count": 6,
   "metadata": {},
   "outputs": [],
   "source": [
    "traindata_x = df.drop(['label'],axis=1)\n",
    "traindata_y = df['label']"
   ]
  },
  {
   "cell_type": "markdown",
   "metadata": {},
   "source": [
    "One of the special characteristics of CatBoost model is the ability to tackle non-numeric data directly. We do not need to do any convertion of categorical data which is a must for other algorithms like randomforest, logistic regression, etc.  \n",
    "\n",
    "Separate categorical/nominal columns as we need to specify them in the CatBoost model. "
   ]
  },
  {
   "cell_type": "code",
   "execution_count": 9,
   "metadata": {},
   "outputs": [],
   "source": [
    "catCol = ['pkgname', 'ver', 'adunitshowid', 'mediashowid', 'apptype', 'ip',\n",
    "       'city', 'province', 'reqrealip', 'adidmd5', 'imeimd5', 'openudidmd5',\n",
    "       'macmd5', 'dvctype', 'model', 'make', 'ntt', 'carrier', 'os', 'osv',\n",
    "       'orientation', 'lan',  'date', 'dayofweek', 'hour',\n",
    "       'minute', 'hourtosecond', 'ip_top', 'reqrealip_top', 'apptype_top1',\n",
    "       'apptype_top2',  'osv_clean', 'osv_top1',\n",
    "       'osv_top2', 'osv_top3', 'ver_clean', 'ver_top1', 'ver_top2',\n",
    "       'ver_top3']"
   ]
  },
  {
   "cell_type": "code",
   "execution_count": 10,
   "metadata": {},
   "outputs": [],
   "source": [
    "def ConvertToCat():\n",
    "    for var in catCol:\n",
    "        traindata_x[var] = traindata_x[var].astype('category')\n",
    "ConvertToCat()"
   ]
  },
  {
   "cell_type": "code",
   "execution_count": 11,
   "metadata": {
    "scrolled": true
   },
   "outputs": [
    {
     "name": "stdout",
     "output_type": "stream",
     "text": [
      "pkgname          category\n",
      "ver              category\n",
      "adunitshowid     category\n",
      "mediashowid      category\n",
      "apptype          category\n",
      "ip               category\n",
      "city             category\n",
      "province         category\n",
      "reqrealip        category\n",
      "adidmd5          category\n",
      "imeimd5          category\n",
      "openudidmd5      category\n",
      "macmd5           category\n",
      "dvctype          category\n",
      "model            category\n",
      "make             category\n",
      "ntt              category\n",
      "carrier          category\n",
      "os               category\n",
      "osv              category\n",
      "orientation      category\n",
      "lan              category\n",
      "h                 float64\n",
      "w                 float64\n",
      "ppi               float64\n",
      "date             category\n",
      "dayofweek        category\n",
      "hour             category\n",
      "minute           category\n",
      "hourtosecond     category\n",
      "ip_top           category\n",
      "reqrealip_top    category\n",
      "apptype_top1     category\n",
      "apptype_top2     category\n",
      "h_w               float64\n",
      "hw_ratio          float64\n",
      "inch              float64\n",
      "osv_clean        category\n",
      "osv_top1         category\n",
      "osv_top2         category\n",
      "osv_top3         category\n",
      "ver_clean        category\n",
      "ver_top1         category\n",
      "ver_top2         category\n",
      "ver_top3         category\n",
      "dtype: object\n"
     ]
    }
   ],
   "source": [
    "print(traindata_x.dtypes)"
   ]
  },
  {
   "cell_type": "markdown",
   "metadata": {},
   "source": [
    "### indicate categorical columns"
   ]
  },
  {
   "cell_type": "code",
   "execution_count": 12,
   "metadata": {},
   "outputs": [
    {
     "data": {
      "text/plain": [
       "array([ 0,  1,  2,  3,  4,  5,  6,  7,  8,  9, 10, 11, 12, 13, 14, 15, 16,\n",
       "       17, 18, 19, 20, 21, 25, 26, 27, 28, 29, 30, 31, 32, 33, 37, 38, 39,\n",
       "       40, 41, 42, 43, 44], dtype=int64)"
      ]
     },
     "execution_count": 12,
     "metadata": {},
     "output_type": "execute_result"
    }
   ],
   "source": [
    "categorical_features_indices = np.where(traindata_x.dtypes == 'category')[0]\n",
    "categorical_features_indices"
   ]
  },
  {
   "cell_type": "markdown",
   "metadata": {},
   "source": [
    "### Split train and validation set"
   ]
  },
  {
   "cell_type": "code",
   "execution_count": 13,
   "metadata": {},
   "outputs": [],
   "source": [
    "x_train,x_test,y_train,y_test = train_test_split(traindata_x,traindata_y,train_size=.9,random_state=20,shuffle=True)"
   ]
  },
  {
   "cell_type": "code",
   "execution_count": 14,
   "metadata": {},
   "outputs": [
    {
     "name": "stdout",
     "output_type": "stream",
     "text": [
      "(900000, 45) (900000,) (100000, 45) (100000,)\n"
     ]
    }
   ],
   "source": [
    "print(x_train.shape,y_train.shape,x_test.shape,y_test.shape)"
   ]
  },
  {
   "cell_type": "markdown",
   "metadata": {},
   "source": [
    "___"
   ]
  },
  {
   "cell_type": "markdown",
   "metadata": {},
   "source": [
    "## 6.Tune Catboost Model"
   ]
  },
  {
   "cell_type": "markdown",
   "metadata": {},
   "source": [
    "### Simple Model"
   ]
  },
  {
   "cell_type": "code",
   "execution_count": 34,
   "metadata": {},
   "outputs": [],
   "source": [
    "model = CatBoostClassifier(\n",
    "    loss_function='Logloss',\n",
    "    custom_loss=['Logloss', 'AUC'],\n",
    "    eval_metric='F1',\n",
    "    iterations=150,\n",
    "    learning_rate=0.4,\n",
    "    random_state=20, \n",
    "    verbose=10,\n",
    "    train_dir='it_150_lr_0.4'\n",
    "    #use_best_model=False\n",
    ")\n",
    "print('Model params:')\n",
    "print(model.get_params())\n",
    "print()\n",
    "print('Staring training catboost model...')\n",
    "model.fit(\n",
    "    x_train, y_train,\n",
    "    eval_set=(x_test,y_test),\n",
    "    cat_features=categorical_features_indices\n",
    ")\n",
    "print('Best score is:')\n",
    "print(model.best_score_)\n",
    "print('Best iteration is: '+ str(model.best_iteration_))\n",
    "# print('Tree counts of Catboost with best parameters: ' + str(model.tree_count_))"
   ]
  },
  {
   "cell_type": "code",
   "execution_count": null,
   "metadata": {},
   "outputs": [],
   "source": [
    "# you can save model information for using next time without re-runing it\n",
    "model.save_model('catboost_model.dump')\n",
    "model = CatBoostClassifier()\n",
    "model.load_model('catboost_model.dump')"
   ]
  },
  {
   "cell_type": "markdown",
   "metadata": {},
   "source": [
    "### Training with cv"
   ]
  },
  {
   "cell_type": "code",
   "execution_count": 26,
   "metadata": {},
   "outputs": [],
   "source": [
    "params = {\n",
    "    'loss_function':'Logloss',\n",
    "    'custom_metric':['Logloss', 'AUC'],\n",
    "    'iterations': 500,\n",
    "    'learning_rate': 0.1,\n",
    "    'eval_metric': 'F1',\n",
    "    'random_seed': 20,\n",
    "    'use_best_model':True\n",
    "}"
   ]
  },
  {
   "cell_type": "code",
   "execution_count": 27,
   "metadata": {
    "scrolled": true
   },
   "outputs": [
    {
     "name": "stdout",
     "output_type": "stream",
     "text": [
      "Start training cv model...\n",
      "\n",
      "0:\tlearn: 0.9019838\ttest: 0.9046348\tbest: 0.9046348 (0)\ttotal: 21.2s\tremaining: 2h 56m 29s\n",
      "10:\tlearn: 0.9184758\ttest: 0.9225637\tbest: 0.9225637 (10)\ttotal: 3m 48s\tremaining: 2h 49m 33s\n",
      "20:\tlearn: 0.9228003\ttest: 0.9261618\tbest: 0.9261618 (20)\ttotal: 7m 43s\tremaining: 2h 56m 6s\n",
      "30:\tlearn: 0.9245322\ttest: 0.9282521\tbest: 0.9282521 (30)\ttotal: 12m 1s\tremaining: 3h 1m 54s\n",
      "40:\tlearn: 0.9252673\ttest: 0.9290518\tbest: 0.9290518 (40)\ttotal: 16m 17s\tremaining: 3h 2m 18s\n",
      "50:\tlearn: 0.9263197\ttest: 0.9299111\tbest: 0.9299111 (50)\ttotal: 20m 22s\tremaining: 2h 59m 23s\n",
      "60:\tlearn: 0.9270366\ttest: 0.9305007\tbest: 0.9305007 (60)\ttotal: 24m 27s\tremaining: 2h 56m 2s\n",
      "70:\tlearn: 0.9275113\ttest: 0.9309147\tbest: 0.9309166 (68)\ttotal: 28m 24s\tremaining: 2h 51m 37s\n",
      "80:\tlearn: 0.9280130\ttest: 0.9314620\tbest: 0.9314620 (80)\ttotal: 32m 27s\tremaining: 2h 47m 53s\n",
      "90:\tlearn: 0.9285783\ttest: 0.9319354\tbest: 0.9319354 (90)\ttotal: 36m 5s\tremaining: 2h 42m 10s\n",
      "100:\tlearn: 0.9291497\ttest: 0.9324818\tbest: 0.9324818 (100)\ttotal: 39m 45s\tremaining: 2h 37m 4s\n",
      "110:\tlearn: 0.9295235\ttest: 0.9327920\tbest: 0.9327920 (110)\ttotal: 43m 33s\tremaining: 2h 32m 39s\n",
      "120:\tlearn: 0.9298206\ttest: 0.9329955\tbest: 0.9329955 (120)\ttotal: 47m 18s\tremaining: 2h 28m 12s\n",
      "130:\tlearn: 0.9301126\ttest: 0.9331496\tbest: 0.9331496 (130)\ttotal: 51m 7s\tremaining: 2h 24m 1s\n",
      "140:\tlearn: 0.9304934\ttest: 0.9333355\tbest: 0.9333355 (140)\ttotal: 54m 55s\tremaining: 2h 19m 50s\n",
      "150:\tlearn: 0.9308079\ttest: 0.9336231\tbest: 0.9336231 (150)\ttotal: 58m 47s\tremaining: 2h 15m 53s\n",
      "160:\tlearn: 0.9311545\ttest: 0.9338466\tbest: 0.9338466 (160)\ttotal: 1h 2m 42s\tremaining: 2h 12m 2s\n",
      "170:\tlearn: 0.9314310\ttest: 0.9340389\tbest: 0.9340389 (170)\ttotal: 1h 6m 31s\tremaining: 2h 7m 59s\n",
      "180:\tlearn: 0.9316862\ttest: 0.9343192\tbest: 0.9343192 (180)\ttotal: 1h 10m 27s\tremaining: 2h 4m 10s\n",
      "190:\tlearn: 0.9319023\ttest: 0.9344243\tbest: 0.9344243 (190)\ttotal: 1h 14m 16s\tremaining: 2h 9s\n",
      "200:\tlearn: 0.9321104\ttest: 0.9345423\tbest: 0.9345423 (200)\ttotal: 1h 18m 2s\tremaining: 1h 56m 5s\n",
      "210:\tlearn: 0.9322017\ttest: 0.9346463\tbest: 0.9346463 (210)\ttotal: 1h 21m 50s\tremaining: 1h 52m 6s\n",
      "220:\tlearn: 0.9324426\ttest: 0.9348285\tbest: 0.9348285 (220)\ttotal: 1h 25m 45s\tremaining: 1h 48m 15s\n",
      "230:\tlearn: 0.9325956\ttest: 0.9349305\tbest: 0.9349420 (229)\ttotal: 1h 29m 55s\tremaining: 1h 44m 42s\n",
      "240:\tlearn: 0.9327245\ttest: 0.9351349\tbest: 0.9351349 (240)\ttotal: 1h 34m 5s\tremaining: 1h 41m 6s\n",
      "250:\tlearn: 0.9329172\ttest: 0.9352216\tbest: 0.9352216 (250)\ttotal: 1h 37m 56s\tremaining: 1h 37m 9s\n",
      "260:\tlearn: 0.9330035\ttest: 0.9352838\tbest: 0.9352838 (260)\ttotal: 1h 41m 41s\tremaining: 1h 33m 7s\n",
      "270:\tlearn: 0.9331581\ttest: 0.9353698\tbest: 0.9353698 (270)\ttotal: 1h 45m 31s\tremaining: 1h 29m 10s\n",
      "280:\tlearn: 0.9332480\ttest: 0.9354543\tbest: 0.9354543 (280)\ttotal: 1h 49m 28s\tremaining: 1h 25m 19s\n",
      "290:\tlearn: 0.9333134\ttest: 0.9355195\tbest: 0.9355195 (290)\ttotal: 1h 53m 42s\tremaining: 1h 21m 40s\n",
      "300:\tlearn: 0.9334762\ttest: 0.9356103\tbest: 0.9356103 (300)\ttotal: 1h 57m 30s\tremaining: 1h 17m 41s\n",
      "310:\tlearn: 0.9335567\ttest: 0.9356972\tbest: 0.9357027 (308)\ttotal: 2h 1m 21s\tremaining: 1h 13m 44s\n",
      "320:\tlearn: 0.9336208\ttest: 0.9357522\tbest: 0.9357522 (320)\ttotal: 2h 5m 18s\tremaining: 1h 9m 52s\n",
      "330:\tlearn: 0.9337015\ttest: 0.9357957\tbest: 0.9358070 (327)\ttotal: 2h 9m 22s\tremaining: 1h 6m 3s\n",
      "340:\tlearn: 0.9337956\ttest: 0.9358817\tbest: 0.9358876 (338)\ttotal: 2h 13m 11s\tremaining: 1h 2m 6s\n",
      "350:\tlearn: 0.9338722\ttest: 0.9359652\tbest: 0.9359652 (350)\ttotal: 2h 17m 7s\tremaining: 58m 12s\n",
      "360:\tlearn: 0.9339211\ttest: 0.9359886\tbest: 0.9360044 (358)\ttotal: 2h 20m 57s\tremaining: 54m 16s\n",
      "370:\tlearn: 0.9339924\ttest: 0.9360384\tbest: 0.9360384 (370)\ttotal: 2h 24m 57s\tremaining: 50m 24s\n",
      "380:\tlearn: 0.9340731\ttest: 0.9360915\tbest: 0.9360920 (379)\ttotal: 2h 28m 40s\tremaining: 46m 26s\n",
      "390:\tlearn: 0.9341597\ttest: 0.9361173\tbest: 0.9361173 (390)\ttotal: 2h 32m 41s\tremaining: 42m 33s\n",
      "400:\tlearn: 0.9342182\ttest: 0.9361117\tbest: 0.9361478 (393)\ttotal: 2h 36m 31s\tremaining: 38m 38s\n",
      "410:\tlearn: 0.9342762\ttest: 0.9361501\tbest: 0.9361501 (410)\ttotal: 2h 40m 23s\tremaining: 34m 44s\n",
      "420:\tlearn: 0.9343446\ttest: 0.9362072\tbest: 0.9362072 (420)\ttotal: 2h 44m 16s\tremaining: 30m 49s\n",
      "430:\tlearn: 0.9344157\ttest: 0.9362373\tbest: 0.9362463 (429)\ttotal: 2h 48m 8s\tremaining: 26m 55s\n",
      "440:\tlearn: 0.9344849\ttest: 0.9363105\tbest: 0.9363105 (440)\ttotal: 2h 52m 16s\tremaining: 23m 2s\n",
      "450:\tlearn: 0.9345747\ttest: 0.9363465\tbest: 0.9363557 (448)\ttotal: 2h 56m 4s\tremaining: 19m 7s\n",
      "460:\tlearn: 0.9346324\ttest: 0.9363964\tbest: 0.9363974 (459)\ttotal: 3h\tremaining: 15m 13s\n",
      "470:\tlearn: 0.9346998\ttest: 0.9364182\tbest: 0.9364190 (469)\ttotal: 3h 3m 55s\tremaining: 11m 19s\n",
      "480:\tlearn: 0.9347243\ttest: 0.9364406\tbest: 0.9364406 (480)\ttotal: 3h 7m 41s\tremaining: 7m 24s\n",
      "490:\tlearn: 0.9347714\ttest: 0.9364925\tbest: 0.9364925 (490)\ttotal: 3h 11m 36s\tremaining: 3m 30s\n",
      "499:\tlearn: 0.9348314\ttest: 0.9365536\tbest: 0.9365536 (499)\ttotal: 3h 15m 9s\tremaining: 0us\n",
      "\n",
      "Time consuming: 203.09min\n"
     ]
    }
   ],
   "source": [
    "start=time.perf_counter()\n",
    "print('Start training cv model...')\n",
    "print()\n",
    "cv_data = cv(\n",
    "    params = params,\n",
    "    pool = Pool(traindata_x, label=traindata_y, cat_features=categorical_features_indices),\n",
    "    fold_count=3,\n",
    "    shuffle=True,\n",
    "    partition_random_seed=20,\n",
    "    stratified=False,\n",
    "    verbose=10\n",
    ")\n",
    "end=time.perf_counter()\n",
    "print()\n",
    "print('Time consuming: {:.2f}min'.format((end-start)/60))"
   ]
  },
  {
   "cell_type": "code",
   "execution_count": 33,
   "metadata": {},
   "outputs": [
    {
     "name": "stdout",
     "output_type": "stream",
     "text": [
      "Model params:\n",
      "{'loss_function': 'Logloss', 'custom_metric': ['Logloss', 'AUC'], 'iterations': 500, 'learning_rate': 0.1, 'eval_metric': 'F1', 'random_seed': 20, 'use_best_model': True}\n",
      "\n",
      "Best validation F1 score of cv model: 0.936554±0.0002\n",
      "Best validation Logloss of cv model: 0.576101±0.0006\n",
      "Best validation AUC of cv model: 0.985125±0.0001\n",
      "Best iteration: 499\n"
     ]
    },
    {
     "data": {
      "text/html": [
       "<div>\n",
       "<style scoped>\n",
       "    .dataframe tbody tr th:only-of-type {\n",
       "        vertical-align: middle;\n",
       "    }\n",
       "\n",
       "    .dataframe tbody tr th {\n",
       "        vertical-align: top;\n",
       "    }\n",
       "\n",
       "    .dataframe thead th {\n",
       "        text-align: right;\n",
       "    }\n",
       "</style>\n",
       "<table border=\"1\" class=\"dataframe\">\n",
       "  <thead>\n",
       "    <tr style=\"text-align: right;\">\n",
       "      <th></th>\n",
       "      <th>iterations</th>\n",
       "      <th>test-F1-mean</th>\n",
       "      <th>test-F1-std</th>\n",
       "      <th>train-F1-mean</th>\n",
       "      <th>train-F1-std</th>\n",
       "      <th>test-Logloss-mean</th>\n",
       "      <th>test-Logloss-std</th>\n",
       "      <th>train-Logloss-mean</th>\n",
       "      <th>train-Logloss-std</th>\n",
       "      <th>test-AUC-mean</th>\n",
       "      <th>test-AUC-std</th>\n",
       "    </tr>\n",
       "  </thead>\n",
       "  <tbody>\n",
       "    <tr>\n",
       "      <th>0</th>\n",
       "      <td>0</td>\n",
       "      <td>0.904635</td>\n",
       "      <td>0.000390</td>\n",
       "      <td>0.901984</td>\n",
       "      <td>0.000612</td>\n",
       "      <td>0.576101</td>\n",
       "      <td>0.000204</td>\n",
       "      <td>0.577309</td>\n",
       "      <td>0.000655</td>\n",
       "      <td>0.958149</td>\n",
       "      <td>0.000669</td>\n",
       "    </tr>\n",
       "    <tr>\n",
       "      <th>1</th>\n",
       "      <td>1</td>\n",
       "      <td>0.906132</td>\n",
       "      <td>0.002957</td>\n",
       "      <td>0.904032</td>\n",
       "      <td>0.001926</td>\n",
       "      <td>0.483626</td>\n",
       "      <td>0.003378</td>\n",
       "      <td>0.486290</td>\n",
       "      <td>0.003456</td>\n",
       "      <td>0.966608</td>\n",
       "      <td>0.001205</td>\n",
       "    </tr>\n",
       "    <tr>\n",
       "      <th>2</th>\n",
       "      <td>2</td>\n",
       "      <td>0.909752</td>\n",
       "      <td>0.001971</td>\n",
       "      <td>0.907047</td>\n",
       "      <td>0.001036</td>\n",
       "      <td>0.416538</td>\n",
       "      <td>0.001749</td>\n",
       "      <td>0.419862</td>\n",
       "      <td>0.001501</td>\n",
       "      <td>0.968959</td>\n",
       "      <td>0.000331</td>\n",
       "    </tr>\n",
       "    <tr>\n",
       "      <th>3</th>\n",
       "      <td>3</td>\n",
       "      <td>0.911698</td>\n",
       "      <td>0.001893</td>\n",
       "      <td>0.909141</td>\n",
       "      <td>0.000588</td>\n",
       "      <td>0.365799</td>\n",
       "      <td>0.003243</td>\n",
       "      <td>0.370070</td>\n",
       "      <td>0.002723</td>\n",
       "      <td>0.970377</td>\n",
       "      <td>0.000497</td>\n",
       "    </tr>\n",
       "    <tr>\n",
       "      <th>4</th>\n",
       "      <td>4</td>\n",
       "      <td>0.915003</td>\n",
       "      <td>0.001260</td>\n",
       "      <td>0.911628</td>\n",
       "      <td>0.000500</td>\n",
       "      <td>0.324008</td>\n",
       "      <td>0.006229</td>\n",
       "      <td>0.329716</td>\n",
       "      <td>0.005565</td>\n",
       "      <td>0.972545</td>\n",
       "      <td>0.000904</td>\n",
       "    </tr>\n",
       "  </tbody>\n",
       "</table>\n",
       "</div>"
      ],
      "text/plain": [
       "   iterations  test-F1-mean  test-F1-std  train-F1-mean  train-F1-std  \\\n",
       "0           0      0.904635     0.000390       0.901984      0.000612   \n",
       "1           1      0.906132     0.002957       0.904032      0.001926   \n",
       "2           2      0.909752     0.001971       0.907047      0.001036   \n",
       "3           3      0.911698     0.001893       0.909141      0.000588   \n",
       "4           4      0.915003     0.001260       0.911628      0.000500   \n",
       "\n",
       "   test-Logloss-mean  test-Logloss-std  train-Logloss-mean  train-Logloss-std  \\\n",
       "0           0.576101          0.000204            0.577309           0.000655   \n",
       "1           0.483626          0.003378            0.486290           0.003456   \n",
       "2           0.416538          0.001749            0.419862           0.001501   \n",
       "3           0.365799          0.003243            0.370070           0.002723   \n",
       "4           0.324008          0.006229            0.329716           0.005565   \n",
       "\n",
       "   test-AUC-mean  test-AUC-std  \n",
       "0       0.958149      0.000669  \n",
       "1       0.966608      0.001205  \n",
       "2       0.968959      0.000331  \n",
       "3       0.970377      0.000497  \n",
       "4       0.972545      0.000904  "
      ]
     },
     "execution_count": 33,
     "metadata": {},
     "output_type": "execute_result"
    }
   ],
   "source": [
    "best_value = np.max(cv_data['test-F1-mean'])\n",
    "best_iter = np.argmax(cv_data['test-F1-mean'])\n",
    "print('Model params:')\n",
    "print(params) \n",
    "print()\n",
    "print('Best validation F1 score of cv model: {:.6f}±{:.4f}'.format(\n",
    "    best_value,\n",
    "    cv_data['test-F1-std'][best_iter])\n",
    ")\n",
    "print('Best validation Logloss of cv model: {:.6f}±{:.4f}'.format(\n",
    "    np.max(cv_data['test-Logloss-mean']),\n",
    "    cv_data['test-Logloss-std'][best_iter])\n",
    ")\n",
    "print('Best validation AUC of cv model: {:.6f}±{:.4f}'.format(\n",
    "    np.max(cv_data['test-AUC-mean']),\n",
    "    cv_data['test-AUC-std'][best_iter])\n",
    ")\n",
    "print('Best iteration: {}'.format(best_iter))\n",
    "cv_data.head()"
   ]
  },
  {
   "cell_type": "markdown",
   "metadata": {},
   "source": [
    "### Overfitting detector (early stopping)"
   ]
  },
  {
   "cell_type": "code",
   "execution_count": 15,
   "metadata": {
    "scrolled": true
   },
   "outputs": [
    {
     "name": "stdout",
     "output_type": "stream",
     "text": [
      "Staring training catboost model...\n",
      "0:\tlearn: 0.9014496\ttest: 0.9040733\tbest: 0.9040733 (0)\ttotal: 4.17s\tremaining: 34m 42s\n",
      "10:\tlearn: 0.9199248\ttest: 0.9245672\tbest: 0.9245672 (10)\ttotal: 54.7s\tremaining: 40m 29s\n",
      "20:\tlearn: 0.9239455\ttest: 0.9276165\tbest: 0.9276165 (20)\ttotal: 1m 50s\tremaining: 42m 11s\n",
      "30:\tlearn: 0.9259582\ttest: 0.9295252\tbest: 0.9296335 (29)\ttotal: 2m 56s\tremaining: 44m 26s\n",
      "40:\tlearn: 0.9270137\ttest: 0.9304274\tbest: 0.9304274 (40)\ttotal: 3m 55s\tremaining: 43m 53s\n",
      "50:\tlearn: 0.9279284\ttest: 0.9311954\tbest: 0.9311954 (50)\ttotal: 4m 53s\tremaining: 43m 3s\n",
      "60:\tlearn: 0.9288623\ttest: 0.9319872\tbest: 0.9319872 (60)\ttotal: 5m 56s\tremaining: 42m 47s\n",
      "70:\tlearn: 0.9292382\ttest: 0.9326317\tbest: 0.9326749 (68)\ttotal: 6m 51s\tremaining: 41m 25s\n",
      "80:\tlearn: 0.9298903\ttest: 0.9329703\tbest: 0.9329703 (80)\ttotal: 7m 52s\tremaining: 40m 43s\n",
      "90:\tlearn: 0.9303594\ttest: 0.9333166\tbest: 0.9333166 (90)\ttotal: 8m 44s\tremaining: 39m 16s\n",
      "100:\tlearn: 0.9307108\ttest: 0.9335643\tbest: 0.9335643 (100)\ttotal: 9m 41s\tremaining: 38m 18s\n",
      "110:\tlearn: 0.9310157\ttest: 0.9335795\tbest: 0.9336421 (106)\ttotal: 10m 38s\tremaining: 37m 17s\n",
      "120:\tlearn: 0.9312455\ttest: 0.9339607\tbest: 0.9339607 (120)\ttotal: 11m 34s\tremaining: 36m 14s\n",
      "130:\tlearn: 0.9315482\ttest: 0.9339971\tbest: 0.9339971 (130)\ttotal: 12m 33s\tremaining: 35m 22s\n",
      "140:\tlearn: 0.9319045\ttest: 0.9343434\tbest: 0.9343434 (140)\ttotal: 13m 25s\tremaining: 34m 9s\n",
      "150:\tlearn: 0.9321688\ttest: 0.9345603\tbest: 0.9345603 (150)\ttotal: 14m 16s\tremaining: 33m\n",
      "160:\tlearn: 0.9325114\ttest: 0.9346731\tbest: 0.9346969 (155)\ttotal: 15m 7s\tremaining: 31m 50s\n",
      "170:\tlearn: 0.9327933\ttest: 0.9350051\tbest: 0.9350051 (170)\ttotal: 16m 1s\tremaining: 30m 50s\n",
      "180:\tlearn: 0.9329590\ttest: 0.9350828\tbest: 0.9351188 (173)\ttotal: 16m 56s\tremaining: 29m 51s\n",
      "190:\tlearn: 0.9331564\ttest: 0.9352995\tbest: 0.9353036 (189)\ttotal: 17m 45s\tremaining: 28m 44s\n",
      "200:\tlearn: 0.9333124\ttest: 0.9352713\tbest: 0.9353036 (189)\ttotal: 18m 42s\tremaining: 27m 50s\n",
      "210:\tlearn: 0.9335089\ttest: 0.9354499\tbest: 0.9354499 (210)\ttotal: 19m 40s\tremaining: 26m 57s\n",
      "220:\tlearn: 0.9336024\ttest: 0.9355283\tbest: 0.9355599 (215)\ttotal: 20m 33s\tremaining: 25m 57s\n",
      "230:\tlearn: 0.9338498\ttest: 0.9356578\tbest: 0.9356702 (227)\ttotal: 21m 28s\tremaining: 25m\n",
      "240:\tlearn: 0.9339297\ttest: 0.9357381\tbest: 0.9357381 (240)\ttotal: 22m 17s\tremaining: 23m 57s\n",
      "250:\tlearn: 0.9340050\ttest: 0.9357542\tbest: 0.9357542 (250)\ttotal: 23m 9s\tremaining: 22m 58s\n",
      "260:\tlearn: 0.9341554\ttest: 0.9359462\tbest: 0.9359546 (259)\ttotal: 24m 9s\tremaining: 22m 7s\n",
      "270:\tlearn: 0.9343528\ttest: 0.9360797\tbest: 0.9360797 (270)\ttotal: 25m 3s\tremaining: 21m 10s\n",
      "280:\tlearn: 0.9344288\ttest: 0.9362101\tbest: 0.9362421 (277)\ttotal: 25m 53s\tremaining: 20m 10s\n",
      "290:\tlearn: 0.9345294\ttest: 0.9362350\tbest: 0.9363383 (284)\ttotal: 26m 50s\tremaining: 19m 16s\n",
      "300:\tlearn: 0.9345918\ttest: 0.9362642\tbest: 0.9363383 (284)\ttotal: 27m 47s\tremaining: 18m 22s\n",
      "Stopped by overfitting detector  (20 iterations wait)\n",
      "\n",
      "bestTest = 0.9363383336\n",
      "bestIteration = 284\n",
      "\n",
      "Shrink model to first 285 iterations.\n"
     ]
    },
    {
     "data": {
      "text/plain": [
       "<catboost.core.CatBoostClassifier at 0x1fb0f8c1b00>"
      ]
     },
     "execution_count": 15,
     "metadata": {},
     "output_type": "execute_result"
    },
    {
     "name": "stdout",
     "output_type": "stream",
     "text": [
      "\n",
      "Time consuming: 35.82min\n",
      "\n",
      "Model params:\n"
     ]
    },
    {
     "ename": "NameError",
     "evalue": "name 'model' is not defined",
     "output_type": "error",
     "traceback": [
      "\u001b[1;31m---------------------------------------------------------------------------\u001b[0m",
      "\u001b[1;31mNameError\u001b[0m                                 Traceback (most recent call last)",
      "\u001b[1;32m<ipython-input-15-a789c5799457>\u001b[0m in \u001b[0;36m<module>\u001b[1;34m\u001b[0m\n\u001b[0;32m     23\u001b[0m \u001b[0mprint\u001b[0m\u001b[1;33m(\u001b[0m\u001b[1;33m)\u001b[0m\u001b[1;33m\u001b[0m\u001b[1;33m\u001b[0m\u001b[0m\n\u001b[0;32m     24\u001b[0m \u001b[0mprint\u001b[0m\u001b[1;33m(\u001b[0m\u001b[1;34m'Model params:'\u001b[0m\u001b[1;33m)\u001b[0m\u001b[1;33m\u001b[0m\u001b[1;33m\u001b[0m\u001b[0m\n\u001b[1;32m---> 25\u001b[1;33m \u001b[0mprint\u001b[0m\u001b[1;33m(\u001b[0m\u001b[0mmodel\u001b[0m\u001b[1;33m.\u001b[0m\u001b[0mget_params\u001b[0m\u001b[1;33m(\u001b[0m\u001b[1;33m)\u001b[0m\u001b[1;33m)\u001b[0m\u001b[1;33m\u001b[0m\u001b[1;33m\u001b[0m\u001b[0m\n\u001b[0m\u001b[0;32m     26\u001b[0m \u001b[0mprint\u001b[0m\u001b[1;33m(\u001b[0m\u001b[1;33m)\u001b[0m\u001b[1;33m\u001b[0m\u001b[1;33m\u001b[0m\u001b[0m\n\u001b[0;32m     27\u001b[0m \u001b[0mprint\u001b[0m\u001b[1;33m(\u001b[0m\u001b[1;34m'Best score is:'\u001b[0m\u001b[1;33m)\u001b[0m\u001b[1;33m\u001b[0m\u001b[1;33m\u001b[0m\u001b[0m\n",
      "\u001b[1;31mNameError\u001b[0m: name 'model' is not defined"
     ]
    }
   ],
   "source": [
    "start=time.perf_counter()\n",
    "model_with_early_stop = CatBoostClassifier(\n",
    "    loss_function='Logloss',\n",
    "    custom_loss=['Logloss', 'AUC'],\n",
    "    eval_metric='F1',\n",
    "    iterations=500,\n",
    "    random_seed=20,\n",
    "    learning_rate=0.1,\n",
    "    early_stopping_rounds=20,\n",
    "    train_dir='it_500_lr_0.1'\n",
    ")\n",
    "\n",
    "print('Staring training catboost model...')\n",
    "model_with_early_stop.fit(\n",
    "    x_train, y_train,\n",
    "    cat_features=categorical_features_indices,\n",
    "    eval_set=(x_test, y_test),\n",
    "    verbose=10\n",
    ")\n",
    "end=time.perf_counter()\n",
    "print()\n",
    "print('Time consuming: {:.2f}min'.format((end-start)/60))"
   ]
  },
  {
   "cell_type": "code",
   "execution_count": 16,
   "metadata": {},
   "outputs": [
    {
     "name": "stdout",
     "output_type": "stream",
     "text": [
      "Model params:\n",
      "{'iterations': 500, 'learning_rate': 0.1, 'loss_function': 'Logloss', 'random_seed': 20, 'train_dir': 'it_500_lr_0.1', 'custom_loss': ['Logloss', 'AUC'], 'eval_metric': 'F1', 'early_stopping_rounds': 20}\n",
      "\n",
      "Best score is:\n",
      "{'learn': {'Logloss': 0.1591147718794998, 'F1': 0.934599361877029}, 'validation': {'Logloss': 0.15473743586425584, 'F1': 0.9363383335591948, 'AUC': 0.9849992111102392}}\n",
      "Best iteration is: 284\n",
      "Tree counts of Catboost with best parameters: 285\n"
     ]
    }
   ],
   "source": [
    "print('Model params:')\n",
    "print(model_with_early_stop.get_params())\n",
    "print()\n",
    "print('Best score is:')\n",
    "print(model_with_early_stop.best_score_)\n",
    "print('Best iteration is: '+ str(model_with_early_stop.best_iteration_))\n",
    "print('Tree counts of Catboost with best parameters: ' + str(model_with_early_stop.tree_count_))"
   ]
  },
  {
   "cell_type": "markdown",
   "metadata": {},
   "source": [
    "### Plot auc"
   ]
  },
  {
   "cell_type": "code",
   "execution_count": 37,
   "metadata": {},
   "outputs": [],
   "source": [
    "validate_pool = Pool(x_test, y_test, cat_features=categorical_features_indices)\n",
    "curve = get_roc_curve(model_with_early_stop, validate_pool)\n",
    "(fpr, tpr, thresholds) = curve\n",
    "roc_auc = auc(fpr, tpr)"
   ]
  },
  {
   "cell_type": "code",
   "execution_count": 38,
   "metadata": {
    "scrolled": true
   },
   "outputs": [
    {
     "data": {
      "image/png": "[encoded data removed]",
      "text/plain": [
       "<Figure size 360x288 with 1 Axes>"
      ]
     },
     "metadata": {
      "needs_background": "light"
     },
     "output_type": "display_data"
    }
   ],
   "source": [
    "_=plt.figure(figsize=(5, 4))\n",
    "lw = 2\n",
    "_=plt.plot(fpr, tpr, color='darkorange',\n",
    "         lw=lw, label='ROC curve (area = %0.6f)' % roc_auc, alpha=0.5)\n",
    "_=plt.plot([0, 1], [0, 1], color='navy', lw=lw, linestyle='--', alpha=0.5)\n",
    "_=plt.xlim([0.0, 1.0])\n",
    "_=plt.ylim([0.0, 1.0])\n",
    "_=plt.xticks(fontsize=8)\n",
    "_=plt.yticks(fontsize=8)\n",
    "_=plt.grid(True)\n",
    "_=plt.xlabel('False Positive Rate', fontsize=13)\n",
    "_=plt.ylabel('True Positive Rate', fontsize=13)\n",
    "_=plt.title('Receiver operating characteristic', fontsize=15)\n",
    "_=plt.legend(loc=\"lower right\", fontsize=8)\n",
    "_=plt.show()"
   ]
  },
  {
   "cell_type": "markdown",
   "metadata": {},
   "source": [
    "### Graphing Metrics (F1, LogLoss, AUC) and comparing between models"
   ]
  },
  {
   "cell_type": "code",
   "execution_count": 36,
   "metadata": {},
   "outputs": [],
   "source": [
    "MetricVisualizer(['it_200_lr_0.7','it_300_lr_0.3','it_200_lr_0.5','it_500_lr_0.1']).start()"
   ]
  },
  {
   "cell_type": "markdown",
   "metadata": {},
   "source": [
    "<img style=\"float: left;\" src=\"Catboost-F1-plot.png\" width=70%> "
   ]
  },
  {
   "cell_type": "markdown",
   "metadata": {},
   "source": [
    "### Best scores on different parameters\n",
    "1)  \n",
    "'it_200_lr_0.7'  \n",
    "Model params:  \n",
    "{'iterations': 200, 'learning_rate': 0.7}  \n",
    "Best score is:  \n",
    "{'validation': {'Logloss': 0.16177110710959713, 'F1': 0.9328283669052772, 'AUC': 0.9836359552616086}}  \n",
    "\n",
    "2)  \n",
    "'it_300_lr_0.3'   \n",
    "Model params:  \n",
    "{'iterations': 300, 'learning_rate': 0.3}  \n",
    "Best score is:  \n",
    "{'validation': {'Logloss': 0.15979496946276414, 'F1': 0.9335764902042518, 'AUC': 0.9840637573668797}}  \n",
    "\n",
    "3)  \n",
    "'it_200_lr_0.5_'  \n",
    "Model params:  \n",
    "{'iterations': 200, 'learning_rate': 0.5}  \n",
    "Best score is:  \n",
    "{'validation': {'Logloss': 0.16158135498462647, 'F1': 0.933329170959115, 'AUC': 0.983678392330355}}  \n",
    "Best iteration is: 196  \n",
    "Tree counts of Catboost with best parameters: 197  \n",
    "\n",
    "4)  \n",
    "'it_500_lr_0.1'\n",
    "Model params:  \n",
    "{'iterations': 500, 'learning_rate': 0.1,early_stopping_rounds=20}  \n",
    "Best score is:  \n",
    "{'validation': {'Logloss': 0.15473743586425584, 'F1': 0.9363383335591948, 'AUC': 0.9849992111102392}}  \n",
    "Best iteration is: 284  \n",
    "Tree counts of Catboost with best parameters: 285  \n",
    "Time consuming: 35.82min  \n",
    "\n",
    "5)  \n",
    "**==> BEST  \n",
    "Model params:     \n",
    "{'iterations': 500, 'learning_rate': 0.1, 'cv': 3}  \n",
    "Best validation F1 score of cv model: 0.936554±0.0002  \n",
    "Best validation Logloss of cv model: 0.576101±0.0006  \n",
    "Best validation AUC of cv model: 0.985125±0.0001  \n",
    "Best iteration: 499  \n",
    "Time consuming: 203.09min**  "
   ]
  },
  {
   "cell_type": "markdown",
   "metadata": {},
   "source": [
    "____"
   ]
  },
  {
   "cell_type": "markdown",
   "metadata": {},
   "source": [
    "## 7.Compare best performance between models\n",
    "\n",
    "Best F1 scores on validation set:\n",
    "\n",
    "lgb = 0.936973 > CatBoost = 0.936554 > rf = 0.933681"
   ]
  }
 ],
 "metadata": {
  "kernelspec": {
   "display_name": "Python 3",
   "language": "python",
   "name": "python3"
  },
  "language_info": {
   "codemirror_mode": {
    "name": "ipython",
    "version": 3
   },
   "file_extension": ".py",
   "mimetype": "text/x-python",
   "name": "python",
   "nbconvert_exporter": "python",
   "pygments_lexer": "ipython3",
   "version": "3.7.2"
  },
  "varInspector": {
   "cols": {
    "lenName": 16,
    "lenType": 16,
    "lenVar": 40
   },
   "kernels_config": {
    "python": {
     "delete_cmd_postfix": "",
     "delete_cmd_prefix": "del ",
     "library": "var_list.py",
     "varRefreshCmd": "print(var_dic_list())"
    },
    "r": {
     "delete_cmd_postfix": ") ",
     "delete_cmd_prefix": "rm(",
     "library": "var_list.r",
     "varRefreshCmd": "cat(var_dic_list()) "
    }
   },
   "types_to_exclude": [
    "module",
    "function",
    "builtin_function_or_method",
    "instance",
    "_Feature"
   ],
   "window_display": false
  }
 },
 "nbformat": 4,
 "nbformat_minor": 2
}
