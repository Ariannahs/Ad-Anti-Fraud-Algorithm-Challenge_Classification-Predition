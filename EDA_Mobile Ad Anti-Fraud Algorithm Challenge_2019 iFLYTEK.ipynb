{
 "cells": [
  {
   "cell_type": "markdown",
   "metadata": {},
   "source": [
    "# Mobile Ad Anti-Fraud Algorithm Challenge - Data Analysis (EDA)\n",
    "\n",
    "## 移动广告反欺诈算法挑战赛 数据分析与可视化 \n",
    "-2019 科大讯飞 A.I.开发者挑战赛\n"
   ]
  },
  {
   "cell_type": "markdown",
   "metadata": {},
   "source": [
    "-- Date:   03 Sep 2019  \n",
    "-- Author:   Arianna.H"
   ]
  },
  {
   "cell_type": "markdown",
   "metadata": {},
   "source": [
    "___"
   ]
  },
  {
   "cell_type": "markdown",
   "metadata": {},
   "source": [
    "## Content:\n",
    "\n",
    "- 0.Set configuration  \n",
    "  \n",
    "  \n",
    "- 1.Explore on data  \n",
    "1.1 Read data  \n",
    "1.2 Shape and label distribution   \n",
    "1.3 Feature description  \n",
    "1.4 Identify missing value  \n",
    "1.5 First glimpse of distribution of the data  \n",
    "  \n",
    "  \n",
    "- 2.Data pre-process  \n",
    "-fill missing value with existing columns/external data  \n",
    "-clean punctuation/non-digit character/cases problem  \n",
    "-timestamp\\datatime\\day\\hour transformation  \n",
    "-feature engineering by combining columns  \n",
    "  \n",
    "  \n",
    "- 3.Data visualization  \n",
    "-bar chart  \n",
    "-line chart  \n",
    "-subplotgrid  \n",
    "  \n",
    "  \n",
    "- 4.Prepare dataset for modeling  \n",
    "4.1 Correlation test for feature selection  \n",
    "4.2 Label Encoding for non-numerical column  \n"
   ]
  },
  {
   "cell_type": "markdown",
   "metadata": {},
   "source": [
    "___"
   ]
  },
  {
   "cell_type": "markdown",
   "metadata": {},
   "source": [
    "## 0.Set Configuration"
   ]
  },
  {
   "cell_type": "code",
   "execution_count": 1,
   "metadata": {},
   "outputs": [],
   "source": [
    "from IPython.core.interactiveshell import InteractiveShell\n",
    "InteractiveShell.ast_node_interactivity = \"all\"  #display multiple outputs in one cell\n",
    "\n",
    "import pandas as pd\n",
    "import numpy as np\n",
    "import re  #Regular Expression\n",
    "from datetime import datetime  #timestamp\n",
    "\n",
    "import scipy.stats as stats  #for chi-square\n",
    "from scipy.stats import chi2_contingency  #for chi-square\n",
    "import seaborn as sns  #for ANOVA\n",
    "from scipy import stats  #for ANOVA\n",
    "import statsmodels  #for ANOVA\n",
    "import statsmodels.api as sm  #for ANOVA\n",
    "from statsmodels.formula.api import ols  #for ANOVA\n",
    "from sklearn.preprocessing import LabelEncoder #label encoder\n",
    "\n",
    "pd.set_option('display.max_columns', None)  #display all columns in dataframe\n",
    "pd.set_option('display.max_rows', None)  #display all columns in dataframe"
   ]
  },
  {
   "cell_type": "markdown",
   "metadata": {},
   "source": [
    "____"
   ]
  },
  {
   "cell_type": "markdown",
   "metadata": {},
   "source": [
    "## 1.Explore on dataset"
   ]
  },
  {
   "cell_type": "markdown",
   "metadata": {},
   "source": [
    "### 1.1 Read data"
   ]
  },
  {
   "cell_type": "code",
   "execution_count": 2,
   "metadata": {},
   "outputs": [
    {
     "data": {
      "text/html": [
       "<div>\n",
       "<style scoped>\n",
       "    .dataframe tbody tr th:only-of-type {\n",
       "        vertical-align: middle;\n",
       "    }\n",
       "\n",
       "    .dataframe tbody tr th {\n",
       "        vertical-align: top;\n",
       "    }\n",
       "\n",
       "    .dataframe thead th {\n",
       "        text-align: right;\n",
       "    }\n",
       "</style>\n",
       "<table border=\"1\" class=\"dataframe\">\n",
       "  <thead>\n",
       "    <tr style=\"text-align: right;\">\n",
       "      <th></th>\n",
       "      <th>sid</th>\n",
       "      <th>label</th>\n",
       "      <th>pkgname</th>\n",
       "      <th>ver</th>\n",
       "      <th>adunitshowid</th>\n",
       "      <th>mediashowid</th>\n",
       "      <th>apptype</th>\n",
       "      <th>nginxtime</th>\n",
       "      <th>ip</th>\n",
       "      <th>city</th>\n",
       "      <th>province</th>\n",
       "      <th>reqrealip</th>\n",
       "      <th>adidmd5</th>\n",
       "      <th>imeimd5</th>\n",
       "      <th>idfamd5</th>\n",
       "      <th>openudidmd5</th>\n",
       "      <th>macmd5</th>\n",
       "      <th>dvctype</th>\n",
       "      <th>model</th>\n",
       "      <th>make</th>\n",
       "      <th>ntt</th>\n",
       "      <th>carrier</th>\n",
       "      <th>os</th>\n",
       "      <th>osv</th>\n",
       "      <th>orientation</th>\n",
       "      <th>lan</th>\n",
       "      <th>h</th>\n",
       "      <th>w</th>\n",
       "      <th>ppi</th>\n",
       "    </tr>\n",
       "  </thead>\n",
       "  <tbody>\n",
       "    <tr>\n",
       "      <th>0</th>\n",
       "      <td>d7460126-e071-4979-9ee8-42f72777a28a-156009070...</td>\n",
       "      <td>1</td>\n",
       "      <td>2d2664e827bcbb8b07100c7fbe072e9b</td>\n",
       "      <td>11.11.0</td>\n",
       "      <td>907d0f8c29663840491577a21c7b612a</td>\n",
       "      <td>ca64a500000d84c8fcb8a0587d0e1e0c</td>\n",
       "      <td>280.0</td>\n",
       "      <td>1.560091e+12</td>\n",
       "      <td>183.197.47.83</td>\n",
       "      <td>石家庄市</td>\n",
       "      <td>-1.0</td>\n",
       "      <td>180.76.181.7</td>\n",
       "      <td>eb4fa0cf77cdd57a6993a4e42c8fa4cf</td>\n",
       "      <td>930b3a8ecff4f586c63fec5b96693f32</td>\n",
       "      <td>empty</td>\n",
       "      <td>empty</td>\n",
       "      <td>ab96caaba2b7973e63fb0d3d5c5bf8b0</td>\n",
       "      <td>2.0</td>\n",
       "      <td>V1809A</td>\n",
       "      <td>vivo</td>\n",
       "      <td>2.0</td>\n",
       "      <td>46000.0</td>\n",
       "      <td>Android</td>\n",
       "      <td>8.1.0</td>\n",
       "      <td>0.0</td>\n",
       "      <td>zh-CN</td>\n",
       "      <td>2340.0</td>\n",
       "      <td>1080.0</td>\n",
       "      <td>3.0</td>\n",
       "    </tr>\n",
       "    <tr>\n",
       "      <th>1</th>\n",
       "      <td>b660d559-db97-4b5f-9bd2-2450cb89ce77-156005074...</td>\n",
       "      <td>1</td>\n",
       "      <td>empty</td>\n",
       "      <td>NaN</td>\n",
       "      <td>10199dc8fea2e173525bc3151bd84312</td>\n",
       "      <td>3f2fc57a6e1f9c6fa4464c25cc1e88a3</td>\n",
       "      <td>319.0</td>\n",
       "      <td>1.560051e+12</td>\n",
       "      <td>106.34.14.149</td>\n",
       "      <td>开封市</td>\n",
       "      <td>-1.0</td>\n",
       "      <td>47.95.111.138</td>\n",
       "      <td>a4ae6efcfaee62fb6da44a9c05753259</td>\n",
       "      <td>6e38deaa1f7b4118015c550bb21913d2</td>\n",
       "      <td>empty</td>\n",
       "      <td>a4ae6efcfaee62fb6da44a9c05753259</td>\n",
       "      <td>0f607264fc6318a92b9e13c65db7cd3c</td>\n",
       "      <td>2.0</td>\n",
       "      <td>BLA-AL00</td>\n",
       "      <td>HUAWEI</td>\n",
       "      <td>5.0</td>\n",
       "      <td>0.0</td>\n",
       "      <td>android</td>\n",
       "      <td>Android_9</td>\n",
       "      <td>0.0</td>\n",
       "      <td>NaN</td>\n",
       "      <td>1080.0</td>\n",
       "      <td>2040.0</td>\n",
       "      <td>0.0</td>\n",
       "    </tr>\n",
       "    <tr>\n",
       "      <th>2</th>\n",
       "      <td>f49a740e-66c3-4605-9b67-4d3079fe69cb-156008914...</td>\n",
       "      <td>0</td>\n",
       "      <td>16b81f93f4b1a35cebbf15f07683f171</td>\n",
       "      <td>3.2.1.0524.1958</td>\n",
       "      <td>83f2ecfe65f936f5f2ed59f8e8ff1d01</td>\n",
       "      <td>eea7280e1a2313e4c2e89290b01d196c</td>\n",
       "      <td>273.0</td>\n",
       "      <td>1.560089e+12</td>\n",
       "      <td>223.104.16.151</td>\n",
       "      <td>长春市</td>\n",
       "      <td>-1.0</td>\n",
       "      <td>39.96.159.155</td>\n",
       "      <td>3404f799628be2cf8fda7428aac2cca4</td>\n",
       "      <td>3fa42b06332c729f530b973973fabe3d</td>\n",
       "      <td>empty</td>\n",
       "      <td>empty</td>\n",
       "      <td>5ba1cf1efeee4f83e91f9c0adc3015e3</td>\n",
       "      <td>2.0</td>\n",
       "      <td>PBEM00</td>\n",
       "      <td>OPPO</td>\n",
       "      <td>2.0</td>\n",
       "      <td>46000.0</td>\n",
       "      <td>Android</td>\n",
       "      <td>8.1.0</td>\n",
       "      <td>1.0</td>\n",
       "      <td>zh-CN</td>\n",
       "      <td>2196.0</td>\n",
       "      <td>1080.0</td>\n",
       "      <td>0.0</td>\n",
       "    </tr>\n",
       "  </tbody>\n",
       "</table>\n",
       "</div>"
      ],
      "text/plain": [
       "                                                 sid  label  \\\n",
       "0  d7460126-e071-4979-9ee8-42f72777a28a-156009070...      1   \n",
       "1  b660d559-db97-4b5f-9bd2-2450cb89ce77-156005074...      1   \n",
       "2  f49a740e-66c3-4605-9b67-4d3079fe69cb-156008914...      0   \n",
       "\n",
       "                            pkgname              ver  \\\n",
       "0  2d2664e827bcbb8b07100c7fbe072e9b          11.11.0   \n",
       "1                             empty              NaN   \n",
       "2  16b81f93f4b1a35cebbf15f07683f171  3.2.1.0524.1958   \n",
       "\n",
       "                       adunitshowid                       mediashowid  \\\n",
       "0  907d0f8c29663840491577a21c7b612a  ca64a500000d84c8fcb8a0587d0e1e0c   \n",
       "1  10199dc8fea2e173525bc3151bd84312  3f2fc57a6e1f9c6fa4464c25cc1e88a3   \n",
       "2  83f2ecfe65f936f5f2ed59f8e8ff1d01  eea7280e1a2313e4c2e89290b01d196c   \n",
       "\n",
       "   apptype     nginxtime              ip  city  province      reqrealip  \\\n",
       "0    280.0  1.560091e+12   183.197.47.83  石家庄市      -1.0   180.76.181.7   \n",
       "1    319.0  1.560051e+12   106.34.14.149   开封市      -1.0  47.95.111.138   \n",
       "2    273.0  1.560089e+12  223.104.16.151   长春市      -1.0  39.96.159.155   \n",
       "\n",
       "                            adidmd5                           imeimd5 idfamd5  \\\n",
       "0  eb4fa0cf77cdd57a6993a4e42c8fa4cf  930b3a8ecff4f586c63fec5b96693f32   empty   \n",
       "1  a4ae6efcfaee62fb6da44a9c05753259  6e38deaa1f7b4118015c550bb21913d2   empty   \n",
       "2  3404f799628be2cf8fda7428aac2cca4  3fa42b06332c729f530b973973fabe3d   empty   \n",
       "\n",
       "                        openudidmd5                            macmd5  \\\n",
       "0                             empty  ab96caaba2b7973e63fb0d3d5c5bf8b0   \n",
       "1  a4ae6efcfaee62fb6da44a9c05753259  0f607264fc6318a92b9e13c65db7cd3c   \n",
       "2                             empty  5ba1cf1efeee4f83e91f9c0adc3015e3   \n",
       "\n",
       "   dvctype     model    make  ntt  carrier       os        osv  orientation  \\\n",
       "0      2.0    V1809A    vivo  2.0  46000.0  Android      8.1.0          0.0   \n",
       "1      2.0  BLA-AL00  HUAWEI  5.0      0.0  android  Android_9          0.0   \n",
       "2      2.0    PBEM00    OPPO  2.0  46000.0  Android      8.1.0          1.0   \n",
       "\n",
       "     lan       h       w  ppi  \n",
       "0  zh-CN  2340.0  1080.0  3.0  \n",
       "1    NaN  1080.0  2040.0  0.0  \n",
       "2  zh-CN  2196.0  1080.0  0.0  "
      ]
     },
     "execution_count": 2,
     "metadata": {},
     "output_type": "execute_result"
    }
   ],
   "source": [
    "traindata = pd.read_csv('round1_iflyad_anticheat_traindata.txt',sep = '\\t',encoding = 'utf-8')\n",
    "traindata.head(3)"
   ]
  },
  {
   "cell_type": "markdown",
   "metadata": {},
   "source": [
    "### 1.2 Shape and label distribution  "
   ]
  },
  {
   "cell_type": "code",
   "execution_count": 3,
   "metadata": {},
   "outputs": [
    {
     "data": {
      "text/plain": [
       "(1000000, 29)"
      ]
     },
     "execution_count": 3,
     "metadata": {},
     "output_type": "execute_result"
    },
    {
     "data": {
      "text/plain": [
       "0    517106\n",
       "1    482894\n",
       "Name: label, dtype: int64"
      ]
     },
     "execution_count": 3,
     "metadata": {},
     "output_type": "execute_result"
    }
   ],
   "source": [
    "traindata.shape\n",
    "# label distribution\n",
    "traindata.label.value_counts(dropna=False)"
   ]
  },
  {
   "cell_type": "markdown",
   "metadata": {},
   "source": [
    "**Remarks:** This indicates that no label imbalance exsits in train data."
   ]
  },
  {
   "cell_type": "markdown",
   "metadata": {},
   "source": [
    "### 1.3 Features description\n",
    "\n",
    "* **label:**  \n",
    "基本数据\tlabel\tint\t是否作弊 (contains 1 and 0)    \n",
    "    \n",
    "\n",
    "* **features:**  \n",
    "基本数据\tsid\tstring\t样本id/请求会话sid (unique identification for each request) \n",
    "时间\tnginxtime\tbigint\t请求到达服务时间，单位ms (definition: request processing time in seconds with a milliseconds resolution; time elapsed between the first bytes were read from the client and the log write after the last bytes were sent to the client)  \n",
    "媒体信息\tadunitshowid\tstring\t对外广告位ID（MD5加密）    \n",
    "媒体信息\tmediashowid\tstring\t对外媒体ID（MD5加密）       \n",
    "媒体信息\tpkgname\tstring\t包名(MD5加密) \n",
    "媒体信息\tapptype\tint\tapp所属分类    \n",
    "媒体信息\tver\tstring\tapp版本    \n",
    "IP信息\tip\tstring\t客户端IP地址    \n",
    "IP信息\treqrealip\tstring\t请求的http协议头携带IP，有可能是下游服务器的ip  \n",
    "IP信息\tcity\tstring\t城市     \n",
    "IP信息\tprovince\tstring\t省份   \n",
    "设备信息\tmake\tstring\t厂商  \n",
    "设备信息\tmodel\tstring\t机型  \n",
    "设备信息\tadidmd5\tstring\tAdroid ID的MD5值  \n",
    "设备信息\timeimd5\tstring\timei的MD5值  \n",
    "设备信息\tidfamd5\tstring\tidfa的MD5值  \n",
    "设备信息\topenudidmd5\tstring\topenudid的MD5值  \n",
    "设备信息\tmacmd5\tstring\tmac的MD5值  \n",
    "设备信息\tos\tstring\t操作系统 : Android, iOS  \n",
    "设备信息\tosv\tstring\t操作系统版本  \n",
    "设备信息\tdvctype\tint\t设备类型 0 – 未知,1 – PC,2 – 手机, 3– 平板,4– 电视盒,5– 智能电视,6 – 可穿戴设备,7 – 智能家电,8 - 音箱,9 - 智能硬件    \n",
    "设备信息\tntt\tint\t网络类型 0-未知, 1-有线网, 2-WIFI, 3-蜂窝网络未知, 4-2G, 5-3G, 6–4G    \n",
    "设备信息\tcarrier\tstring\t运营商 0-未知, 46000-移动, 46001-联通, 46003-电信    \n",
    "设备信息\tlan\tstring\t语言  \n",
    "设备信息\torientation\tint\t横竖屏:0竖屏，1横屏   \n",
    "设备信息\th\tint\t设备高    \n",
    "设备信息\tw\tint\t设备宽  \n",
    "设备信息\tppi\tint\t屏幕密度  "
   ]
  },
  {
   "cell_type": "markdown",
   "metadata": {},
   "source": [
    "### 1.4 Identify missing value and 'empty' values  "
   ]
  },
  {
   "cell_type": "code",
   "execution_count": 3,
   "metadata": {
    "scrolled": true
   },
   "outputs": [
    {
     "data": {
      "text/html": [
       "<div>\n",
       "<style scoped>\n",
       "    .dataframe tbody tr th:only-of-type {\n",
       "        vertical-align: middle;\n",
       "    }\n",
       "\n",
       "    .dataframe tbody tr th {\n",
       "        vertical-align: top;\n",
       "    }\n",
       "\n",
       "    .dataframe thead th {\n",
       "        text-align: right;\n",
       "    }\n",
       "</style>\n",
       "<table border=\"1\" class=\"dataframe\">\n",
       "  <thead>\n",
       "    <tr style=\"text-align: right;\">\n",
       "      <th></th>\n",
       "      <th>index</th>\n",
       "      <th>missing_count</th>\n",
       "    </tr>\n",
       "  </thead>\n",
       "  <tbody>\n",
       "    <tr>\n",
       "      <th>25</th>\n",
       "      <td>lan</td>\n",
       "      <td>367527</td>\n",
       "    </tr>\n",
       "    <tr>\n",
       "      <th>3</th>\n",
       "      <td>ver</td>\n",
       "      <td>321824</td>\n",
       "    </tr>\n",
       "    <tr>\n",
       "      <th>19</th>\n",
       "      <td>make</td>\n",
       "      <td>123839</td>\n",
       "    </tr>\n",
       "    <tr>\n",
       "      <th>9</th>\n",
       "      <td>city</td>\n",
       "      <td>15193</td>\n",
       "    </tr>\n",
       "    <tr>\n",
       "      <th>23</th>\n",
       "      <td>osv</td>\n",
       "      <td>12997</td>\n",
       "    </tr>\n",
       "    <tr>\n",
       "      <th>18</th>\n",
       "      <td>model</td>\n",
       "      <td>4467</td>\n",
       "    </tr>\n",
       "  </tbody>\n",
       "</table>\n",
       "</div>"
      ],
      "text/plain": [
       "    index  missing_count\n",
       "25    lan         367527\n",
       "3     ver         321824\n",
       "19   make         123839\n",
       "9    city          15193\n",
       "23    osv          12997\n",
       "18  model           4467"
      ]
     },
     "execution_count": 3,
     "metadata": {},
     "output_type": "execute_result"
    }
   ],
   "source": [
    "## identify the columns with missing values \n",
    "def get_missing_columns():\n",
    "    missing_df = traindata.isna().sum(axis=0).to_frame()\n",
    "    missing_df = missing_df.reset_index().rename(columns = {0:\"missing_count\"})\n",
    "    missing_df = missing_df.sort_values(\"missing_count\", ascending = False)\n",
    "    missing_df = missing_df[missing_df[\"missing_count\"] > 0]\n",
    "    return missing_df\n",
    "\n",
    "get_missing_columns()"
   ]
  },
  {
   "cell_type": "code",
   "execution_count": 4,
   "metadata": {},
   "outputs": [],
   "source": [
    "## fill missing values\n",
    "def cols_to_fix():\n",
    "    for c in traindata.columns:\n",
    "        if traindata[c].dtype == \"object\":\n",
    "            traindata[c] = traindata[c].fillna(\"nan\")\n",
    "        else:\n",
    "            traindata[c] = traindata[c].fillna(0.0)\n",
    "\n",
    "cols_to_fix()"
   ]
  },
  {
   "cell_type": "markdown",
   "metadata": {},
   "source": [
    "### 1.5 First glimpse of distribution of the data"
   ]
  },
  {
   "cell_type": "markdown",
   "metadata": {},
   "source": [
    "To analyze the dataset, we need to explore the correlation between the features and the label. Since many of the features are strings, we can check the correlation in an indiract way by looking into the distribution of label counts or label percentage of the features' unique values. \n",
    "\n",
    "Split train data into label_1 and label_0 to check if distributions of variables change due to diffenrent labels.  "
   ]
  },
  {
   "cell_type": "code",
   "execution_count": 6,
   "metadata": {},
   "outputs": [
    {
     "data": {
      "text/plain": [
       "Android    0.501831\n",
       "android    0.498169\n",
       "Name: os, dtype: float64"
      ]
     },
     "execution_count": 6,
     "metadata": {},
     "output_type": "execute_result"
    },
    {
     "data": {
      "text/plain": [
       "android    0.708437\n",
       "Android    0.291563\n",
       "Name: os, dtype: float64"
      ]
     },
     "execution_count": 6,
     "metadata": {},
     "output_type": "execute_result"
    }
   ],
   "source": [
    "label_1 = traindata.loc[traindata.label==1,:]\n",
    "label_0 = traindata.loc[traindata.label==0,:]\n",
    "label_1.os.value_counts(normalize=True,dropna=False).head()\n",
    "label_0.os.value_counts(normalize=True,dropna=False).head()"
   ]
  },
  {
   "cell_type": "markdown",
   "metadata": {},
   "source": [
    "Here, I clustered the features by degree of correlation between predictor variables and target variable:   \n",
    "  \n",
    "* **HIGH importance:**  \n",
    "'ver':  large percentage(1st: 40%), large distribution difference(1st: ±30%) => HIGH importance   \n",
    "'apptype':  large percentage(1st: 30%), large difference(1st: ±30%) => HIGH importance  \n",
    "'dvctype':  large percentage('2'takes up 90%), large difference(1st: ±20%) => HIGH importance  \n",
    "'make':  large percentage(1st: 30%), large difference(1st: ±30%) => HIGH importance  \n",
    "'os':  large percentage(1st: 70%), large difference(1st & 2nd: ±20%) => HIGH importance  \n",
    "'orientation':  large percentage(1st: 80%), large difference(1st & 2nd: ±20%) => HIGH importance  \n",
    "'lan':  large percentage(1st: 60%), large difference(1st: ±40%) => HIGH importance  \n",
    "'h':  large percentage(1st: 30%), large difference(1st: ±20%) => HIGH importance  \n",
    "'pkgname': large percetage('empty'takes up 30%), large difference(2nd: ±30%) => HIGH importance    \n",
    "'mediashowid': large percetage(1st: 30%), large difference(1st: ±30%) => HIGH importance    \n",
    "   \n",
    "   \n",
    "* **MEDIUM importance:**    \n",
    "'osv':  large percentage(1st: 30%), medium differences(1st & 2nd: ±10%) => MEDIUM importance  \n",
    "'reqrealip':  medium percentage(1st: 10%), medium difference(1st: ±10%) => MEDIUM importance    \n",
    "'adidmd5': large percetage('empty': 30%), medium difference(1st: ±10%) => MEDIUM importance    \n",
    "'macmd5': large percetage('empty': 30%), medium difference(1st: ±10%) => MEDIUM importance  \n",
    "'ntt':  large percetage(1st: 60%), small difference(3rd ±10%) => MEDIUM importance   \n",
    "'carrier':  large percetage(1st: 70%), small difference(2nd ±7%) => MEDIUM importance   \n",
    "'w': large percentage(1st: 40%),  medium difference(2nd ±20%) => MEDIUM importance  \n",
    "   \n",
    "   \n",
    "* **LOW importance:** *(consider to increase their correlations by feature engineering)*    \n",
    "'ip':  small percentage(1st: 0.3%), almost no difference(after top 5: ±0.2%) => LOW importance   \n",
    "'city':  small percentage(1st: 3%), almost no difference(4th: ±2%) => LOW importance   \n",
    "'province':  large percentage('-1' takes up 90%), almost no difference(after top 5: ±0.2%) => LOW importance   \n",
    "'model':  small percentage(1st: 2%), small difference(2rd ±0.8%) => LOW importance   \n",
    "'ppi':  large percentage(1st: 70%), almost on difference in top 5 values(after top 5: ±0.4%) => LOW importance  \n",
    "'adunitshowid': small percetage(1st: 8%), small difference(unique value vary) => LOW importance     \n",
    "'imeimd5': small percentage(1st: 1%) and difference(1st: ±1%) => LOW importance     \n",
    "'idfamd5', 'openudidmd5': large percentage('empty'takes up 90%) with very small difference(1st: ±5%,others: ±0.01%) => LOW importance     \n",
    "'nginxtime': timestamp(very sparse) => LOW importance     "
   ]
  },
  {
   "cell_type": "markdown",
   "metadata": {},
   "source": [
    "___"
   ]
  },
  {
   "cell_type": "markdown",
   "metadata": {},
   "source": [
    "## 2. Data pre-process"
   ]
  },
  {
   "cell_type": "markdown",
   "metadata": {},
   "source": [
    "This dataset is a great example for you to practice your data cleaning skills, because it contains various forms of data, e.g. floating numbers, timestamp, strings, Chinese/English characters, alphabets in upper/lower cases, etc. Get your hands dirty ;)\n",
    "\n",
    "#### Data Cleaning:  \n",
    "For string data ['city','province' 'model', 'make', 'lan']: clean disordered characters/cases/punctuations and try to fill null values  \n",
    "For timeseries data ['nginxtime']: transform it into datatime form    \n",
    "For numeric data ['apptype','h','w','ppi']: clean non-digit and set null values to 0   \n",
    "For ip/version data ['ip', 'reqrealip', 'ver','osv']: clean punctuations  \n",
    "For id data ['pkgname', 'adunitshowid', 'mediashowid', 'adidmd5', 'imeimd5', 'idfamd5', 'openudidmd5', 'macmd5']: clean punctuations  and extact top 3 digits  \n",
    "\n",
    "\n",
    "#### Feature engineering:  \n",
    "['h_w','hw_ratio','inch']: use 'h','w','ppi' to calculate device size, ratio and inch  \n",
    "['apptype_top1', 'apptype_top2']: extract top 1, 2 digits, convert 'apptype_top2' to int  \n",
    "['osv_top1', 'osv_top2', 'osv_top3']:  extract top 1, 2, 3 digits, convert 'osv_top2', 'osv_top3' to int  \n",
    "['ip_top', 'reqrealip_top']: extract top 1 string after splitting and convert them to integer  \n",
    "['date','dayofweek','hour','hourtominute','hourtosecond']: extract different types of time values from datatime"
   ]
  },
  {
   "cell_type": "markdown",
   "metadata": {},
   "source": [
    "#### 2.1 fill na value of 'province' with external data containing city-province information using mapping"
   ]
  },
  {
   "cell_type": "code",
   "execution_count": 5,
   "metadata": {},
   "outputs": [],
   "source": [
    "# import external data\n",
    "province = pd.read_csv('province_city.csv',usecols=[0,1])\n",
    "province.columns = ['province', 'city']\n",
    "\n",
    "# create dictionary for mapping\n",
    "mydict = dict(zip(province.city, province.province))\n",
    "traindata.province = traindata.city.map(mydict)\n",
    "traindata.province = traindata.province.fillna(\"nan\")"
   ]
  },
  {
   "cell_type": "code",
   "execution_count": 59,
   "metadata": {},
   "outputs": [
    {
     "data": {
      "text/plain": [
       "广东省    0.089094\n",
       "江苏省    0.083905\n",
       "山东省    0.066762\n",
       "nan    0.056557\n",
       "河南省    0.055822\n",
       "Name: province, dtype: float64"
      ]
     },
     "execution_count": 59,
     "metadata": {},
     "output_type": "execute_result"
    },
    {
     "data": {
      "text/plain": [
       "广东省    0.090815\n",
       "江苏省    0.073573\n",
       "河南省    0.064776\n",
       "浙江省    0.057977\n",
       "nan    0.055428\n",
       "Name: province, dtype: float64"
      ]
     },
     "execution_count": 59,
     "metadata": {},
     "output_type": "execute_result"
    }
   ],
   "source": [
    "label_1 = traindata.loc[traindata.label==1,:]\n",
    "label_0 = traindata.loc[traindata.label==0,:]\n",
    "label_1.province.value_counts(normalize=True,dropna=False).head()\n",
    "label_0.province.value_counts(normalize=True,dropna=False).head()"
   ]
  },
  {
   "cell_type": "markdown",
   "metadata": {},
   "source": [
    "#### 2.2 fill null values of 'make' with corresponding values in 'model' column"
   ]
  },
  {
   "cell_type": "code",
   "execution_count": 6,
   "metadata": {},
   "outputs": [],
   "source": [
    "traindata.make = traindata.make.str.upper()\n",
    "traindata.model = traindata.model.str.upper()\n",
    "traindata.make = np.where((traindata.model.str.contains('OPPO') | \n",
    "                            traindata.model.str.contains(r'P.+[00]$',regex=True)),'OPPO',traindata.make)\n",
    "traindata.make = np.where((traindata.model.str.contains('VIVO') |\n",
    "                            traindata.model.str.contains(r'^V.+[A-Z]$',regex=True)),'VIVO',traindata.make)\n",
    "traindata.make = np.where((traindata.model.str.contains('HUAWEI') | \n",
    "                             traindata.model.str.contains(r'-AL',regex=True) | \n",
    "                             traindata.model.str.contains(r'-TL',regex=True) |\n",
    "                             traindata.make.str.contains('华为')),'HUAWEI',traindata.make)\n",
    "traindata.make = np.where((traindata.make.str.contains('360手机') |\n",
    "                            traindata.model.str.contains(r'^\\d.+[-A].+\\d$',regex=True) |\n",
    "                            traindata.model.str.contains(r'^\\d.+[-M].+\\d$',regex=True)),'360',traindata.make)\n",
    "traindata.make = np.where((traindata.make.str.contains('金立') |\n",
    "                            traindata.model.str.contains('GIONEE') |\n",
    "                            traindata.model.str.contains('S9')),'GIONEE',traindata.make)\n",
    "traindata.make = np.where((traindata.model.str.contains('SM') |\n",
    "                             traindata.make.str.contains('三星')),'SAMSUNG',traindata.make)\n",
    "traindata.make = np.where((traindata.model.str.contains('MI') |\n",
    "                             traindata.make.str.contains('小米')),'XIAOMI',traindata.make)\n",
    "traindata.make = np.where(traindata.make.str.contains('荣耀'),'HONOR',traindata.make)\n",
    "traindata.make = np.where((traindata.model.str.contains('MEIZU') | \n",
    "                            traindata.model.str.contains('16TH') |\n",
    "                            traindata.model.str.contains(r'^M\\d+',regex=True) |\n",
    "                            traindata.make.str.contains('魅族')),'MEIZU',traindata.make)\n",
    "traindata.make = np.where(traindata.make.str.contains('努比亚'),'NUBIA',traindata.make)\n",
    "traindata.make = np.where((traindata.model.str.contains('COOLPAD') | \n",
    "                            traindata.make.str.contains('酷派')),'COOLPAD',traindata.make)\n",
    "traindata.make = np.where((traindata.model.str.contains(r'^O.+\\d$',regex=True) | \n",
    "                            traindata.make.str.contains('锤子')),'SMARTISAN',traindata.make)\n",
    "traindata.make = np.where((traindata.make.str.contains('百立丰') |\n",
    "                            traindata.model.str.contains('LEPHONE')),'LEPHONE',traindata.make)\n",
    "traindata.make = np.where(traindata.make.str.contains('中兴'),'ZTE',traindata.make)\n",
    "traindata.make = np.where(traindata.make.str.contains('联想'),'LENOVO',traindata.make)\n",
    "traindata.make = np.where((traindata.make.str.contains('海信') |\n",
    "                            traindata.model.str.contains('HISENSE')),'HISENSE',traindata.make)\n",
    "traindata.make = np.where(traindata.model.str.contains('YU FLY F9'),'YUPLY',traindata.make) "
   ]
  },
  {
   "cell_type": "markdown",
   "metadata": {},
   "source": [
    "#### 2.3  clean 'lan' column: case, punctuation, character "
   ]
  },
  {
   "cell_type": "code",
   "execution_count": 7,
   "metadata": {},
   "outputs": [],
   "source": [
    "def get_lan(x):\n",
    "    if x ==\"zh_\":\n",
    "        return \"zh\"\n",
    "    elif x ==\"fr\":\n",
    "        return \"others\"\n",
    "    elif x ==\"kr\":\n",
    "        return \"others\"\n",
    "    elif x ==\"in_id\":\n",
    "        return \"others\"\n",
    "    elif x ==\"mi\":\n",
    "        return \"others\"\n",
    "    elif x ==\"zh_mo\":\n",
    "        return \"others\"\n",
    "    elif x ==\"de\":\n",
    "        return \"others\"\n",
    "    elif x ==\"th_th\":\n",
    "        return \"others\"\n",
    "    else:\n",
    "        return x"
   ]
  },
  {
   "cell_type": "code",
   "execution_count": 8,
   "metadata": {},
   "outputs": [],
   "source": [
    "traindata.lan = traindata.lan.str.lower().str.replace('-','_')\n",
    "traindata.lan = np.where(traindata.lan.str.contains('cn'),'zh_cn',traindata.lan)\n",
    "traindata.lan = np.where(traindata.lan.str.contains('tw'),'zh_tw',traindata.lan)\n",
    "traindata.lan = np.where(traindata.lan.str.contains('hk'),'zh_hk',traindata.lan)\n",
    "traindata.lan = np.where(traindata.lan.str.contains('us'),'en_us',traindata.lan)\n",
    "traindata.lan = traindata.lan.apply(lambda x: get_lan(x))"
   ]
  },
  {
   "cell_type": "markdown",
   "metadata": {},
   "source": [
    "#### 2.4 transform 'nginxtime' from timestamp to datatime, and create different time dimensions: date, day of week, hour, minute, hourtosecond"
   ]
  },
  {
   "cell_type": "code",
   "execution_count": 9,
   "metadata": {},
   "outputs": [],
   "source": [
    "traindata['nginxtime_clean'] = pd.to_datetime(traindata.nginxtime, unit='ms')\n",
    "traindata['date'] = traindata.nginxtime_clean.apply(lambda x: x.day)\n",
    "traindata['dayofweek'] = traindata.nginxtime_clean.apply(lambda x: x.isoweekday())\n",
    "traindata['hour'] = traindata.nginxtime_clean.apply(lambda x: x.hour)\n",
    "traindata['minute'] = traindata.nginxtime_clean.apply(lambda x: x.minute)\n",
    "traindata['hourtosecond'] = traindata.nginxtime_clean.apply(lambda x: x.strftime('%H%M%S')).astype(int)"
   ]
  },
  {
   "cell_type": "markdown",
   "metadata": {},
   "source": [
    "#### 2.5 Clean and extract first few digits of 'ip', 'reqrealip', apptype'"
   ]
  },
  {
   "cell_type": "markdown",
   "metadata": {},
   "source": [
    "Suspicious ip:   \n",
    "127.0.0.1 本机地址-测试 => all label1  \n",
    "18.219.51.149 美国 哥伦比亚 => all label1  \n",
    "192.168.(0.100) 本地局域网 => 90% label1  \n",
    "10.(130.113.70) 本地局域网 => 90% label1  \n",
    "\n",
    "This indicates that the top one or two parts before the punctuation '.' of ip can represent specific locations."
   ]
  },
  {
   "cell_type": "code",
   "execution_count": 10,
   "metadata": {},
   "outputs": [],
   "source": [
    "#'ip'\n",
    "traindata['ip_top'] = np.where(traindata['ip'].str.contains(':'),'0.',traindata['ip'])\n",
    "traindata['ip_top'] = traindata['ip_top'].apply(lambda x: x.split('.')[0]).astype(int)\n",
    "\n",
    "#'reqrealip_top'\n",
    "traindata['reqrealip_top'] = traindata['reqrealip'].apply(lambda x: x.split('.')[0]).astype(int)\n",
    "\n",
    "#'apptype'\n",
    "traindata['apptype_top1'] = traindata['apptype'].apply(lambda x: str(x)[0:1]).apply(lambda x: np.where(x=='-',0,x)).astype(int)\n",
    "traindata['apptype_top2'] = traindata['apptype'].apply(lambda x: str(x)[0:2]).astype(int)"
   ]
  },
  {
   "cell_type": "markdown",
   "metadata": {},
   "source": [
    "#### 2.6 Use h, w, ppi to create new features 'h_w' (size), 'hw_ratio', 'inch'"
   ]
  },
  {
   "cell_type": "code",
   "execution_count": 11,
   "metadata": {},
   "outputs": [],
   "source": [
    "traindata['h_w'] = round((traindata.h * traindata.w),1)\n",
    "traindata['hw_ratio'] = round(traindata.h / traindata.w,1)\n",
    "traindata['hw_ratio'] = traindata['hw_ratio'].fillna(0.0)\n",
    "traindata['inch'] = np.where(traindata.ppi==0.0, 0.0, round(np.sqrt(traindata.h**2 + traindata.w**2) / traindata.ppi,1))"
   ]
  },
  {
   "cell_type": "markdown",
   "metadata": {},
   "source": [
    "#### 2.7 remove non-digit characters in  'osv', 'ver', extract top few digits"
   ]
  },
  {
   "cell_type": "code",
   "execution_count": 12,
   "metadata": {},
   "outputs": [],
   "source": [
    "# remove all non-digit characters\n",
    "def clean_punctuation(x):\n",
    "    x = re.sub(\"\\D\", \"\", x)\n",
    "    if x=='':\n",
    "        return '0'\n",
    "    else:\n",
    "        return x"
   ]
  },
  {
   "cell_type": "code",
   "execution_count": 13,
   "metadata": {},
   "outputs": [],
   "source": [
    "#'osv'\n",
    "traindata['osv_clean'] = traindata['osv'].astype(str).apply(lambda x: clean_punctuation(x))\n",
    "traindata['osv_top1'] = traindata['osv_clean'].apply(lambda x: x[0:1]).astype(int)\n",
    "traindata['osv_top2'] = traindata['osv_clean'].apply(lambda x: x[0:2]).astype(int)\n",
    "traindata['osv_top3'] = traindata['osv_clean'].apply(lambda x: x[0:3]).astype(int)\n",
    "\n",
    "#'ver' \n",
    "traindata['ver_clean'] = traindata['ver'].apply(lambda x: clean_punctuation(x))\n",
    "traindata['ver_top1'] = traindata['ver_clean'].apply(lambda x: x[0:1]).astype(int)\n",
    "traindata['ver_top2'] = traindata['ver_clean'].apply(lambda x: x[0:2]).astype(int)\n",
    "traindata['ver_top3'] = traindata['ver_clean'].apply(lambda x: x[0:3]).astype(int)"
   ]
  },
  {
   "cell_type": "markdown",
   "metadata": {},
   "source": [
    "#### 2.8 remove alphabets in 'id' like columns, extract top 3 digits"
   ]
  },
  {
   "cell_type": "markdown",
   "metadata": {},
   "source": [
    "* The columns that contain 'Empty' values:   \n",
    "pkgname    263239  \n",
    "adunitshowid    296  \n",
    "mediashowid    296  \n",
    "adidmd5    254158  \n",
    "imeimd5    6868  \n",
    "idfamd5    999641  \n",
    "openudidmd5    918400  \n",
    "macmd5    418236  "
   ]
  },
  {
   "cell_type": "code",
   "execution_count": 17,
   "metadata": {},
   "outputs": [],
   "source": [
    "# id_column = ['pkgname','adunitshowid','mediashowid','adidmd5','imeimd5','openudidmd5','macmd5']\n",
    "# for i in id_column:\n",
    "#     traindata[i] = traindata[i].apply(lambda x: clean_punctuation(x)).apply(lambda x: x[0:3]).astype(int)"
   ]
  },
  {
   "cell_type": "markdown",
   "metadata": {},
   "source": [
    "___"
   ]
  },
  {
   "cell_type": "markdown",
   "metadata": {},
   "source": [
    "## 3. Data Visualization\n",
    "have fun with plotting:D"
   ]
  },
  {
   "cell_type": "code",
   "execution_count": 18,
   "metadata": {},
   "outputs": [],
   "source": [
    "label_1 = traindata.loc[traindata.label==1,:]\n",
    "label_0 = traindata.loc[traindata.label==0,:]"
   ]
  },
  {
   "cell_type": "markdown",
   "metadata": {},
   "source": [
    "#### make : Plot make distribution"
   ]
  },
  {
   "cell_type": "code",
   "execution_count": 19,
   "metadata": {},
   "outputs": [],
   "source": [
    "import matplotlib.pyplot as plt  #plot\n",
    "\n",
    "# '_ =' to ignore unwanted output\n",
    "fig = plt.figure()\n",
    "_ = fig.set(alpha=0.5)\n",
    "fig.set_size_inches(12,3)\n",
    "_ = plt.subplot2grid((1,2),(0,0))\n",
    "_ = label_1.make.value_counts().head(10).plot.bar(width=0.4, color='xkcd:lightblue')\n",
    "_ = plt.title(u\"make_label_1\")\n",
    "_ = plt.subplot2grid((1,2),(0,1))\n",
    "_ = label_0.make.value_counts().head(10).plot.bar(width=0.4, color='xkcd:lavender')\n",
    "_ = plt.title(u\"make_label_0\")"
   ]
  },
  {
   "cell_type": "markdown",
   "metadata": {},
   "source": [
    "#### lan : Plot language distribution"
   ]
  },
  {
   "cell_type": "code",
   "execution_count": 20,
   "metadata": {},
   "outputs": [
    {
     "data": {
      "image/png": "[encoded data removed]",
      "text/plain": [
       "<Figure size 720x216 with 2 Axes>"
      ]
     },
     "metadata": {
      "needs_background": "light"
     },
     "output_type": "display_data"
    }
   ],
   "source": [
    "fig = plt.figure()\n",
    "_ = fig.set(alpha=0.5)\n",
    "fig.set_size_inches(10,3)\n",
    "_ = plt.subplot2grid((1,2),(0,0))\n",
    "_ = label_1.lan.value_counts().head().plot.bar(width=0.4, color='xkcd:lightblue')\n",
    "_ = plt.title(u\"lan_label_1\")\n",
    "_ = plt.subplot2grid((1,2),(0,1))\n",
    "_ = label_0.lan.value_counts().head().plot.bar(width=0.4, color='xkcd:lavender')\n",
    "_ = plt.title(u\"lan_label_0\")"
   ]
  },
  {
   "cell_type": "markdown",
   "metadata": {},
   "source": [
    "#### nginxtime : Plot label distribution per day of a week and per hour"
   ]
  },
  {
   "cell_type": "code",
   "execution_count": 21,
   "metadata": {},
   "outputs": [],
   "source": [
    "dayofweek_df = pd.DataFrame(columns = ['dayofweek','label_1', 'label_0', 'label_all', 'label_1_%','label_0_%'])\n",
    "dayofweek_df['dayofweek'] = traindata.dayofweek.sort_values().unique()\n",
    "dayofweek_df['label_1'] = traindata[traindata['label']==1].dayofweek.value_counts().sort_index().tolist()\n",
    "dayofweek_df['label_0'] = traindata[traindata['label']==0].dayofweek.value_counts().sort_index().tolist()\n",
    "dayofweek_df['label_all'] = dayofweek_df['label_1']+dayofweek_df['label_0']\n",
    "dayofweek_df['label_1_%'] = dayofweek_df['label_1']/dayofweek_df['label_all']\n",
    "dayofweek_df['label_0_%'] = dayofweek_df['label_0']/dayofweek_df['label_all']"
   ]
  },
  {
   "cell_type": "code",
   "execution_count": 22,
   "metadata": {},
   "outputs": [],
   "source": [
    "hour_df = pd.DataFrame(columns = ['hour','label_1', 'label_0', 'label_all', 'label_1_%','label_0_%'])\n",
    "hour_df['hour'] = traindata.hour.sort_values().unique()\n",
    "hour_df['label_1'] = traindata.loc[traindata['label']==1].hour.value_counts().sort_index().tolist()\n",
    "hour_df['label_0'] = traindata.loc[traindata['label']==0].hour.value_counts().sort_index().tolist()\n",
    "hour_df['label_all'] = hour_df['label_1']+hour_df['label_0']\n",
    "hour_df['label_1_%'] = hour_df['label_1']/hour_df['label_all']\n",
    "hour_df['label_0_%'] = hour_df['label_0']/hour_df['label_all']"
   ]
  },
  {
   "cell_type": "code",
   "execution_count": 23,
   "metadata": {},
   "outputs": [
    {
     "data": {
      "image/png": "[encoded data removed]",
      "text/plain": [
       "<Figure size 432x288 with 1 Axes>"
      ]
     },
     "metadata": {
      "needs_background": "light"
     },
     "output_type": "display_data"
    }
   ],
   "source": [
    "x = np.arange(len(dayofweek_df['dayofweek']))  # the label locations\n",
    "width = 0.35  # the width of the bars\n",
    "\n",
    "fig, ax = plt.subplots()\n",
    "fig.set_size_inches(6,4)\n",
    "_ = rects1 = ax.bar(x - width/2, dayofweek_df['label_1'], width, label='label_1', color='xkcd:lightblue')\n",
    "_ = rects2 = ax.bar(x + width/2, dayofweek_df['label_0'], width, label='label_0', color='xkcd:lavender')\n",
    "\n",
    "# Add some text for labels, title and custom x-axis tick labels, etc.\n",
    "_ = ax.set_ylabel('Counts')\n",
    "_ = ax.set_title('Distribution of label counts per dayofweek')\n",
    "_ = ax.set_xticks(x)\n",
    "_ = ax.set_xticklabels(dayofweek_df['dayofweek'])\n",
    "_ = ax.legend()\n",
    "\n",
    "fig.tight_layout()\n",
    "plt.show()"
   ]
  },
  {
   "cell_type": "code",
   "execution_count": 24,
   "metadata": {},
   "outputs": [
    {
     "data": {
      "image/png": "[encoded data removed]",
      "text/plain": [
       "<Figure size 864x288 with 1 Axes>"
      ]
     },
     "metadata": {
      "needs_background": "light"
     },
     "output_type": "display_data"
    }
   ],
   "source": [
    "x = np.arange(len(hour_df['hour']))  # the label locations\n",
    "width = 0.35  # the width of the bars\n",
    "\n",
    "fig, ax = plt.subplots()\n",
    "fig.set_size_inches(12,4)\n",
    "_ = rects1 = ax.bar(x - width/2, hour_df['label_1'], width, label='label_1', color='xkcd:lightblue')\n",
    "_ = rects2 = ax.bar(x + width/2, hour_df['label_0'], width, label='label_0', color='xkcd:lavender')\n",
    "\n",
    "# Add some text for labels, title and custom x-axis tick labels, etc.\n",
    "_ = ax.set_ylabel('Counts')\n",
    "_ = ax.set_title('Distribution of label counts per hour')\n",
    "_ = ax.set_xticks(x)\n",
    "_ = ax.set_xticklabels(hour_df['hour'])\n",
    "_ = ax.legend()\n",
    "\n",
    "fig.tight_layout()\n",
    "plt.show()"
   ]
  },
  {
   "cell_type": "code",
   "execution_count": 25,
   "metadata": {},
   "outputs": [
    {
     "data": {
      "image/png": "[encoded data removed]",
      "text/plain": [
       "<Figure size 1080x288 with 2 Axes>"
      ]
     },
     "metadata": {
      "needs_background": "light"
     },
     "output_type": "display_data"
    }
   ],
   "source": [
    "fig = plt.figure()\n",
    "_ = fig.set(alpha=0.5)\n",
    "fig.set_size_inches(15,4)\n",
    "\n",
    "_ = plt.subplot2grid((1,2),(0,0))\n",
    "_ = plt.plot( 'dayofweek', 'label_1_%', data=dayofweek_df, marker='o', markerfacecolor='xkcd:teal', markersize=4, color='xkcd:teal', linewidth=1.5)\n",
    "_ = plt.plot( 'dayofweek', 'label_0_%', data=dayofweek_df, marker='o', markerfacecolor='xkcd:goldenrod', markersize=4, color='xkcd:goldenrod', linewidth=1.5)\n",
    "_ = plt.legend()\n",
    "_ = plt.title(u\"Distribution of label percentages per dayofweek\")\n",
    "\n",
    "_ = plt.subplot2grid((1,2),(0,1))\n",
    "_ = plt.plot( 'hour', 'label_1_%', data=hour_df, marker='o', markerfacecolor='xkcd:azure', markersize=3, color='xkcd:azure', linewidth=1)\n",
    "_ = plt.plot( 'hour', 'label_0_%', data=hour_df, marker='o', markerfacecolor='xkcd:salmon', markersize=3, color='xkcd:salmon', linewidth=1)\n",
    "_ = plt.legend()\n",
    "_ = plt.xticks(np.arange(len(hour_df['hour'])))\n",
    "_ = plt.title(u\"Distribution of label percentages per hour\")\n",
    "\n",
    "plt.show()"
   ]
  },
  {
   "cell_type": "markdown",
   "metadata": {},
   "source": [
    "**Remarks:**\n",
    "\n",
    "The graphs are more intuitive to show the relationships. We can see obviously that there are several features contributing to label 0(if we assume that label 0 refers to fraud)\n",
    "\n",
    "The first two pictures show that fraud behaviour concentrates in OPPO and VIVO, meaning that phones made by these two manufactures are more easily to be made use of in terms of faking ip or others.\n",
    "\n",
    "The second two bar charts show that the suspicious behaviour usually coincides with not defined language, says 'nan', and in general the normal behaviour will display 'chinese' as the language.  \n",
    "\n",
    "Other graphs indicate that the probability of ad fraud changes with hour and day of a week."
   ]
  },
  {
   "cell_type": "markdown",
   "metadata": {},
   "source": [
    "___"
   ]
  },
  {
   "cell_type": "markdown",
   "metadata": {},
   "source": [
    "## 4. Prepare Dataset for modeling\n",
    "### 4.1 Correlation significant test  for feature selection  "
   ]
  },
  {
   "cell_type": "markdown",
   "metadata": {},
   "source": [
    "- #### Chi Square Analysis   \n",
    "\n",
    "Simple correlation test using DateFrame.corr() can only be used in tesing between continuous variables. Given that our label is nominal and so are many independent variables, we use Chi Square analysis to test the correlation between them: According to the P value results, 'sid' and 'idfamd5' are uncorrelated features which should be discarded."
   ]
  },
  {
   "cell_type": "code",
   "execution_count": 74,
   "metadata": {},
   "outputs": [],
   "source": [
    "## Feature Selection    \n",
    "# traindata.columns\n",
    "# traindata.dtypes == 'object'\n",
    "\n",
    "nominalColumns = [ 'sid', 'pkgname', 'ver', 'adunitshowid', 'mediashowid',\n",
    "       'apptype', 'ip', 'city', 'province', 'reqrealip',\n",
    "       'adidmd5', 'imeimd5', 'idfamd5', 'openudidmd5', 'macmd5', 'dvctype',\n",
    "       'model', 'make', 'ntt', 'carrier', 'os', 'osv', 'orientation', 'lan',\n",
    "       'date', 'dayofweek', 'hour',\n",
    "       'minute', 'hourtosecond', 'ip_top', 'reqrealip_top', 'apptype_top1',\n",
    "       'apptype_top2', 'osv_clean', 'osv_top1',\n",
    "       'osv_top2', 'osv_top3', 'ver_clean', 'ver_top1', 'ver_top2',\n",
    "       'ver_top3']"
   ]
  },
  {
   "cell_type": "code",
   "execution_count": 76,
   "metadata": {},
   "outputs": [
    {
     "name": "stdout",
     "output_type": "stream",
     "text": [
      "Staring testing...\n",
      "sid - NOT important predictor. Chi-Statistic: 1000000.00, P-value: 0.4995  ==>  Discard\n",
      "pkgname - IMPORTANT predictor. Chi-Statistic: 407817.87, P-value: 0.0000\n",
      "ver - IMPORTANT predictor. Chi-Statistic: 395837.76, P-value: 0.0000\n",
      "adunitshowid - IMPORTANT predictor. Chi-Statistic: 552043.97, P-value: 0.0000\n",
      "mediashowid - IMPORTANT predictor. Chi-Statistic: 500428.72, P-value: 0.0000\n",
      "apptype - IMPORTANT predictor. Chi-Statistic: 362222.62, P-value: 0.0000\n",
      "ip - IMPORTANT predictor. Chi-Statistic: 787269.08, P-value: 0.0000\n",
      "city - IMPORTANT predictor. Chi-Statistic: 16142.63, P-value: 0.0000\n",
      "province - IMPORTANT predictor. Chi-Statistic: 8908.61, P-value: 0.0000\n",
      "reqrealip - IMPORTANT predictor. Chi-Statistic: 451010.96, P-value: 0.0000\n",
      "adidmd5 - IMPORTANT predictor. Chi-Statistic: 754220.07, P-value: 0.0000\n",
      "imeimd5 - IMPORTANT predictor. Chi-Statistic: 996880.35, P-value: 0.0000\n",
      "idfamd5 - NOT important predictor. Chi-Statistic: 369.80, P-value: 0.3224  ==>  Discard\n",
      "openudidmd5 - IMPORTANT predictor. Chi-Statistic: 80604.47, P-value: 0.0000\n",
      "macmd5 - IMPORTANT predictor. Chi-Statistic: 385148.88, P-value: 0.0000\n",
      "dvctype - IMPORTANT predictor. Chi-Statistic: 185741.11, P-value: 0.0000\n",
      "model - IMPORTANT predictor. Chi-Statistic: 408810.29, P-value: 0.0000\n",
      "make - IMPORTANT predictor. Chi-Statistic: 230965.12, P-value: 0.0000\n",
      "ntt - IMPORTANT predictor. Chi-Statistic: 62160.62, P-value: 0.0000\n",
      "carrier - IMPORTANT predictor. Chi-Statistic: 22695.02, P-value: 0.0000\n",
      "os - IMPORTANT predictor. Chi-Statistic: 46275.12, P-value: 0.0000\n",
      "osv - IMPORTANT predictor. Chi-Statistic: 348172.25, P-value: 0.0000\n",
      "orientation - IMPORTANT predictor. Chi-Statistic: 52635.50, P-value: 0.0000\n",
      "lan - IMPORTANT predictor. Chi-Statistic: 152273.38, P-value: 0.0000\n",
      "date - IMPORTANT predictor. Chi-Statistic: 377.35, P-value: 0.0000\n",
      "dayofweek - IMPORTANT predictor. Chi-Statistic: 372.23, P-value: 0.0000\n",
      "hour - IMPORTANT predictor. Chi-Statistic: 1319.54, P-value: 0.0000\n",
      "minute - IMPORTANT predictor. Chi-Statistic: 98.58, P-value: 0.0009\n",
      "hourtosecond - IMPORTANT predictor. Chi-Statistic: 87366.07, P-value: 0.0005\n",
      "ip_top - IMPORTANT predictor. Chi-Statistic: 4429.45, P-value: 0.0000\n",
      "reqrealip_top - IMPORTANT predictor. Chi-Statistic: 272469.30, P-value: 0.0000\n",
      "apptype_top1 - IMPORTANT predictor. Chi-Statistic: 59159.56, P-value: 0.0000\n",
      "apptype_top2 - IMPORTANT predictor. Chi-Statistic: 292939.44, P-value: 0.0000\n",
      "osv_clean - IMPORTANT predictor. Chi-Statistic: 346120.17, P-value: 0.0000\n",
      "osv_top1 - IMPORTANT predictor. Chi-Statistic: 263725.99, P-value: 0.0000\n",
      "osv_top2 - IMPORTANT predictor. Chi-Statistic: 335951.97, P-value: 0.0000\n",
      "osv_top3 - IMPORTANT predictor. Chi-Statistic: 346083.11, P-value: 0.0000\n",
      "ver_clean - IMPORTANT predictor. Chi-Statistic: 394238.19, P-value: 0.0000\n",
      "ver_top1 - IMPORTANT predictor. Chi-Statistic: 154722.26, P-value: 0.0000\n",
      "ver_top2 - IMPORTANT predictor. Chi-Statistic: 298351.51, P-value: 0.0000\n",
      "ver_top3 - IMPORTANT predictor. Chi-Statistic: 361931.94, P-value: 0.0000\n"
     ]
    }
   ],
   "source": [
    "## Introduce ChiSquare Class     \n",
    "\n",
    "print('Staring testing...')\n",
    "class ChiSquare:\n",
    "    def __init__(self, dataframe):\n",
    "        \n",
    "        self.df = dataframe\n",
    "        self.p = None #P-Value\n",
    "        self.chi2 = None  #Chi Test Statistic\n",
    "        self.dof = None\n",
    "        self.dfObserved = None\n",
    "        self.dfExpected = None\n",
    "        \n",
    "    def _print_chisquare_result(self, colX, alpha):\n",
    "        result = \"\"\n",
    "        if self.p<alpha:\n",
    "            result=\"{} - IMPORTANT predictor. Chi-Statistic: {:.2f}, P-value: {:.4f}\".format(colX,self.chi2,self.p) \n",
    "        else:\n",
    "            result=\"{} - NOT important predictor. Chi-Statistic: {:.2f}, P-value: {:.4f}  ==>  Discard\".format(colX,self.chi2,self.p)\n",
    "\n",
    "        print(result)\n",
    "        \n",
    "    def TestIndependence(self, colX, colY, alpha=0.05):\n",
    "        X = self.df[colX].astype(str)\n",
    "        Y = self.df[colY].astype(str)\n",
    "        \n",
    "        self.dfObserved =  pd.crosstab(Y,X)\n",
    "        chi2, p, dof, expected = stats.chi2_contingency(self.dfObserved.values)\n",
    "        self.p = p\n",
    "        self.chi2 = chi2\n",
    "        self.dof = dof \n",
    "        self.dfExpected = pd.DataFrame(expected, columns=self.dfObserved.columns, index = self.dfObserved.index)\n",
    "        self._print_chisquare_result(colX,alpha)\n",
    "        \n",
    "        \n",
    "## Initialize ChiSquare Class   \n",
    "   \n",
    "cT = ChiSquare(traindata)\n",
    "\n",
    "for var in nominalColumns:\n",
    "    cT.TestIndependence(colX=var, colY='label')"
   ]
  },
  {
   "cell_type": "markdown",
   "metadata": {},
   "source": [
    "- #### ANOVA Analysis  \n",
    "\n",
    "ANOVA cannot prove causation. It can tell us whether the mean value of independent variables of each label group are different at a statistically significant level. In this case taking 'h' for an example, our null hypothesis is that all group mean height are the same.\n",
    "\n",
    "We start by visualizing the impact of each label on the height variable with a box plot usinf Seaborn data visualization package. Figure 1 tells us that label 0 seems to have more zero than label 1 and have larger standard deviations; The mean height of each lable is similar. \n",
    "\n",
    "Analysis of Variance or ANOVA tells us whether the differences in the variance between each label group are statistically significant when compared to the differences within each group.\n",
    "\n",
    "One of the core assumptions with ANOVA is that the dependent variable is normally distributed.   \n",
    "However, the distribution of h is not normal, so ANOVA is not appropriate to use in this situation."
   ]
  },
  {
   "cell_type": "code",
   "execution_count": 77,
   "metadata": {},
   "outputs": [],
   "source": [
    "## Feature Selection    \n",
    "continuousColumns = ['h', 'w', 'ppi', 'h_w', 'hw_ratio', 'inch']"
   ]
  },
  {
   "cell_type": "code",
   "execution_count": 106,
   "metadata": {},
   "outputs": [
    {
     "data": {
      "image/png": "[encoded data removed]",
      "text/plain": [
       "<Figure size 432x288 with 1 Axes>"
      ]
     },
     "metadata": {},
     "output_type": "display_data"
    }
   ],
   "source": [
    "sns.set(font_scale=1.3)  #sets font size for chart scales\n",
    "ax = sns.boxplot(x = \"label\", y = \"h\", data = traindata, # calls the boxplot\n",
    "                 palette=\"Set1\", # sets color scheme \n",
    "                 linewidth = 1.5) # sets chart line width\n",
    "_ = ax.set_title(\"Figure 1. Boxplot of h by label Type\\n\", fontsize=16) # title \n",
    "_ = ax.set_ylabel(\"h\", rotation = 0, fontsize=15, labelpad=30) # y-axis label\n",
    "_ = ax.set_xlabel(\"label\", rotation = 0, fontsize=15) # x-axis label\n",
    "plt.show()"
   ]
  },
  {
   "cell_type": "code",
   "execution_count": 107,
   "metadata": {
    "scrolled": true
   },
   "outputs": [
    {
     "data": {
      "image/png": "[encoded data removed]",
      "text/plain": [
       "<Figure size 432x288 with 1 Axes>"
      ]
     },
     "metadata": {},
     "output_type": "display_data"
    }
   ],
   "source": [
    "_ = plt.hist(traindata['h']) # check for variable normality in h dependent variable. \n",
    "#Data looks not normally distributed.\n",
    "_ = plt.title(\"Figure 2. Distribution of h Variable\\n\")\n",
    "_ = plt.xlabel(\"h\")\n",
    "_ = plt.ylabel(\"Count\\n of labels\", rotation = 0, labelpad = 40)\n",
    "plt.show()"
   ]
  },
  {
   "cell_type": "code",
   "execution_count": 108,
   "metadata": {},
   "outputs": [
    {
     "name": "stdout",
     "output_type": "stream",
     "text": [
      "NormaltestResult(statistic=1373260.835350655, pvalue=0.0)\n"
     ]
    }
   ],
   "source": [
    "# check p-score of normal distribution\n",
    "print(stats.normaltest(traindata['h'], axis=0))"
   ]
  },
  {
   "cell_type": "markdown",
   "metadata": {},
   "source": [
    "Now we create an Ordinary Least Squares (OLS) model as a precursor to the ANOVA.   \n",
    "\n",
    "Before the ANOVA, we check the OLS residuals are normally distributed. This is another important prior assumption:    \n",
    "The residuals look not normal at all. Thus, we cannot run ANOVA here.  "
   ]
  },
  {
   "cell_type": "code",
   "execution_count": 109,
   "metadata": {
    "scrolled": true
   },
   "outputs": [
    {
     "data": {
      "text/plain": [
       "Text(0.5, 1.0, 'Figure 3. Distribution of OLS Model Residuals')"
      ]
     },
     "execution_count": 109,
     "metadata": {},
     "output_type": "execute_result"
    },
    {
     "data": {
      "text/plain": [
       "Text(0.5, 0, 'Residual Values')"
      ]
     },
     "execution_count": 109,
     "metadata": {},
     "output_type": "execute_result"
    },
    {
     "data": {
      "text/plain": [
       "Text(0, 0.5, 'Count')"
      ]
     },
     "execution_count": 109,
     "metadata": {},
     "output_type": "execute_result"
    },
    {
     "data": {
      "image/png": "[encoded data removed]",
      "text/plain": [
       "<Figure size 432x288 with 1 Axes>"
      ]
     },
     "metadata": {},
     "output_type": "display_data"
    }
   ],
   "source": [
    "anova_mod = ols(\"label ~ h\", traindata).fit()\n",
    "resids = statsmodels.regression.linear_model.RegressionResults.resid(anova_mod) # grabs the residual values from the OLS model\n",
    "hist2 = plt.hist(resids, bins = 'auto', color='dodgerblue') # check for variable normality in weight loss dependent variable. \n",
    "#Data looks not normally distributed.\n",
    "_ = plt.title(\"Figure 3. Distribution of OLS Model Residuals\")\n",
    "_ = plt.xlabel(\"Residual Values\")\n",
    "_ = plt.ylabel(\"Count\", rotation = 0, labelpad = 40)\n",
    "plt.show()"
   ]
  },
  {
   "cell_type": "code",
   "execution_count": null,
   "metadata": {},
   "outputs": [],
   "source": [
    "# Call for ANOVA function if residuals are normally distributed.\n",
    "\n",
    "table = sm.stats.anova_lm(model, typ=2) # Type 2 ANOVA DataFrame\n",
    "print(table) \n",
    "\n",
    "# In a one-way ANOVA the null hypothesis is that the means of the Diet types are equal. We can reject that hypothesis\n",
    "# because P < 0.05 "
   ]
  },
  {
   "cell_type": "markdown",
   "metadata": {},
   "source": [
    "### 4.2 Label Encoding for non-numerical columns"
   ]
  },
  {
   "cell_type": "code",
   "execution_count": 14,
   "metadata": {},
   "outputs": [
    {
     "data": {
      "text/plain": [
       "Index(['sid', 'label', 'pkgname', 'ver', 'adunitshowid', 'mediashowid',\n",
       "       'apptype', 'nginxtime', 'ip', 'city', 'province', 'reqrealip',\n",
       "       'adidmd5', 'imeimd5', 'idfamd5', 'openudidmd5', 'macmd5', 'dvctype',\n",
       "       'model', 'make', 'ntt', 'carrier', 'os', 'osv', 'orientation', 'lan',\n",
       "       'h', 'w', 'ppi', 'nginxtime_clean', 'date', 'dayofweek', 'hour',\n",
       "       'minute', 'hourtosecond', 'ip_top', 'reqrealip_top', 'apptype_top1',\n",
       "       'apptype_top2', 'h_w', 'hw_ratio', 'inch', 'osv_clean', 'osv_top1',\n",
       "       'osv_top2', 'osv_top3', 'ver_clean', 'ver_top1', 'ver_top2',\n",
       "       'ver_top3'],\n",
       "      dtype='object')"
      ]
     },
     "execution_count": 14,
     "metadata": {},
     "output_type": "execute_result"
    }
   ],
   "source": [
    "traindata.columns"
   ]
  },
  {
   "cell_type": "code",
   "execution_count": 15,
   "metadata": {},
   "outputs": [],
   "source": [
    "traindata_1 = traindata.loc[:,['label', 'pkgname', 'ver', 'adunitshowid', 'mediashowid',\n",
    "       'apptype', 'ip', 'city', 'province', 'reqrealip',\n",
    "       'adidmd5', 'imeimd5',  'openudidmd5', 'macmd5', 'dvctype',\n",
    "       'model', 'make', 'ntt', 'carrier', 'os', 'osv', 'orientation', 'lan',\n",
    "       'h', 'w', 'ppi', 'date', 'dayofweek', 'hour', 'minute', 'hourtosecond', \n",
    "       'ip_top', 'reqrealip_top', 'apptype_top1', 'apptype_top2', \n",
    "       'h_w', 'hw_ratio', 'inch', 'osv_clean',  'osv_top1', 'osv_top2', 'osv_top3',\n",
    "       'ver_clean', 'ver_top1', 'ver_top2', 'ver_top3']]"
   ]
  },
  {
   "cell_type": "code",
   "execution_count": 17,
   "metadata": {},
   "outputs": [],
   "source": [
    "## Transform non-numerical data to numerical labels (0 to n_classes-1)\n",
    "le = LabelEncoder()\n",
    "for col in traindata_1.columns:\n",
    "    if traindata_1[col].dtype == \"object\":\n",
    "        traindata_1[col] = le.fit_transform(traindata_1[col])"
   ]
  },
  {
   "cell_type": "markdown",
   "metadata": {},
   "source": [
    "Check new dataset with all numeric data:"
   ]
  },
  {
   "cell_type": "code",
   "execution_count": 18,
   "metadata": {},
   "outputs": [
    {
     "data": {
      "text/plain": [
       "(1000000, 50)"
      ]
     },
     "execution_count": 18,
     "metadata": {},
     "output_type": "execute_result"
    },
    {
     "data": {
      "text/plain": [
       "(1000000, 46)"
      ]
     },
     "execution_count": 18,
     "metadata": {},
     "output_type": "execute_result"
    },
    {
     "data": {
      "text/html": [
       "<div>\n",
       "<style scoped>\n",
       "    .dataframe tbody tr th:only-of-type {\n",
       "        vertical-align: middle;\n",
       "    }\n",
       "\n",
       "    .dataframe tbody tr th {\n",
       "        vertical-align: top;\n",
       "    }\n",
       "\n",
       "    .dataframe thead th {\n",
       "        text-align: right;\n",
       "    }\n",
       "</style>\n",
       "<table border=\"1\" class=\"dataframe\">\n",
       "  <thead>\n",
       "    <tr style=\"text-align: right;\">\n",
       "      <th></th>\n",
       "      <th>label</th>\n",
       "      <th>pkgname</th>\n",
       "      <th>ver</th>\n",
       "      <th>adunitshowid</th>\n",
       "      <th>mediashowid</th>\n",
       "      <th>apptype</th>\n",
       "      <th>ip</th>\n",
       "      <th>city</th>\n",
       "      <th>province</th>\n",
       "      <th>reqrealip</th>\n",
       "      <th>adidmd5</th>\n",
       "      <th>imeimd5</th>\n",
       "      <th>openudidmd5</th>\n",
       "      <th>macmd5</th>\n",
       "      <th>dvctype</th>\n",
       "      <th>model</th>\n",
       "      <th>make</th>\n",
       "      <th>ntt</th>\n",
       "      <th>carrier</th>\n",
       "      <th>os</th>\n",
       "      <th>osv</th>\n",
       "      <th>orientation</th>\n",
       "      <th>lan</th>\n",
       "      <th>h</th>\n",
       "      <th>w</th>\n",
       "      <th>ppi</th>\n",
       "      <th>date</th>\n",
       "      <th>dayofweek</th>\n",
       "      <th>hour</th>\n",
       "      <th>minute</th>\n",
       "      <th>hourtosecond</th>\n",
       "      <th>ip_top</th>\n",
       "      <th>reqrealip_top</th>\n",
       "      <th>apptype_top1</th>\n",
       "      <th>apptype_top2</th>\n",
       "      <th>h_w</th>\n",
       "      <th>hw_ratio</th>\n",
       "      <th>inch</th>\n",
       "      <th>osv_clean</th>\n",
       "      <th>osv_top1</th>\n",
       "      <th>osv_top2</th>\n",
       "      <th>osv_top3</th>\n",
       "      <th>ver_clean</th>\n",
       "      <th>ver_top1</th>\n",
       "      <th>ver_top2</th>\n",
       "      <th>ver_top3</th>\n",
       "    </tr>\n",
       "  </thead>\n",
       "  <tbody>\n",
       "    <tr>\n",
       "      <th>0</th>\n",
       "      <td>1</td>\n",
       "      <td>402</td>\n",
       "      <td>174</td>\n",
       "      <td>452</td>\n",
       "      <td>239</td>\n",
       "      <td>280.0</td>\n",
       "      <td>475455</td>\n",
       "      <td>229</td>\n",
       "      <td>17</td>\n",
       "      <td>5102</td>\n",
       "      <td>652267</td>\n",
       "      <td>535931</td>\n",
       "      <td>73758</td>\n",
       "      <td>199768</td>\n",
       "      <td>2.0</td>\n",
       "      <td>6202</td>\n",
       "      <td>816</td>\n",
       "      <td>2.0</td>\n",
       "      <td>46000.0</td>\n",
       "      <td>0</td>\n",
       "      <td>136</td>\n",
       "      <td>0.0</td>\n",
       "      <td>9</td>\n",
       "      <td>2340.0</td>\n",
       "      <td>1080.0</td>\n",
       "      <td>3.0</td>\n",
       "      <td>9</td>\n",
       "      <td>7</td>\n",
       "      <td>14</td>\n",
       "      <td>31</td>\n",
       "      <td>143141</td>\n",
       "      <td>183</td>\n",
       "      <td>180</td>\n",
       "      <td>2</td>\n",
       "      <td>28</td>\n",
       "      <td>2527200.0</td>\n",
       "      <td>2.2</td>\n",
       "      <td>859.1</td>\n",
       "      <td>138</td>\n",
       "      <td>8</td>\n",
       "      <td>81</td>\n",
       "      <td>810</td>\n",
       "      <td>74</td>\n",
       "      <td>1</td>\n",
       "      <td>11</td>\n",
       "      <td>111</td>\n",
       "    </tr>\n",
       "    <tr>\n",
       "      <th>1</th>\n",
       "      <td>1</td>\n",
       "      <td>2174</td>\n",
       "      <td>3180</td>\n",
       "      <td>45</td>\n",
       "      <td>61</td>\n",
       "      <td>319.0</td>\n",
       "      <td>41248</td>\n",
       "      <td>119</td>\n",
       "      <td>18</td>\n",
       "      <td>8127</td>\n",
       "      <td>456711</td>\n",
       "      <td>402019</td>\n",
       "      <td>50767</td>\n",
       "      <td>18010</td>\n",
       "      <td>2.0</td>\n",
       "      <td>602</td>\n",
       "      <td>332</td>\n",
       "      <td>5.0</td>\n",
       "      <td>0.0</td>\n",
       "      <td>1</td>\n",
       "      <td>175</td>\n",
       "      <td>0.0</td>\n",
       "      <td>6</td>\n",
       "      <td>1080.0</td>\n",
       "      <td>2040.0</td>\n",
       "      <td>0.0</td>\n",
       "      <td>9</td>\n",
       "      <td>7</td>\n",
       "      <td>3</td>\n",
       "      <td>25</td>\n",
       "      <td>32540</td>\n",
       "      <td>106</td>\n",
       "      <td>47</td>\n",
       "      <td>3</td>\n",
       "      <td>31</td>\n",
       "      <td>2203200.0</td>\n",
       "      <td>0.5</td>\n",
       "      <td>0.0</td>\n",
       "      <td>140</td>\n",
       "      <td>9</td>\n",
       "      <td>9</td>\n",
       "      <td>9</td>\n",
       "      <td>0</td>\n",
       "      <td>0</td>\n",
       "      <td>0</td>\n",
       "      <td>0</td>\n",
       "    </tr>\n",
       "    <tr>\n",
       "      <th>2</th>\n",
       "      <td>0</td>\n",
       "      <td>230</td>\n",
       "      <td>626</td>\n",
       "      <td>422</td>\n",
       "      <td>282</td>\n",
       "      <td>273.0</td>\n",
       "      <td>563455</td>\n",
       "      <td>296</td>\n",
       "      <td>5</td>\n",
       "      <td>7875</td>\n",
       "      <td>144447</td>\n",
       "      <td>232089</td>\n",
       "      <td>73758</td>\n",
       "      <td>106563</td>\n",
       "      <td>2.0</td>\n",
       "      <td>4816</td>\n",
       "      <td>572</td>\n",
       "      <td>2.0</td>\n",
       "      <td>46000.0</td>\n",
       "      <td>0</td>\n",
       "      <td>136</td>\n",
       "      <td>1.0</td>\n",
       "      <td>9</td>\n",
       "      <td>2196.0</td>\n",
       "      <td>1080.0</td>\n",
       "      <td>0.0</td>\n",
       "      <td>9</td>\n",
       "      <td>7</td>\n",
       "      <td>14</td>\n",
       "      <td>5</td>\n",
       "      <td>140545</td>\n",
       "      <td>223</td>\n",
       "      <td>39</td>\n",
       "      <td>2</td>\n",
       "      <td>27</td>\n",
       "      <td>2371680.0</td>\n",
       "      <td>2.0</td>\n",
       "      <td>0.0</td>\n",
       "      <td>138</td>\n",
       "      <td>8</td>\n",
       "      <td>81</td>\n",
       "      <td>810</td>\n",
       "      <td>1188</td>\n",
       "      <td>3</td>\n",
       "      <td>32</td>\n",
       "      <td>321</td>\n",
       "    </tr>\n",
       "  </tbody>\n",
       "</table>\n",
       "</div>"
      ],
      "text/plain": [
       "   label  pkgname   ver  adunitshowid  mediashowid  apptype      ip  city  \\\n",
       "0      1      402   174           452          239    280.0  475455   229   \n",
       "1      1     2174  3180            45           61    319.0   41248   119   \n",
       "2      0      230   626           422          282    273.0  563455   296   \n",
       "\n",
       "   province  reqrealip  adidmd5  imeimd5  openudidmd5  macmd5  dvctype  model  \\\n",
       "0        17       5102   652267   535931        73758  199768      2.0   6202   \n",
       "1        18       8127   456711   402019        50767   18010      2.0    602   \n",
       "2         5       7875   144447   232089        73758  106563      2.0   4816   \n",
       "\n",
       "   make  ntt  carrier  os  osv  orientation  lan       h       w  ppi  date  \\\n",
       "0   816  2.0  46000.0   0  136          0.0    9  2340.0  1080.0  3.0     9   \n",
       "1   332  5.0      0.0   1  175          0.0    6  1080.0  2040.0  0.0     9   \n",
       "2   572  2.0  46000.0   0  136          1.0    9  2196.0  1080.0  0.0     9   \n",
       "\n",
       "   dayofweek  hour  minute  hourtosecond  ip_top  reqrealip_top  apptype_top1  \\\n",
       "0          7    14      31        143141     183            180             2   \n",
       "1          7     3      25         32540     106             47             3   \n",
       "2          7    14       5        140545     223             39             2   \n",
       "\n",
       "   apptype_top2        h_w  hw_ratio   inch  osv_clean  osv_top1  osv_top2  \\\n",
       "0            28  2527200.0       2.2  859.1        138         8        81   \n",
       "1            31  2203200.0       0.5    0.0        140         9         9   \n",
       "2            27  2371680.0       2.0    0.0        138         8        81   \n",
       "\n",
       "   osv_top3  ver_clean  ver_top1  ver_top2  ver_top3  \n",
       "0       810         74         1        11       111  \n",
       "1         9          0         0         0         0  \n",
       "2       810       1188         3        32       321  "
      ]
     },
     "execution_count": 18,
     "metadata": {},
     "output_type": "execute_result"
    }
   ],
   "source": [
    "traindata.shape\n",
    "traindata_1.shape\n",
    "traindata_1.head(3)"
   ]
  },
  {
   "cell_type": "code",
   "execution_count": 19,
   "metadata": {},
   "outputs": [],
   "source": [
    "traindata_1.to_csv('round1_iflyad_anticheat_train_clean.csv', index=False)"
   ]
  },
  {
   "cell_type": "code",
   "execution_count": null,
   "metadata": {},
   "outputs": [],
   "source": [
    "# delete idle dataframe to save memory\n",
    "#del traindata"
   ]
  },
  {
   "cell_type": "markdown",
   "metadata": {},
   "source": [
    "---  End of EDA part  ---"
   ]
  },
  {
   "cell_type": "markdown",
   "metadata": {},
   "source": [
    "_____"
   ]
  }
 ],
 "metadata": {
  "kernelspec": {
   "display_name": "Python 3",
   "language": "python",
   "name": "python3"
  },
  "language_info": {
   "codemirror_mode": {
    "name": "ipython",
    "version": 3
   },
   "file_extension": ".py",
   "mimetype": "text/x-python",
   "name": "python",
   "nbconvert_exporter": "python",
   "pygments_lexer": "ipython3",
   "version": "3.7.2"
  },
  "varInspector": {
   "cols": {
    "lenName": 16,
    "lenType": 16,
    "lenVar": 40
   },
   "kernels_config": {
    "python": {
     "delete_cmd_postfix": "",
     "delete_cmd_prefix": "del ",
     "library": "var_list.py",
     "varRefreshCmd": "print(var_dic_list())"
    },
    "r": {
     "delete_cmd_postfix": ") ",
     "delete_cmd_prefix": "rm(",
     "library": "var_list.r",
     "varRefreshCmd": "cat(var_dic_list()) "
    }
   },
   "types_to_exclude": [
    "module",
    "function",
    "builtin_function_or_method",
    "instance",
    "_Feature"
   ],
   "window_display": false
  }
 },
 "nbformat": 4,
 "nbformat_minor": 2
}
